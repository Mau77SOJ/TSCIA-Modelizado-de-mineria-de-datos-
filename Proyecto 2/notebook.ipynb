{
 "cells": [
  {
   "cell_type": "markdown",
   "id": "ceea24b2",
   "metadata": {},
   "source": [
    "# Ejercicio Práctico: Análisis de Recompra en una Campaña de Marketing\n",
    "\n",
    "**Objetivo:** Usar técnicas de modelizado y visualización de datos para predecir si un cliente realizará una recompra luego de haber recibido una promoción."
   ]
  },
  {
   "cell_type": "markdown",
   "id": "20968bd4",
   "metadata": {},
   "source": [
    "1. Comprensión del problema <br/>\n",
    "Contexto: Un área de marketing quiere saber si los clientes que recibieron promociones volverán a comprar (recompra), y qué variables influyen más en esa decisión.\n",
    "\n",
    "    Preguntas guía:\n",
    "    - ¿Recibir una promoción realmente influye en la recompra?\n",
    "    - ¿Importa el monto de la promoción?\n",
    "    - ¿Influye la edad o el ingreso?"
   ]
  },
  {
   "cell_type": "code",
   "execution_count": 1,
   "id": "cd0569b0",
   "metadata": {},
   "outputs": [],
   "source": [
    "import pandas as pd"
   ]
  },
  {
   "cell_type": "markdown",
   "id": "f121f516",
   "metadata": {},
   "source": [
    "### Carga y exploración del dataset.\n",
    "\n",
    "En esta etapa, es donde voy a preparar los datos para el posterior análisis.\n",
    "\n",
    "- En primer lugar, voy a leer el dataset `.xlsx` con Pandas\n",
    "- Utilizando la función `.head()`, muestro las primeras 5 filas del DataFrame."
   ]
  },
  {
   "cell_type": "code",
   "execution_count": 65,
   "id": "7c8668f0",
   "metadata": {},
   "outputs": [
    {
     "data": {
      "application/vnd.microsoft.datawrangler.viewer.v0+json": {
       "columns": [
        {
         "name": "index",
         "rawType": "int64",
         "type": "integer"
        },
        {
         "name": "Cliente_ID",
         "rawType": "int64",
         "type": "integer"
        },
        {
         "name": "Genero",
         "rawType": "object",
         "type": "string"
        },
        {
         "name": "Edad",
         "rawType": "int64",
         "type": "integer"
        },
        {
         "name": "Recibio_Promo",
         "rawType": "object",
         "type": "string"
        },
        {
         "name": "Monto_Promo",
         "rawType": "int64",
         "type": "integer"
        },
        {
         "name": "Recompra",
         "rawType": "object",
         "type": "string"
        },
        {
         "name": "Total_Compras",
         "rawType": "int64",
         "type": "integer"
        },
        {
         "name": "Ingreso_Mensual",
         "rawType": "int64",
         "type": "integer"
        }
       ],
       "ref": "b988054d-985f-434e-9383-f831f8223514",
       "rows": [
        [
         "0",
         "1",
         "F",
         "23",
         "Si",
         "500",
         "Si",
         "2",
         "30000"
        ],
        [
         "1",
         "2",
         "M",
         "45",
         "Si",
         "500",
         "Si",
         "2",
         "40000"
        ],
        [
         "2",
         "3",
         "F",
         "60",
         "No",
         "700",
         "No",
         "3",
         "60000"
        ],
        [
         "3",
         "4",
         "M",
         "22",
         "Si",
         "800",
         "No",
         "1",
         "30000"
        ],
        [
         "4",
         "5",
         "M",
         "32",
         "Si",
         "300",
         "Si",
         "2",
         "50000"
        ]
       ],
       "shape": {
        "columns": 8,
        "rows": 5
       }
      },
      "text/html": [
       "<div>\n",
       "<style scoped>\n",
       "    .dataframe tbody tr th:only-of-type {\n",
       "        vertical-align: middle;\n",
       "    }\n",
       "\n",
       "    .dataframe tbody tr th {\n",
       "        vertical-align: top;\n",
       "    }\n",
       "\n",
       "    .dataframe thead th {\n",
       "        text-align: right;\n",
       "    }\n",
       "</style>\n",
       "<table border=\"1\" class=\"dataframe\">\n",
       "  <thead>\n",
       "    <tr style=\"text-align: right;\">\n",
       "      <th></th>\n",
       "      <th>Cliente_ID</th>\n",
       "      <th>Genero</th>\n",
       "      <th>Edad</th>\n",
       "      <th>Recibio_Promo</th>\n",
       "      <th>Monto_Promo</th>\n",
       "      <th>Recompra</th>\n",
       "      <th>Total_Compras</th>\n",
       "      <th>Ingreso_Mensual</th>\n",
       "    </tr>\n",
       "  </thead>\n",
       "  <tbody>\n",
       "    <tr>\n",
       "      <th>0</th>\n",
       "      <td>1</td>\n",
       "      <td>F</td>\n",
       "      <td>23</td>\n",
       "      <td>Si</td>\n",
       "      <td>500</td>\n",
       "      <td>Si</td>\n",
       "      <td>2</td>\n",
       "      <td>30000</td>\n",
       "    </tr>\n",
       "    <tr>\n",
       "      <th>1</th>\n",
       "      <td>2</td>\n",
       "      <td>M</td>\n",
       "      <td>45</td>\n",
       "      <td>Si</td>\n",
       "      <td>500</td>\n",
       "      <td>Si</td>\n",
       "      <td>2</td>\n",
       "      <td>40000</td>\n",
       "    </tr>\n",
       "    <tr>\n",
       "      <th>2</th>\n",
       "      <td>3</td>\n",
       "      <td>F</td>\n",
       "      <td>60</td>\n",
       "      <td>No</td>\n",
       "      <td>700</td>\n",
       "      <td>No</td>\n",
       "      <td>3</td>\n",
       "      <td>60000</td>\n",
       "    </tr>\n",
       "    <tr>\n",
       "      <th>3</th>\n",
       "      <td>4</td>\n",
       "      <td>M</td>\n",
       "      <td>22</td>\n",
       "      <td>Si</td>\n",
       "      <td>800</td>\n",
       "      <td>No</td>\n",
       "      <td>1</td>\n",
       "      <td>30000</td>\n",
       "    </tr>\n",
       "    <tr>\n",
       "      <th>4</th>\n",
       "      <td>5</td>\n",
       "      <td>M</td>\n",
       "      <td>32</td>\n",
       "      <td>Si</td>\n",
       "      <td>300</td>\n",
       "      <td>Si</td>\n",
       "      <td>2</td>\n",
       "      <td>50000</td>\n",
       "    </tr>\n",
       "  </tbody>\n",
       "</table>\n",
       "</div>"
      ],
      "text/plain": [
       "   Cliente_ID Genero  Edad Recibio_Promo  Monto_Promo Recompra  Total_Compras  \\\n",
       "0           1      F    23            Si          500       Si              2   \n",
       "1           2      M    45            Si          500       Si              2   \n",
       "2           3      F    60            No          700       No              3   \n",
       "3           4      M    22            Si          800       No              1   \n",
       "4           5      M    32            Si          300       Si              2   \n",
       "\n",
       "   Ingreso_Mensual  \n",
       "0            30000  \n",
       "1            40000  \n",
       "2            60000  \n",
       "3            30000  \n",
       "4            50000  "
      ]
     },
     "execution_count": 65,
     "metadata": {},
     "output_type": "execute_result"
    }
   ],
   "source": [
    "df = pd.read_excel(\"Mini_Proyecto_Clientes_Promociones.xlsx\")\n",
    "df.head()"
   ]
  },
  {
   "cell_type": "markdown",
   "id": "841bf735",
   "metadata": {},
   "source": [
    "- Ahora, utilizo la función `.info()` para obtener información relevante acerca de las columnas. <br/>\n",
    "Con esto, puedo saber si las columnas estan en un formato correcto, y también observar que no tengan filas con valores nulos."
   ]
  },
  {
   "cell_type": "code",
   "execution_count": 49,
   "id": "80198f51",
   "metadata": {},
   "outputs": [
    {
     "name": "stdout",
     "output_type": "stream",
     "text": [
      "<class 'pandas.core.frame.DataFrame'>\n",
      "RangeIndex: 20 entries, 0 to 19\n",
      "Data columns (total 8 columns):\n",
      " #   Column           Non-Null Count  Dtype \n",
      "---  ------           --------------  ----- \n",
      " 0   Cliente_ID       20 non-null     int64 \n",
      " 1   Genero           20 non-null     object\n",
      " 2   Edad             20 non-null     int64 \n",
      " 3   Recibio_Promo    20 non-null     object\n",
      " 4   Monto_Promo      20 non-null     int64 \n",
      " 5   Recompra         20 non-null     object\n",
      " 6   Total_Compras    20 non-null     int64 \n",
      " 7   Ingreso_Mensual  20 non-null     int64 \n",
      "dtypes: int64(5), object(3)\n",
      "memory usage: 1.4+ KB\n"
     ]
    }
   ],
   "source": [
    "df.info()"
   ]
  },
  {
   "cell_type": "markdown",
   "id": "870bb463",
   "metadata": {},
   "source": [
    "**Observaciones:** El DataFrame no tiene valores nulos. Se puede deducir viendo que en la columna del contador de los no nulos, se puede observar de que todas las columnas cuentan con la misma cantidad de no nulos."
   ]
  },
  {
   "cell_type": "markdown",
   "id": "9ecdd09c",
   "metadata": {},
   "source": [
    "- Con la función `.describe()` generan un resumen estadístico del DataFrame. "
   ]
  },
  {
   "cell_type": "code",
   "execution_count": 50,
   "id": "ad9ea5ee",
   "metadata": {},
   "outputs": [
    {
     "data": {
      "application/vnd.microsoft.datawrangler.viewer.v0+json": {
       "columns": [
        {
         "name": "index",
         "rawType": "object",
         "type": "string"
        },
        {
         "name": "Cliente_ID",
         "rawType": "float64",
         "type": "float"
        },
        {
         "name": "Edad",
         "rawType": "float64",
         "type": "float"
        },
        {
         "name": "Monto_Promo",
         "rawType": "float64",
         "type": "float"
        },
        {
         "name": "Total_Compras",
         "rawType": "float64",
         "type": "float"
        },
        {
         "name": "Ingreso_Mensual",
         "rawType": "float64",
         "type": "float"
        }
       ],
       "ref": "5d554d3e-ea8b-49a4-ab66-96bdd09a2f94",
       "rows": [
        [
         "count",
         "20.0",
         "20.0",
         "20.0",
         "20.0",
         "20.0"
        ],
        [
         "mean",
         "10.5",
         "44.45",
         "560.0",
         "2.8",
         "43000.0"
        ],
        [
         "std",
         "5.916079783099616",
         "16.04754449162009",
         "208.7557121815378",
         "1.3218806379747876",
         "13514.125163967086"
        ],
        [
         "min",
         "1.0",
         "22.0",
         "100.0",
         "1.0",
         "25000.0"
        ],
        [
         "25%",
         "5.75",
         "33.5",
         "475.0",
         "2.0",
         "30000.0"
        ],
        [
         "50%",
         "10.5",
         "43.0",
         "500.0",
         "3.0",
         "42500.0"
        ],
        [
         "75%",
         "15.25",
         "57.0",
         "700.0",
         "3.25",
         "55000.0"
        ],
        [
         "max",
         "20.0",
         "70.0",
         "900.0",
         "6.0",
         "65000.0"
        ]
       ],
       "shape": {
        "columns": 5,
        "rows": 8
       }
      },
      "text/html": [
       "<div>\n",
       "<style scoped>\n",
       "    .dataframe tbody tr th:only-of-type {\n",
       "        vertical-align: middle;\n",
       "    }\n",
       "\n",
       "    .dataframe tbody tr th {\n",
       "        vertical-align: top;\n",
       "    }\n",
       "\n",
       "    .dataframe thead th {\n",
       "        text-align: right;\n",
       "    }\n",
       "</style>\n",
       "<table border=\"1\" class=\"dataframe\">\n",
       "  <thead>\n",
       "    <tr style=\"text-align: right;\">\n",
       "      <th></th>\n",
       "      <th>Cliente_ID</th>\n",
       "      <th>Edad</th>\n",
       "      <th>Monto_Promo</th>\n",
       "      <th>Total_Compras</th>\n",
       "      <th>Ingreso_Mensual</th>\n",
       "    </tr>\n",
       "  </thead>\n",
       "  <tbody>\n",
       "    <tr>\n",
       "      <th>count</th>\n",
       "      <td>20.00000</td>\n",
       "      <td>20.000000</td>\n",
       "      <td>20.000000</td>\n",
       "      <td>20.000000</td>\n",
       "      <td>20.000000</td>\n",
       "    </tr>\n",
       "    <tr>\n",
       "      <th>mean</th>\n",
       "      <td>10.50000</td>\n",
       "      <td>44.450000</td>\n",
       "      <td>560.000000</td>\n",
       "      <td>2.800000</td>\n",
       "      <td>43000.000000</td>\n",
       "    </tr>\n",
       "    <tr>\n",
       "      <th>std</th>\n",
       "      <td>5.91608</td>\n",
       "      <td>16.047544</td>\n",
       "      <td>208.755712</td>\n",
       "      <td>1.321881</td>\n",
       "      <td>13514.125164</td>\n",
       "    </tr>\n",
       "    <tr>\n",
       "      <th>min</th>\n",
       "      <td>1.00000</td>\n",
       "      <td>22.000000</td>\n",
       "      <td>100.000000</td>\n",
       "      <td>1.000000</td>\n",
       "      <td>25000.000000</td>\n",
       "    </tr>\n",
       "    <tr>\n",
       "      <th>25%</th>\n",
       "      <td>5.75000</td>\n",
       "      <td>33.500000</td>\n",
       "      <td>475.000000</td>\n",
       "      <td>2.000000</td>\n",
       "      <td>30000.000000</td>\n",
       "    </tr>\n",
       "    <tr>\n",
       "      <th>50%</th>\n",
       "      <td>10.50000</td>\n",
       "      <td>43.000000</td>\n",
       "      <td>500.000000</td>\n",
       "      <td>3.000000</td>\n",
       "      <td>42500.000000</td>\n",
       "    </tr>\n",
       "    <tr>\n",
       "      <th>75%</th>\n",
       "      <td>15.25000</td>\n",
       "      <td>57.000000</td>\n",
       "      <td>700.000000</td>\n",
       "      <td>3.250000</td>\n",
       "      <td>55000.000000</td>\n",
       "    </tr>\n",
       "    <tr>\n",
       "      <th>max</th>\n",
       "      <td>20.00000</td>\n",
       "      <td>70.000000</td>\n",
       "      <td>900.000000</td>\n",
       "      <td>6.000000</td>\n",
       "      <td>65000.000000</td>\n",
       "    </tr>\n",
       "  </tbody>\n",
       "</table>\n",
       "</div>"
      ],
      "text/plain": [
       "       Cliente_ID       Edad  Monto_Promo  Total_Compras  Ingreso_Mensual\n",
       "count    20.00000  20.000000    20.000000      20.000000        20.000000\n",
       "mean     10.50000  44.450000   560.000000       2.800000     43000.000000\n",
       "std       5.91608  16.047544   208.755712       1.321881     13514.125164\n",
       "min       1.00000  22.000000   100.000000       1.000000     25000.000000\n",
       "25%       5.75000  33.500000   475.000000       2.000000     30000.000000\n",
       "50%      10.50000  43.000000   500.000000       3.000000     42500.000000\n",
       "75%      15.25000  57.000000   700.000000       3.250000     55000.000000\n",
       "max      20.00000  70.000000   900.000000       6.000000     65000.000000"
      ]
     },
     "execution_count": 50,
     "metadata": {},
     "output_type": "execute_result"
    }
   ],
   "source": [
    "df.describe()"
   ]
  },
  {
   "cell_type": "markdown",
   "id": "848fa3eb",
   "metadata": {},
   "source": [
    "Declaro la columna `Cliente_ID` como el índice del dataframe."
   ]
  },
  {
   "cell_type": "code",
   "execution_count": 51,
   "id": "7e7a662a",
   "metadata": {},
   "outputs": [
    {
     "data": {
      "application/vnd.microsoft.datawrangler.viewer.v0+json": {
       "columns": [
        {
         "name": "Cliente_ID",
         "rawType": "int64",
         "type": "integer"
        },
        {
         "name": "Genero",
         "rawType": "object",
         "type": "string"
        },
        {
         "name": "Edad",
         "rawType": "int64",
         "type": "integer"
        },
        {
         "name": "Recibio_Promo",
         "rawType": "object",
         "type": "string"
        },
        {
         "name": "Monto_Promo",
         "rawType": "int64",
         "type": "integer"
        },
        {
         "name": "Recompra",
         "rawType": "object",
         "type": "string"
        },
        {
         "name": "Total_Compras",
         "rawType": "int64",
         "type": "integer"
        },
        {
         "name": "Ingreso_Mensual",
         "rawType": "int64",
         "type": "integer"
        }
       ],
       "ref": "58e34c3d-7419-4b97-bea3-5b7656ad3402",
       "rows": [
        [
         "1",
         "F",
         "23",
         "Si",
         "500",
         "Si",
         "2",
         "30000"
        ],
        [
         "2",
         "M",
         "45",
         "Si",
         "500",
         "Si",
         "2",
         "40000"
        ],
        [
         "3",
         "F",
         "60",
         "No",
         "700",
         "No",
         "3",
         "60000"
        ],
        [
         "4",
         "M",
         "22",
         "Si",
         "800",
         "No",
         "1",
         "30000"
        ],
        [
         "5",
         "M",
         "32",
         "Si",
         "300",
         "Si",
         "2",
         "50000"
        ],
        [
         "6",
         "M",
         "54",
         "No",
         "500",
         "Si",
         "3",
         "30000"
        ],
        [
         "7",
         "F",
         "67",
         "No",
         "600",
         "Si",
         "5",
         "45000"
        ],
        [
         "8",
         "F",
         "70",
         "No",
         "500",
         "No",
         "2",
         "55000"
        ],
        [
         "9",
         "F",
         "25",
         "Si",
         "700",
         "No",
         "3",
         "30000"
        ],
        [
         "10",
         "F",
         "34",
         "Si",
         "300",
         "No",
         "4",
         "25000"
        ],
        [
         "11",
         "F",
         "35",
         "No",
         "400",
         "Si",
         "1",
         "30000"
        ],
        [
         "12",
         "M",
         "45",
         "Si",
         "500",
         "Si",
         "2",
         "60000"
        ],
        [
         "13",
         "F",
         "55",
         "No",
         "900",
         "Si",
         "3",
         "50000"
        ],
        [
         "14",
         "M",
         "56",
         "No",
         "100",
         "No",
         "6",
         "40000"
        ],
        [
         "15",
         "M",
         "37",
         "No",
         "900",
         "Si",
         "4",
         "55000"
        ],
        [
         "16",
         "F",
         "41",
         "Si",
         "400",
         "No",
         "1",
         "65000"
        ],
        [
         "17",
         "M",
         "62",
         "No",
         "500",
         "Si",
         "3",
         "30000"
        ],
        [
         "18",
         "F",
         "68",
         "Si",
         "600",
         "No",
         "2",
         "25000"
        ],
        [
         "19",
         "F",
         "24",
         "No",
         "700",
         "No",
         "4",
         "50000"
        ],
        [
         "20",
         "M",
         "34",
         "No",
         "800",
         "Si",
         "3",
         "60000"
        ]
       ],
       "shape": {
        "columns": 7,
        "rows": 20
       }
      },
      "text/html": [
       "<div>\n",
       "<style scoped>\n",
       "    .dataframe tbody tr th:only-of-type {\n",
       "        vertical-align: middle;\n",
       "    }\n",
       "\n",
       "    .dataframe tbody tr th {\n",
       "        vertical-align: top;\n",
       "    }\n",
       "\n",
       "    .dataframe thead th {\n",
       "        text-align: right;\n",
       "    }\n",
       "</style>\n",
       "<table border=\"1\" class=\"dataframe\">\n",
       "  <thead>\n",
       "    <tr style=\"text-align: right;\">\n",
       "      <th></th>\n",
       "      <th>Genero</th>\n",
       "      <th>Edad</th>\n",
       "      <th>Recibio_Promo</th>\n",
       "      <th>Monto_Promo</th>\n",
       "      <th>Recompra</th>\n",
       "      <th>Total_Compras</th>\n",
       "      <th>Ingreso_Mensual</th>\n",
       "    </tr>\n",
       "    <tr>\n",
       "      <th>Cliente_ID</th>\n",
       "      <th></th>\n",
       "      <th></th>\n",
       "      <th></th>\n",
       "      <th></th>\n",
       "      <th></th>\n",
       "      <th></th>\n",
       "      <th></th>\n",
       "    </tr>\n",
       "  </thead>\n",
       "  <tbody>\n",
       "    <tr>\n",
       "      <th>1</th>\n",
       "      <td>F</td>\n",
       "      <td>23</td>\n",
       "      <td>Si</td>\n",
       "      <td>500</td>\n",
       "      <td>Si</td>\n",
       "      <td>2</td>\n",
       "      <td>30000</td>\n",
       "    </tr>\n",
       "    <tr>\n",
       "      <th>2</th>\n",
       "      <td>M</td>\n",
       "      <td>45</td>\n",
       "      <td>Si</td>\n",
       "      <td>500</td>\n",
       "      <td>Si</td>\n",
       "      <td>2</td>\n",
       "      <td>40000</td>\n",
       "    </tr>\n",
       "    <tr>\n",
       "      <th>3</th>\n",
       "      <td>F</td>\n",
       "      <td>60</td>\n",
       "      <td>No</td>\n",
       "      <td>700</td>\n",
       "      <td>No</td>\n",
       "      <td>3</td>\n",
       "      <td>60000</td>\n",
       "    </tr>\n",
       "    <tr>\n",
       "      <th>4</th>\n",
       "      <td>M</td>\n",
       "      <td>22</td>\n",
       "      <td>Si</td>\n",
       "      <td>800</td>\n",
       "      <td>No</td>\n",
       "      <td>1</td>\n",
       "      <td>30000</td>\n",
       "    </tr>\n",
       "    <tr>\n",
       "      <th>5</th>\n",
       "      <td>M</td>\n",
       "      <td>32</td>\n",
       "      <td>Si</td>\n",
       "      <td>300</td>\n",
       "      <td>Si</td>\n",
       "      <td>2</td>\n",
       "      <td>50000</td>\n",
       "    </tr>\n",
       "    <tr>\n",
       "      <th>6</th>\n",
       "      <td>M</td>\n",
       "      <td>54</td>\n",
       "      <td>No</td>\n",
       "      <td>500</td>\n",
       "      <td>Si</td>\n",
       "      <td>3</td>\n",
       "      <td>30000</td>\n",
       "    </tr>\n",
       "    <tr>\n",
       "      <th>7</th>\n",
       "      <td>F</td>\n",
       "      <td>67</td>\n",
       "      <td>No</td>\n",
       "      <td>600</td>\n",
       "      <td>Si</td>\n",
       "      <td>5</td>\n",
       "      <td>45000</td>\n",
       "    </tr>\n",
       "    <tr>\n",
       "      <th>8</th>\n",
       "      <td>F</td>\n",
       "      <td>70</td>\n",
       "      <td>No</td>\n",
       "      <td>500</td>\n",
       "      <td>No</td>\n",
       "      <td>2</td>\n",
       "      <td>55000</td>\n",
       "    </tr>\n",
       "    <tr>\n",
       "      <th>9</th>\n",
       "      <td>F</td>\n",
       "      <td>25</td>\n",
       "      <td>Si</td>\n",
       "      <td>700</td>\n",
       "      <td>No</td>\n",
       "      <td>3</td>\n",
       "      <td>30000</td>\n",
       "    </tr>\n",
       "    <tr>\n",
       "      <th>10</th>\n",
       "      <td>F</td>\n",
       "      <td>34</td>\n",
       "      <td>Si</td>\n",
       "      <td>300</td>\n",
       "      <td>No</td>\n",
       "      <td>4</td>\n",
       "      <td>25000</td>\n",
       "    </tr>\n",
       "    <tr>\n",
       "      <th>11</th>\n",
       "      <td>F</td>\n",
       "      <td>35</td>\n",
       "      <td>No</td>\n",
       "      <td>400</td>\n",
       "      <td>Si</td>\n",
       "      <td>1</td>\n",
       "      <td>30000</td>\n",
       "    </tr>\n",
       "    <tr>\n",
       "      <th>12</th>\n",
       "      <td>M</td>\n",
       "      <td>45</td>\n",
       "      <td>Si</td>\n",
       "      <td>500</td>\n",
       "      <td>Si</td>\n",
       "      <td>2</td>\n",
       "      <td>60000</td>\n",
       "    </tr>\n",
       "    <tr>\n",
       "      <th>13</th>\n",
       "      <td>F</td>\n",
       "      <td>55</td>\n",
       "      <td>No</td>\n",
       "      <td>900</td>\n",
       "      <td>Si</td>\n",
       "      <td>3</td>\n",
       "      <td>50000</td>\n",
       "    </tr>\n",
       "    <tr>\n",
       "      <th>14</th>\n",
       "      <td>M</td>\n",
       "      <td>56</td>\n",
       "      <td>No</td>\n",
       "      <td>100</td>\n",
       "      <td>No</td>\n",
       "      <td>6</td>\n",
       "      <td>40000</td>\n",
       "    </tr>\n",
       "    <tr>\n",
       "      <th>15</th>\n",
       "      <td>M</td>\n",
       "      <td>37</td>\n",
       "      <td>No</td>\n",
       "      <td>900</td>\n",
       "      <td>Si</td>\n",
       "      <td>4</td>\n",
       "      <td>55000</td>\n",
       "    </tr>\n",
       "    <tr>\n",
       "      <th>16</th>\n",
       "      <td>F</td>\n",
       "      <td>41</td>\n",
       "      <td>Si</td>\n",
       "      <td>400</td>\n",
       "      <td>No</td>\n",
       "      <td>1</td>\n",
       "      <td>65000</td>\n",
       "    </tr>\n",
       "    <tr>\n",
       "      <th>17</th>\n",
       "      <td>M</td>\n",
       "      <td>62</td>\n",
       "      <td>No</td>\n",
       "      <td>500</td>\n",
       "      <td>Si</td>\n",
       "      <td>3</td>\n",
       "      <td>30000</td>\n",
       "    </tr>\n",
       "    <tr>\n",
       "      <th>18</th>\n",
       "      <td>F</td>\n",
       "      <td>68</td>\n",
       "      <td>Si</td>\n",
       "      <td>600</td>\n",
       "      <td>No</td>\n",
       "      <td>2</td>\n",
       "      <td>25000</td>\n",
       "    </tr>\n",
       "    <tr>\n",
       "      <th>19</th>\n",
       "      <td>F</td>\n",
       "      <td>24</td>\n",
       "      <td>No</td>\n",
       "      <td>700</td>\n",
       "      <td>No</td>\n",
       "      <td>4</td>\n",
       "      <td>50000</td>\n",
       "    </tr>\n",
       "    <tr>\n",
       "      <th>20</th>\n",
       "      <td>M</td>\n",
       "      <td>34</td>\n",
       "      <td>No</td>\n",
       "      <td>800</td>\n",
       "      <td>Si</td>\n",
       "      <td>3</td>\n",
       "      <td>60000</td>\n",
       "    </tr>\n",
       "  </tbody>\n",
       "</table>\n",
       "</div>"
      ],
      "text/plain": [
       "           Genero  Edad Recibio_Promo  Monto_Promo Recompra  Total_Compras  \\\n",
       "Cliente_ID                                                                   \n",
       "1               F    23            Si          500       Si              2   \n",
       "2               M    45            Si          500       Si              2   \n",
       "3               F    60            No          700       No              3   \n",
       "4               M    22            Si          800       No              1   \n",
       "5               M    32            Si          300       Si              2   \n",
       "6               M    54            No          500       Si              3   \n",
       "7               F    67            No          600       Si              5   \n",
       "8               F    70            No          500       No              2   \n",
       "9               F    25            Si          700       No              3   \n",
       "10              F    34            Si          300       No              4   \n",
       "11              F    35            No          400       Si              1   \n",
       "12              M    45            Si          500       Si              2   \n",
       "13              F    55            No          900       Si              3   \n",
       "14              M    56            No          100       No              6   \n",
       "15              M    37            No          900       Si              4   \n",
       "16              F    41            Si          400       No              1   \n",
       "17              M    62            No          500       Si              3   \n",
       "18              F    68            Si          600       No              2   \n",
       "19              F    24            No          700       No              4   \n",
       "20              M    34            No          800       Si              3   \n",
       "\n",
       "            Ingreso_Mensual  \n",
       "Cliente_ID                   \n",
       "1                     30000  \n",
       "2                     40000  \n",
       "3                     60000  \n",
       "4                     30000  \n",
       "5                     50000  \n",
       "6                     30000  \n",
       "7                     45000  \n",
       "8                     55000  \n",
       "9                     30000  \n",
       "10                    25000  \n",
       "11                    30000  \n",
       "12                    60000  \n",
       "13                    50000  \n",
       "14                    40000  \n",
       "15                    55000  \n",
       "16                    65000  \n",
       "17                    30000  \n",
       "18                    25000  \n",
       "19                    50000  \n",
       "20                    60000  "
      ]
     },
     "execution_count": 51,
     "metadata": {},
     "output_type": "execute_result"
    }
   ],
   "source": [
    "df = df.set_index('Cliente_ID')\n",
    "df"
   ]
  },
  {
   "cell_type": "markdown",
   "id": "53f97499",
   "metadata": {},
   "source": [
    "# Transformación y codificación\n",
    "\n",
    "- Convertir variables categóricas a numéricas.\n",
    "- Crear nuevas variables si es necesario."
   ]
  },
  {
   "cell_type": "code",
   "execution_count": 52,
   "id": "a80b8c46",
   "metadata": {},
   "outputs": [],
   "source": [
    "df['Genero'] = df['Genero'].map({'F': 0, 'M':1})\n",
    "df['Recibio_Promo'] = df['Recibio_Promo'].map({'Si': 1, 'No': 0})\n",
    "df['Recompra'] = df['Recompra'].map({'Si': 1, 'No': 0})"
   ]
  },
  {
   "cell_type": "code",
   "execution_count": 53,
   "id": "1362bc69",
   "metadata": {},
   "outputs": [],
   "source": [
    "# Mantener solo edades >= 0\n",
    "df = df[df['Edad'] >= 0]"
   ]
  },
  {
   "cell_type": "code",
   "execution_count": 54,
   "id": "e1fd9597",
   "metadata": {},
   "outputs": [
    {
     "data": {
      "application/vnd.microsoft.datawrangler.viewer.v0+json": {
       "columns": [
        {
         "name": "Cliente_ID",
         "rawType": "int64",
         "type": "integer"
        },
        {
         "name": "Genero",
         "rawType": "int64",
         "type": "integer"
        },
        {
         "name": "Edad",
         "rawType": "int64",
         "type": "integer"
        },
        {
         "name": "Recibio_Promo",
         "rawType": "int64",
         "type": "integer"
        },
        {
         "name": "Monto_Promo",
         "rawType": "int64",
         "type": "integer"
        },
        {
         "name": "Recompra",
         "rawType": "int64",
         "type": "integer"
        },
        {
         "name": "Total_Compras",
         "rawType": "int64",
         "type": "integer"
        },
        {
         "name": "Ingreso_Mensual",
         "rawType": "int64",
         "type": "integer"
        }
       ],
       "ref": "20639414-3072-42a0-93b4-180aeb67d244",
       "rows": [
        [
         "1",
         "0",
         "23",
         "1",
         "500",
         "1",
         "2",
         "30000"
        ],
        [
         "2",
         "1",
         "45",
         "1",
         "500",
         "1",
         "2",
         "40000"
        ],
        [
         "3",
         "0",
         "60",
         "0",
         "700",
         "0",
         "3",
         "60000"
        ],
        [
         "4",
         "1",
         "22",
         "1",
         "800",
         "0",
         "1",
         "30000"
        ],
        [
         "5",
         "1",
         "32",
         "1",
         "300",
         "1",
         "2",
         "50000"
        ],
        [
         "6",
         "1",
         "54",
         "0",
         "500",
         "1",
         "3",
         "30000"
        ],
        [
         "7",
         "0",
         "67",
         "0",
         "600",
         "1",
         "5",
         "45000"
        ],
        [
         "8",
         "0",
         "70",
         "0",
         "500",
         "0",
         "2",
         "55000"
        ],
        [
         "9",
         "0",
         "25",
         "1",
         "700",
         "0",
         "3",
         "30000"
        ],
        [
         "10",
         "0",
         "34",
         "1",
         "300",
         "0",
         "4",
         "25000"
        ],
        [
         "11",
         "0",
         "35",
         "0",
         "400",
         "1",
         "1",
         "30000"
        ],
        [
         "12",
         "1",
         "45",
         "1",
         "500",
         "1",
         "2",
         "60000"
        ],
        [
         "13",
         "0",
         "55",
         "0",
         "900",
         "1",
         "3",
         "50000"
        ],
        [
         "14",
         "1",
         "56",
         "0",
         "100",
         "0",
         "6",
         "40000"
        ],
        [
         "15",
         "1",
         "37",
         "0",
         "900",
         "1",
         "4",
         "55000"
        ],
        [
         "16",
         "0",
         "41",
         "1",
         "400",
         "0",
         "1",
         "65000"
        ],
        [
         "17",
         "1",
         "62",
         "0",
         "500",
         "1",
         "3",
         "30000"
        ],
        [
         "18",
         "0",
         "68",
         "1",
         "600",
         "0",
         "2",
         "25000"
        ],
        [
         "19",
         "0",
         "24",
         "0",
         "700",
         "0",
         "4",
         "50000"
        ],
        [
         "20",
         "1",
         "34",
         "0",
         "800",
         "1",
         "3",
         "60000"
        ]
       ],
       "shape": {
        "columns": 7,
        "rows": 20
       }
      },
      "text/html": [
       "<div>\n",
       "<style scoped>\n",
       "    .dataframe tbody tr th:only-of-type {\n",
       "        vertical-align: middle;\n",
       "    }\n",
       "\n",
       "    .dataframe tbody tr th {\n",
       "        vertical-align: top;\n",
       "    }\n",
       "\n",
       "    .dataframe thead th {\n",
       "        text-align: right;\n",
       "    }\n",
       "</style>\n",
       "<table border=\"1\" class=\"dataframe\">\n",
       "  <thead>\n",
       "    <tr style=\"text-align: right;\">\n",
       "      <th></th>\n",
       "      <th>Genero</th>\n",
       "      <th>Edad</th>\n",
       "      <th>Recibio_Promo</th>\n",
       "      <th>Monto_Promo</th>\n",
       "      <th>Recompra</th>\n",
       "      <th>Total_Compras</th>\n",
       "      <th>Ingreso_Mensual</th>\n",
       "    </tr>\n",
       "    <tr>\n",
       "      <th>Cliente_ID</th>\n",
       "      <th></th>\n",
       "      <th></th>\n",
       "      <th></th>\n",
       "      <th></th>\n",
       "      <th></th>\n",
       "      <th></th>\n",
       "      <th></th>\n",
       "    </tr>\n",
       "  </thead>\n",
       "  <tbody>\n",
       "    <tr>\n",
       "      <th>1</th>\n",
       "      <td>0</td>\n",
       "      <td>23</td>\n",
       "      <td>1</td>\n",
       "      <td>500</td>\n",
       "      <td>1</td>\n",
       "      <td>2</td>\n",
       "      <td>30000</td>\n",
       "    </tr>\n",
       "    <tr>\n",
       "      <th>2</th>\n",
       "      <td>1</td>\n",
       "      <td>45</td>\n",
       "      <td>1</td>\n",
       "      <td>500</td>\n",
       "      <td>1</td>\n",
       "      <td>2</td>\n",
       "      <td>40000</td>\n",
       "    </tr>\n",
       "    <tr>\n",
       "      <th>3</th>\n",
       "      <td>0</td>\n",
       "      <td>60</td>\n",
       "      <td>0</td>\n",
       "      <td>700</td>\n",
       "      <td>0</td>\n",
       "      <td>3</td>\n",
       "      <td>60000</td>\n",
       "    </tr>\n",
       "    <tr>\n",
       "      <th>4</th>\n",
       "      <td>1</td>\n",
       "      <td>22</td>\n",
       "      <td>1</td>\n",
       "      <td>800</td>\n",
       "      <td>0</td>\n",
       "      <td>1</td>\n",
       "      <td>30000</td>\n",
       "    </tr>\n",
       "    <tr>\n",
       "      <th>5</th>\n",
       "      <td>1</td>\n",
       "      <td>32</td>\n",
       "      <td>1</td>\n",
       "      <td>300</td>\n",
       "      <td>1</td>\n",
       "      <td>2</td>\n",
       "      <td>50000</td>\n",
       "    </tr>\n",
       "    <tr>\n",
       "      <th>6</th>\n",
       "      <td>1</td>\n",
       "      <td>54</td>\n",
       "      <td>0</td>\n",
       "      <td>500</td>\n",
       "      <td>1</td>\n",
       "      <td>3</td>\n",
       "      <td>30000</td>\n",
       "    </tr>\n",
       "    <tr>\n",
       "      <th>7</th>\n",
       "      <td>0</td>\n",
       "      <td>67</td>\n",
       "      <td>0</td>\n",
       "      <td>600</td>\n",
       "      <td>1</td>\n",
       "      <td>5</td>\n",
       "      <td>45000</td>\n",
       "    </tr>\n",
       "    <tr>\n",
       "      <th>8</th>\n",
       "      <td>0</td>\n",
       "      <td>70</td>\n",
       "      <td>0</td>\n",
       "      <td>500</td>\n",
       "      <td>0</td>\n",
       "      <td>2</td>\n",
       "      <td>55000</td>\n",
       "    </tr>\n",
       "    <tr>\n",
       "      <th>9</th>\n",
       "      <td>0</td>\n",
       "      <td>25</td>\n",
       "      <td>1</td>\n",
       "      <td>700</td>\n",
       "      <td>0</td>\n",
       "      <td>3</td>\n",
       "      <td>30000</td>\n",
       "    </tr>\n",
       "    <tr>\n",
       "      <th>10</th>\n",
       "      <td>0</td>\n",
       "      <td>34</td>\n",
       "      <td>1</td>\n",
       "      <td>300</td>\n",
       "      <td>0</td>\n",
       "      <td>4</td>\n",
       "      <td>25000</td>\n",
       "    </tr>\n",
       "    <tr>\n",
       "      <th>11</th>\n",
       "      <td>0</td>\n",
       "      <td>35</td>\n",
       "      <td>0</td>\n",
       "      <td>400</td>\n",
       "      <td>1</td>\n",
       "      <td>1</td>\n",
       "      <td>30000</td>\n",
       "    </tr>\n",
       "    <tr>\n",
       "      <th>12</th>\n",
       "      <td>1</td>\n",
       "      <td>45</td>\n",
       "      <td>1</td>\n",
       "      <td>500</td>\n",
       "      <td>1</td>\n",
       "      <td>2</td>\n",
       "      <td>60000</td>\n",
       "    </tr>\n",
       "    <tr>\n",
       "      <th>13</th>\n",
       "      <td>0</td>\n",
       "      <td>55</td>\n",
       "      <td>0</td>\n",
       "      <td>900</td>\n",
       "      <td>1</td>\n",
       "      <td>3</td>\n",
       "      <td>50000</td>\n",
       "    </tr>\n",
       "    <tr>\n",
       "      <th>14</th>\n",
       "      <td>1</td>\n",
       "      <td>56</td>\n",
       "      <td>0</td>\n",
       "      <td>100</td>\n",
       "      <td>0</td>\n",
       "      <td>6</td>\n",
       "      <td>40000</td>\n",
       "    </tr>\n",
       "    <tr>\n",
       "      <th>15</th>\n",
       "      <td>1</td>\n",
       "      <td>37</td>\n",
       "      <td>0</td>\n",
       "      <td>900</td>\n",
       "      <td>1</td>\n",
       "      <td>4</td>\n",
       "      <td>55000</td>\n",
       "    </tr>\n",
       "    <tr>\n",
       "      <th>16</th>\n",
       "      <td>0</td>\n",
       "      <td>41</td>\n",
       "      <td>1</td>\n",
       "      <td>400</td>\n",
       "      <td>0</td>\n",
       "      <td>1</td>\n",
       "      <td>65000</td>\n",
       "    </tr>\n",
       "    <tr>\n",
       "      <th>17</th>\n",
       "      <td>1</td>\n",
       "      <td>62</td>\n",
       "      <td>0</td>\n",
       "      <td>500</td>\n",
       "      <td>1</td>\n",
       "      <td>3</td>\n",
       "      <td>30000</td>\n",
       "    </tr>\n",
       "    <tr>\n",
       "      <th>18</th>\n",
       "      <td>0</td>\n",
       "      <td>68</td>\n",
       "      <td>1</td>\n",
       "      <td>600</td>\n",
       "      <td>0</td>\n",
       "      <td>2</td>\n",
       "      <td>25000</td>\n",
       "    </tr>\n",
       "    <tr>\n",
       "      <th>19</th>\n",
       "      <td>0</td>\n",
       "      <td>24</td>\n",
       "      <td>0</td>\n",
       "      <td>700</td>\n",
       "      <td>0</td>\n",
       "      <td>4</td>\n",
       "      <td>50000</td>\n",
       "    </tr>\n",
       "    <tr>\n",
       "      <th>20</th>\n",
       "      <td>1</td>\n",
       "      <td>34</td>\n",
       "      <td>0</td>\n",
       "      <td>800</td>\n",
       "      <td>1</td>\n",
       "      <td>3</td>\n",
       "      <td>60000</td>\n",
       "    </tr>\n",
       "  </tbody>\n",
       "</table>\n",
       "</div>"
      ],
      "text/plain": [
       "            Genero  Edad  Recibio_Promo  Monto_Promo  Recompra  Total_Compras  \\\n",
       "Cliente_ID                                                                      \n",
       "1                0    23              1          500         1              2   \n",
       "2                1    45              1          500         1              2   \n",
       "3                0    60              0          700         0              3   \n",
       "4                1    22              1          800         0              1   \n",
       "5                1    32              1          300         1              2   \n",
       "6                1    54              0          500         1              3   \n",
       "7                0    67              0          600         1              5   \n",
       "8                0    70              0          500         0              2   \n",
       "9                0    25              1          700         0              3   \n",
       "10               0    34              1          300         0              4   \n",
       "11               0    35              0          400         1              1   \n",
       "12               1    45              1          500         1              2   \n",
       "13               0    55              0          900         1              3   \n",
       "14               1    56              0          100         0              6   \n",
       "15               1    37              0          900         1              4   \n",
       "16               0    41              1          400         0              1   \n",
       "17               1    62              0          500         1              3   \n",
       "18               0    68              1          600         0              2   \n",
       "19               0    24              0          700         0              4   \n",
       "20               1    34              0          800         1              3   \n",
       "\n",
       "            Ingreso_Mensual  \n",
       "Cliente_ID                   \n",
       "1                     30000  \n",
       "2                     40000  \n",
       "3                     60000  \n",
       "4                     30000  \n",
       "5                     50000  \n",
       "6                     30000  \n",
       "7                     45000  \n",
       "8                     55000  \n",
       "9                     30000  \n",
       "10                    25000  \n",
       "11                    30000  \n",
       "12                    60000  \n",
       "13                    50000  \n",
       "14                    40000  \n",
       "15                    55000  \n",
       "16                    65000  \n",
       "17                    30000  \n",
       "18                    25000  \n",
       "19                    50000  \n",
       "20                    60000  "
      ]
     },
     "execution_count": 54,
     "metadata": {},
     "output_type": "execute_result"
    }
   ],
   "source": [
    "df"
   ]
  },
  {
   "cell_type": "markdown",
   "id": "129eedab",
   "metadata": {},
   "source": [
    "# Visualización de relaciones clave\n",
    "- Recompra vs. Monto de promoción\n",
    "- Recompra vs. Ingreso mensual\n",
    "- Distribución por género y edad"
   ]
  },
  {
   "cell_type": "code",
   "execution_count": 56,
   "id": "4526080a",
   "metadata": {},
   "outputs": [
    {
     "data": {
      "image/png": "[encoded data removed]",
      "text/plain": [
       "<Figure size 640x480 with 1 Axes>"
      ]
     },
     "metadata": {},
     "output_type": "display_data"
    }
   ],
   "source": [
    "import seaborn as sns\n",
    "import matplotlib.pyplot as plt\n",
    "\n",
    "sns.boxplot(x=\"Recompra\", y=\"Monto_Promo\", data=df)\n",
    "plt.title(\"Recompra según el monto promocional\")\n",
    "plt.show()"
   ]
  },
  {
   "cell_type": "markdown",
   "id": "3630d5f9",
   "metadata": {},
   "source": [
    "**Observaciones:** Se observa que ambos grupos tienen medianas similares cercanas a 600. El grupo que no recompra tiene bigotes extendidos. O sea, tiene mayor variabilidad en el rango de compras y su comportamiento es mas heterogeneo. Mientras tanto, los que recompran tienen comportamiento más heterogeneo.\n",
    "- Hay mas chances que los clientes que reciben montos promocionales menores a 400 no recompren.\n",
    "- Si recibe una oferta mayor a 800, hay mas probabilidad de que recompren."
   ]
  },
  {
   "cell_type": "code",
   "execution_count": 31,
   "id": "c663f36e",
   "metadata": {},
   "outputs": [
    {
     "data": {
      "image/png": "[encoded data removed]",
      "text/plain": [
       "<Figure size 640x480 with 1 Axes>"
      ]
     },
     "metadata": {},
     "output_type": "display_data"
    }
   ],
   "source": [
    "sns.boxplot(x=\"Recompra\", y=\"Ingreso_Mensual\", data=df)\n",
    "plt.title(\"Recompra según el ingreso mensual\")\n",
    "plt.show()"
   ]
  },
  {
   "cell_type": "markdown",
   "id": "c1359c8b",
   "metadata": {},
   "source": [
    "**Observaciones:** El gráfico casi que no nos muestras grandes diferencias. Lo que si se puede ver es que en los que no recompran, la dispersión es algo mayor."
   ]
  },
  {
   "cell_type": "code",
   "execution_count": 20,
   "id": "7234b7d4",
   "metadata": {},
   "outputs": [
    {
     "data": {
      "image/png": "[encoded data removed]",
      "text/plain": [
       "<Figure size 1000x600 with 1 Axes>"
      ]
     },
     "metadata": {},
     "output_type": "display_data"
    }
   ],
   "source": [
    "plt.figure(figsize=(10, 6))\n",
    "sns.boxplot(data=df, x='Genero', y='Edad', hue='Recompra')\n",
    "plt.title('Distribución de edad por género y recompra')\n",
    "plt.show()"
   ]
  },
  {
   "cell_type": "markdown",
   "id": "963e4b5f",
   "metadata": {},
   "source": [
    "**Observaciones:** La edad parece tener una leve influencia en la recompra: las personas mayores (40-50 años) tienden a recomprar más que las más jóvenes. Las mujeres muestran mayor variabilidad en las edades, mientras que los hombres tienen distribuciones más concentradas."
   ]
  }
 ],
 "metadata": {
  "kernelspec": {
   "display_name": "Python 3",
   "language": "python",
   "name": "python3"
  },
  "language_info": {
   "codemirror_mode": {
    "name": "ipython",
    "version": 3
   },
   "file_extension": ".py",
   "mimetype": "text/x-python",
   "name": "python",
   "nbconvert_exporter": "python",
   "pygments_lexer": "ipython3",
   "version": "3.12.2"
  }
 },
 "nbformat": 4,
 "nbformat_minor": 5
}
