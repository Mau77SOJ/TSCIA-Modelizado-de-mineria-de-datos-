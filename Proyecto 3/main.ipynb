{
 "cells": [
  {
   "cell_type": "markdown",
   "id": "09a7b906",
   "metadata": {},
   "source": [
    "# Proyecto 2: Análisis de Datos en Notebook\n",
    "\n",
    "En este archivo voy a hacer un análisis de los datos utilizados en el proyecto 1. Voy a dividir el análisis en 3 secciones: \n",
    "1. Importación de las tablas desde la base de datos original.\n",
    "2. Preparación de los datos para el análisis.\n",
    "3. Realización de gráficos para el análisis.\n",
    "4. Conclusiones de los análisis."
   ]
  },
  {
   "cell_type": "markdown",
   "id": "31cd1eb0",
   "metadata": {},
   "source": [
    "En primero lugar, voy a importar las librerías necesarias:"
   ]
  },
  {
   "cell_type": "code",
   "execution_count": null,
   "id": "39e9ee24",
   "metadata": {},
   "outputs": [],
   "source": [
    "import pandas as pd\n",
    "from sqlalchemy import create_engine"
   ]
  },
  {
   "cell_type": "code",
   "execution_count": 3,
   "id": "07d7e785",
   "metadata": {},
   "outputs": [],
   "source": [
    "# Motor de conexión\n",
    "host = \"localhost\"\n",
    "user = \"root\"\n",
    "password = \"\"\n",
    "port = 3306\n",
    "database = \"libreria\"\n",
    "\n",
    "engine = create_engine(f\"mysql+pymysql://{user}:{password}@{host}:{port}/{database}?charset=utf8mb4\")"
   ]
  },
  {
   "cell_type": "markdown",
   "id": "8601c00e",
   "metadata": {},
   "source": [
    "# Importar tablas"
   ]
  },
  {
   "cell_type": "markdown",
   "id": "6f3f4c99",
   "metadata": {},
   "source": [
    "Usando `sql_query` de Pandas, voy a leer e importar cada una de las tablas de la base de datos y las guardo como un Dataframe."
   ]
  },
  {
   "cell_type": "code",
   "execution_count": 4,
   "id": "000235ce",
   "metadata": {},
   "outputs": [
    {
     "data": {
      "application/vnd.microsoft.datawrangler.viewer.v0+json": {
       "columns": [
        {
         "name": "index",
         "rawType": "int64",
         "type": "integer"
        },
        {
         "name": "id_clientes",
         "rawType": "int64",
         "type": "integer"
        },
        {
         "name": "nombre",
         "rawType": "object",
         "type": "string"
        },
        {
         "name": "id_localidades",
         "rawType": "int64",
         "type": "integer"
        },
        {
         "name": "domicilio",
         "rawType": "object",
         "type": "string"
        }
       ],
       "ref": "334b8ce3-4749-4d4b-b297-6e8084ae15a3",
       "rows": [
        [
         "0",
         "1",
         "Juan Pérez",
         "1",
         "Av. Libertador 1234"
        ],
        [
         "1",
         "2",
         "María González",
         "2",
         "Calle 25 de Mayo 567"
        ],
        [
         "2",
         "3",
         "Carlos Rodríguez",
         "3",
         "Av. Hipólito Yrigoyen 890"
        ],
        [
         "3",
         "4",
         "Ana Martínez",
         "4",
         "Mitre 2345"
        ],
        [
         "4",
         "5",
         "Luis Fernández",
         "5",
         "San Martín 678"
        ],
        [
         "5",
         "6",
         "Laura Sánchez",
         "6",
         "Belgrano 1122"
        ],
        [
         "6",
         "7",
         "Diego López",
         "7",
         "Av. Rivadavia 3344"
        ],
        [
         "7",
         "8",
         "Sofía Torres",
         "8",
         "Av. del Libertador 5566"
        ],
        [
         "8",
         "9",
         "Roberto Díaz",
         "9",
         "Av. Cazón 7788"
        ],
        [
         "9",
         "10",
         "Gabriela Romero",
         "10",
         "Av. Calchaquí 9900"
        ],
        [
         "10",
         "11",
         "Martín Silva",
         "11",
         "Calle 7 entre 47 y 48"
        ],
        [
         "11",
         "12",
         "Carolina Ruiz",
         "12",
         "Hipólito Yrigoyen 1234"
        ],
        [
         "12",
         "13",
         "Federico Morales",
         "13",
         "Alsina 567"
        ],
        [
         "13",
         "14",
         "Valeria Castro",
         "14",
         "Almirante Brown 890"
        ],
        [
         "14",
         "15",
         "Alejandro Vargas",
         "15",
         "Av. Santa Fe 2345"
        ],
        [
         "15",
         "16",
         "Patricia Acosta",
         "16",
         "Av. Cabildo 3456"
        ],
        [
         "16",
         "17",
         "Gustavo Herrera",
         "17",
         "Montes de Oca 678"
        ],
        [
         "17",
         "18",
         "Lucía Medina",
         "18",
         "Defensa 1122"
        ],
        [
         "18",
         "19",
         "Sebastián Ortiz",
         "19",
         "Juana Manso 3344"
        ],
        [
         "19",
         "20",
         "Florencia Ríos",
         "20",
         "Av. Rivadavia 11567"
        ],
        [
         "20",
         "21",
         "Pablo Navarro",
         "21",
         "Av. Pueyrredón 8899"
        ],
        [
         "21",
         "22",
         "Cecilia Vega",
         "22",
         "Av. Directorio 5566"
        ],
        [
         "22",
         "23",
         "Maximiliano Giménez",
         "23",
         "Av. del Libertador 7788"
        ],
        [
         "23",
         "24",
         "Andrea Molina",
         "1",
         "Carlos Casares 456"
        ],
        [
         "24",
         "25",
         "Javier Núñez",
         "2",
         "San Lorenzo 789"
        ],
        [
         "25",
         "26",
         "Verónica Cabrera",
         "3",
         "Boedo 321"
        ],
        [
         "26",
         "27",
         "Hernán Gutiérrez",
         "4",
         "Pavón 654"
        ],
        [
         "27",
         "28",
         "Daniela Rojas",
         "5",
         "Ballester 987"
        ],
        [
         "28",
         "29",
         "Nicolás Figueroa",
         "6",
         "San Juan 147"
        ],
        [
         "29",
         "30",
         "Romina Espinosa",
         "7",
         "Av. Eva Perón 258"
        ],
        [
         "30",
         "31",
         "Facundo Ramos",
         "8",
         "Av. Centenario 369"
        ],
        [
         "31",
         "32",
         "Agustina Mendoza",
         "9",
         "Liniers 741"
        ],
        [
         "32",
         "33",
         "Matías Flores",
         "10",
         "Av. La Plata 852"
        ],
        [
         "33",
         "34",
         "Camila Benítez",
         "11",
         "Diagonal 74 N° 963"
        ],
        [
         "34",
         "35",
         "Lucas Iglesias",
         "12",
         "9 de Julio 159"
        ],
        [
         "35",
         "36",
         "Natalia Peralta",
         "13",
         "Vergara 357"
        ],
        [
         "36",
         "37",
         "Ezequiel Sosa",
         "14",
         "Necochea 753"
        ],
        [
         "37",
         "38",
         "Yamila Cáceres",
         "15",
         "Córdoba 951"
        ],
        [
         "38",
         "39",
         "Rodrigo Arias",
         "16",
         "Juramento 159"
        ],
        [
         "39",
         "40",
         "Micaela Luna",
         "17",
         "Brandsen 357"
        ]
       ],
       "shape": {
        "columns": 4,
        "rows": 40
       }
      },
      "text/html": [
       "<div>\n",
       "<style scoped>\n",
       "    .dataframe tbody tr th:only-of-type {\n",
       "        vertical-align: middle;\n",
       "    }\n",
       "\n",
       "    .dataframe tbody tr th {\n",
       "        vertical-align: top;\n",
       "    }\n",
       "\n",
       "    .dataframe thead th {\n",
       "        text-align: right;\n",
       "    }\n",
       "</style>\n",
       "<table border=\"1\" class=\"dataframe\">\n",
       "  <thead>\n",
       "    <tr style=\"text-align: right;\">\n",
       "      <th></th>\n",
       "      <th>id_clientes</th>\n",
       "      <th>nombre</th>\n",
       "      <th>id_localidades</th>\n",
       "      <th>domicilio</th>\n",
       "    </tr>\n",
       "  </thead>\n",
       "  <tbody>\n",
       "    <tr>\n",
       "      <th>0</th>\n",
       "      <td>1</td>\n",
       "      <td>Juan Pérez</td>\n",
       "      <td>1</td>\n",
       "      <td>Av. Libertador 1234</td>\n",
       "    </tr>\n",
       "    <tr>\n",
       "      <th>1</th>\n",
       "      <td>2</td>\n",
       "      <td>María González</td>\n",
       "      <td>2</td>\n",
       "      <td>Calle 25 de Mayo 567</td>\n",
       "    </tr>\n",
       "    <tr>\n",
       "      <th>2</th>\n",
       "      <td>3</td>\n",
       "      <td>Carlos Rodríguez</td>\n",
       "      <td>3</td>\n",
       "      <td>Av. Hipólito Yrigoyen 890</td>\n",
       "    </tr>\n",
       "    <tr>\n",
       "      <th>3</th>\n",
       "      <td>4</td>\n",
       "      <td>Ana Martínez</td>\n",
       "      <td>4</td>\n",
       "      <td>Mitre 2345</td>\n",
       "    </tr>\n",
       "    <tr>\n",
       "      <th>4</th>\n",
       "      <td>5</td>\n",
       "      <td>Luis Fernández</td>\n",
       "      <td>5</td>\n",
       "      <td>San Martín 678</td>\n",
       "    </tr>\n",
       "    <tr>\n",
       "      <th>5</th>\n",
       "      <td>6</td>\n",
       "      <td>Laura Sánchez</td>\n",
       "      <td>6</td>\n",
       "      <td>Belgrano 1122</td>\n",
       "    </tr>\n",
       "    <tr>\n",
       "      <th>6</th>\n",
       "      <td>7</td>\n",
       "      <td>Diego López</td>\n",
       "      <td>7</td>\n",
       "      <td>Av. Rivadavia 3344</td>\n",
       "    </tr>\n",
       "    <tr>\n",
       "      <th>7</th>\n",
       "      <td>8</td>\n",
       "      <td>Sofía Torres</td>\n",
       "      <td>8</td>\n",
       "      <td>Av. del Libertador 5566</td>\n",
       "    </tr>\n",
       "    <tr>\n",
       "      <th>8</th>\n",
       "      <td>9</td>\n",
       "      <td>Roberto Díaz</td>\n",
       "      <td>9</td>\n",
       "      <td>Av. Cazón 7788</td>\n",
       "    </tr>\n",
       "    <tr>\n",
       "      <th>9</th>\n",
       "      <td>10</td>\n",
       "      <td>Gabriela Romero</td>\n",
       "      <td>10</td>\n",
       "      <td>Av. Calchaquí 9900</td>\n",
       "    </tr>\n",
       "    <tr>\n",
       "      <th>10</th>\n",
       "      <td>11</td>\n",
       "      <td>Martín Silva</td>\n",
       "      <td>11</td>\n",
       "      <td>Calle 7 entre 47 y 48</td>\n",
       "    </tr>\n",
       "    <tr>\n",
       "      <th>11</th>\n",
       "      <td>12</td>\n",
       "      <td>Carolina Ruiz</td>\n",
       "      <td>12</td>\n",
       "      <td>Hipólito Yrigoyen 1234</td>\n",
       "    </tr>\n",
       "    <tr>\n",
       "      <th>12</th>\n",
       "      <td>13</td>\n",
       "      <td>Federico Morales</td>\n",
       "      <td>13</td>\n",
       "      <td>Alsina 567</td>\n",
       "    </tr>\n",
       "    <tr>\n",
       "      <th>13</th>\n",
       "      <td>14</td>\n",
       "      <td>Valeria Castro</td>\n",
       "      <td>14</td>\n",
       "      <td>Almirante Brown 890</td>\n",
       "    </tr>\n",
       "    <tr>\n",
       "      <th>14</th>\n",
       "      <td>15</td>\n",
       "      <td>Alejandro Vargas</td>\n",
       "      <td>15</td>\n",
       "      <td>Av. Santa Fe 2345</td>\n",
       "    </tr>\n",
       "    <tr>\n",
       "      <th>15</th>\n",
       "      <td>16</td>\n",
       "      <td>Patricia Acosta</td>\n",
       "      <td>16</td>\n",
       "      <td>Av. Cabildo 3456</td>\n",
       "    </tr>\n",
       "    <tr>\n",
       "      <th>16</th>\n",
       "      <td>17</td>\n",
       "      <td>Gustavo Herrera</td>\n",
       "      <td>17</td>\n",
       "      <td>Montes de Oca 678</td>\n",
       "    </tr>\n",
       "    <tr>\n",
       "      <th>17</th>\n",
       "      <td>18</td>\n",
       "      <td>Lucía Medina</td>\n",
       "      <td>18</td>\n",
       "      <td>Defensa 1122</td>\n",
       "    </tr>\n",
       "    <tr>\n",
       "      <th>18</th>\n",
       "      <td>19</td>\n",
       "      <td>Sebastián Ortiz</td>\n",
       "      <td>19</td>\n",
       "      <td>Juana Manso 3344</td>\n",
       "    </tr>\n",
       "    <tr>\n",
       "      <th>19</th>\n",
       "      <td>20</td>\n",
       "      <td>Florencia Ríos</td>\n",
       "      <td>20</td>\n",
       "      <td>Av. Rivadavia 11567</td>\n",
       "    </tr>\n",
       "    <tr>\n",
       "      <th>20</th>\n",
       "      <td>21</td>\n",
       "      <td>Pablo Navarro</td>\n",
       "      <td>21</td>\n",
       "      <td>Av. Pueyrredón 8899</td>\n",
       "    </tr>\n",
       "    <tr>\n",
       "      <th>21</th>\n",
       "      <td>22</td>\n",
       "      <td>Cecilia Vega</td>\n",
       "      <td>22</td>\n",
       "      <td>Av. Directorio 5566</td>\n",
       "    </tr>\n",
       "    <tr>\n",
       "      <th>22</th>\n",
       "      <td>23</td>\n",
       "      <td>Maximiliano Giménez</td>\n",
       "      <td>23</td>\n",
       "      <td>Av. del Libertador 7788</td>\n",
       "    </tr>\n",
       "    <tr>\n",
       "      <th>23</th>\n",
       "      <td>24</td>\n",
       "      <td>Andrea Molina</td>\n",
       "      <td>1</td>\n",
       "      <td>Carlos Casares 456</td>\n",
       "    </tr>\n",
       "    <tr>\n",
       "      <th>24</th>\n",
       "      <td>25</td>\n",
       "      <td>Javier Núñez</td>\n",
       "      <td>2</td>\n",
       "      <td>San Lorenzo 789</td>\n",
       "    </tr>\n",
       "    <tr>\n",
       "      <th>25</th>\n",
       "      <td>26</td>\n",
       "      <td>Verónica Cabrera</td>\n",
       "      <td>3</td>\n",
       "      <td>Boedo 321</td>\n",
       "    </tr>\n",
       "    <tr>\n",
       "      <th>26</th>\n",
       "      <td>27</td>\n",
       "      <td>Hernán Gutiérrez</td>\n",
       "      <td>4</td>\n",
       "      <td>Pavón 654</td>\n",
       "    </tr>\n",
       "    <tr>\n",
       "      <th>27</th>\n",
       "      <td>28</td>\n",
       "      <td>Daniela Rojas</td>\n",
       "      <td>5</td>\n",
       "      <td>Ballester 987</td>\n",
       "    </tr>\n",
       "    <tr>\n",
       "      <th>28</th>\n",
       "      <td>29</td>\n",
       "      <td>Nicolás Figueroa</td>\n",
       "      <td>6</td>\n",
       "      <td>San Juan 147</td>\n",
       "    </tr>\n",
       "    <tr>\n",
       "      <th>29</th>\n",
       "      <td>30</td>\n",
       "      <td>Romina Espinosa</td>\n",
       "      <td>7</td>\n",
       "      <td>Av. Eva Perón 258</td>\n",
       "    </tr>\n",
       "    <tr>\n",
       "      <th>30</th>\n",
       "      <td>31</td>\n",
       "      <td>Facundo Ramos</td>\n",
       "      <td>8</td>\n",
       "      <td>Av. Centenario 369</td>\n",
       "    </tr>\n",
       "    <tr>\n",
       "      <th>31</th>\n",
       "      <td>32</td>\n",
       "      <td>Agustina Mendoza</td>\n",
       "      <td>9</td>\n",
       "      <td>Liniers 741</td>\n",
       "    </tr>\n",
       "    <tr>\n",
       "      <th>32</th>\n",
       "      <td>33</td>\n",
       "      <td>Matías Flores</td>\n",
       "      <td>10</td>\n",
       "      <td>Av. La Plata 852</td>\n",
       "    </tr>\n",
       "    <tr>\n",
       "      <th>33</th>\n",
       "      <td>34</td>\n",
       "      <td>Camila Benítez</td>\n",
       "      <td>11</td>\n",
       "      <td>Diagonal 74 N° 963</td>\n",
       "    </tr>\n",
       "    <tr>\n",
       "      <th>34</th>\n",
       "      <td>35</td>\n",
       "      <td>Lucas Iglesias</td>\n",
       "      <td>12</td>\n",
       "      <td>9 de Julio 159</td>\n",
       "    </tr>\n",
       "    <tr>\n",
       "      <th>35</th>\n",
       "      <td>36</td>\n",
       "      <td>Natalia Peralta</td>\n",
       "      <td>13</td>\n",
       "      <td>Vergara 357</td>\n",
       "    </tr>\n",
       "    <tr>\n",
       "      <th>36</th>\n",
       "      <td>37</td>\n",
       "      <td>Ezequiel Sosa</td>\n",
       "      <td>14</td>\n",
       "      <td>Necochea 753</td>\n",
       "    </tr>\n",
       "    <tr>\n",
       "      <th>37</th>\n",
       "      <td>38</td>\n",
       "      <td>Yamila Cáceres</td>\n",
       "      <td>15</td>\n",
       "      <td>Córdoba 951</td>\n",
       "    </tr>\n",
       "    <tr>\n",
       "      <th>38</th>\n",
       "      <td>39</td>\n",
       "      <td>Rodrigo Arias</td>\n",
       "      <td>16</td>\n",
       "      <td>Juramento 159</td>\n",
       "    </tr>\n",
       "    <tr>\n",
       "      <th>39</th>\n",
       "      <td>40</td>\n",
       "      <td>Micaela Luna</td>\n",
       "      <td>17</td>\n",
       "      <td>Brandsen 357</td>\n",
       "    </tr>\n",
       "  </tbody>\n",
       "</table>\n",
       "</div>"
      ],
      "text/plain": [
       "    id_clientes               nombre  id_localidades  \\\n",
       "0             1           Juan Pérez               1   \n",
       "1             2       María González               2   \n",
       "2             3     Carlos Rodríguez               3   \n",
       "3             4         Ana Martínez               4   \n",
       "4             5       Luis Fernández               5   \n",
       "5             6        Laura Sánchez               6   \n",
       "6             7          Diego López               7   \n",
       "7             8         Sofía Torres               8   \n",
       "8             9         Roberto Díaz               9   \n",
       "9            10      Gabriela Romero              10   \n",
       "10           11         Martín Silva              11   \n",
       "11           12        Carolina Ruiz              12   \n",
       "12           13     Federico Morales              13   \n",
       "13           14       Valeria Castro              14   \n",
       "14           15     Alejandro Vargas              15   \n",
       "15           16      Patricia Acosta              16   \n",
       "16           17      Gustavo Herrera              17   \n",
       "17           18         Lucía Medina              18   \n",
       "18           19      Sebastián Ortiz              19   \n",
       "19           20       Florencia Ríos              20   \n",
       "20           21        Pablo Navarro              21   \n",
       "21           22         Cecilia Vega              22   \n",
       "22           23  Maximiliano Giménez              23   \n",
       "23           24        Andrea Molina               1   \n",
       "24           25         Javier Núñez               2   \n",
       "25           26     Verónica Cabrera               3   \n",
       "26           27     Hernán Gutiérrez               4   \n",
       "27           28        Daniela Rojas               5   \n",
       "28           29     Nicolás Figueroa               6   \n",
       "29           30      Romina Espinosa               7   \n",
       "30           31        Facundo Ramos               8   \n",
       "31           32     Agustina Mendoza               9   \n",
       "32           33        Matías Flores              10   \n",
       "33           34       Camila Benítez              11   \n",
       "34           35       Lucas Iglesias              12   \n",
       "35           36      Natalia Peralta              13   \n",
       "36           37        Ezequiel Sosa              14   \n",
       "37           38       Yamila Cáceres              15   \n",
       "38           39        Rodrigo Arias              16   \n",
       "39           40         Micaela Luna              17   \n",
       "\n",
       "                    domicilio  \n",
       "0         Av. Libertador 1234  \n",
       "1        Calle 25 de Mayo 567  \n",
       "2   Av. Hipólito Yrigoyen 890  \n",
       "3                  Mitre 2345  \n",
       "4              San Martín 678  \n",
       "5               Belgrano 1122  \n",
       "6          Av. Rivadavia 3344  \n",
       "7     Av. del Libertador 5566  \n",
       "8              Av. Cazón 7788  \n",
       "9          Av. Calchaquí 9900  \n",
       "10      Calle 7 entre 47 y 48  \n",
       "11     Hipólito Yrigoyen 1234  \n",
       "12                 Alsina 567  \n",
       "13        Almirante Brown 890  \n",
       "14          Av. Santa Fe 2345  \n",
       "15           Av. Cabildo 3456  \n",
       "16          Montes de Oca 678  \n",
       "17               Defensa 1122  \n",
       "18           Juana Manso 3344  \n",
       "19        Av. Rivadavia 11567  \n",
       "20        Av. Pueyrredón 8899  \n",
       "21        Av. Directorio 5566  \n",
       "22    Av. del Libertador 7788  \n",
       "23         Carlos Casares 456  \n",
       "24            San Lorenzo 789  \n",
       "25                  Boedo 321  \n",
       "26                  Pavón 654  \n",
       "27              Ballester 987  \n",
       "28               San Juan 147  \n",
       "29          Av. Eva Perón 258  \n",
       "30         Av. Centenario 369  \n",
       "31                Liniers 741  \n",
       "32           Av. La Plata 852  \n",
       "33         Diagonal 74 N° 963  \n",
       "34             9 de Julio 159  \n",
       "35                Vergara 357  \n",
       "36               Necochea 753  \n",
       "37                Córdoba 951  \n",
       "38              Juramento 159  \n",
       "39               Brandsen 357  "
      ]
     },
     "execution_count": 4,
     "metadata": {},
     "output_type": "execute_result"
    }
   ],
   "source": [
    "df_clientes = pd.read_sql_query(\"SELECT * FROM clientes;\", engine)\n",
    "df_clientes"
   ]
  },
  {
   "cell_type": "code",
   "execution_count": 5,
   "id": "c29ea01f",
   "metadata": {},
   "outputs": [
    {
     "data": {
      "application/vnd.microsoft.datawrangler.viewer.v0+json": {
       "columns": [
        {
         "name": "index",
         "rawType": "int64",
         "type": "integer"
        },
        {
         "name": "id_autores",
         "rawType": "int64",
         "type": "integer"
        },
        {
         "name": "nombre",
         "rawType": "object",
         "type": "string"
        },
        {
         "name": "id_paises",
         "rawType": "int64",
         "type": "integer"
        }
       ],
       "ref": "d60d631c-0edb-46a2-82c1-88152bbbe84f",
       "rows": [
        [
         "0",
         "1",
         "Jorge Luis Borges",
         "1"
        ],
        [
         "1",
         "2",
         "Julio Cortázar",
         "1"
        ],
        [
         "2",
         "3",
         "Adolfo Bioy Casares",
         "1"
        ],
        [
         "3",
         "4",
         "Hermann Hesse",
         "2"
        ],
        [
         "4",
         "5",
         "Erich Maria Remarque",
         "2"
        ],
        [
         "5",
         "6",
         "Karl Marx",
         "2"
        ],
        [
         "6",
         "7",
         "Colleen McCullough",
         "4"
        ],
        [
         "7",
         "8",
         "Peter Singer",
         "4"
        ],
        [
         "8",
         "9",
         "Stefan Zweig",
         "5"
        ],
        [
         "9",
         "10",
         "Sigmund Freud",
         "5"
        ],
        [
         "10",
         "11",
         "Paulo Coelho",
         "7"
        ],
        [
         "11",
         "12",
         "Machado de Assis",
         "7"
        ],
        [
         "12",
         "13",
         "Jorge Amado",
         "7"
        ],
        [
         "13",
         "14",
         "Georges Simenon",
         "8"
        ],
        [
         "14",
         "15",
         "Hergé",
         "8"
        ],
        [
         "15",
         "16",
         "Ivo Andrić",
         "9"
        ],
        [
         "16",
         "17",
         "Margaret Atwood",
         "10"
        ],
        [
         "17",
         "18",
         "Alice Munro",
         "10"
        ],
        [
         "18",
         "19",
         "Isabel Allende",
         "11"
        ],
        [
         "19",
         "20",
         "Pablo Neruda",
         "11"
        ],
        [
         "20",
         "21",
         "Roberto Bolaño",
         "11"
        ],
        [
         "21",
         "22",
         "Gabriel García Márquez",
         "12"
        ],
        [
         "22",
         "23",
         "Álvaro Mutis",
         "12"
        ],
        [
         "23",
         "24",
         "Mo Yan",
         "13"
        ],
        [
         "24",
         "25",
         "Lu Xun",
         "13"
        ],
        [
         "25",
         "26",
         "Hans Christian Andersen",
         "14"
        ],
        [
         "26",
         "27",
         "Søren Kierkegaard",
         "14"
        ],
        [
         "27",
         "28",
         "Stephen King",
         "15"
        ],
        [
         "28",
         "29",
         "Ernest Hemingway",
         "15"
        ],
        [
         "29",
         "30",
         "Carl Sagan",
         "15"
        ],
        [
         "30",
         "31",
         "Walter Isaacson",
         "15"
        ],
        [
         "31",
         "32",
         "Miguel de Cervantes",
         "16"
        ],
        [
         "32",
         "33",
         "Federico García Lorca",
         "16"
        ],
        [
         "33",
         "34",
         "Arturo Pérez-Reverte",
         "16"
        ],
        [
         "34",
         "35",
         "Jorge Icaza",
         "17"
        ],
        [
         "35",
         "36",
         "Juan Montalvo",
         "17"
        ],
        [
         "36",
         "37",
         "Jules Verne",
         "19"
        ],
        [
         "37",
         "38",
         "Alexandre Dumas",
         "19"
        ],
        [
         "38",
         "39",
         "Victor Hugo",
         "19"
        ],
        [
         "39",
         "40",
         "Albert Camus",
         "19"
        ],
        [
         "40",
         "41",
         "Thomas Piketty",
         "19"
        ],
        [
         "41",
         "42",
         "Umberto Eco",
         "20"
        ],
        [
         "42",
         "43",
         "Dante Alighieri",
         "20"
        ],
        [
         "43",
         "44",
         "Italo Calvino",
         "20"
        ],
        [
         "44",
         "45",
         "Haruki Murakami",
         "21"
        ],
        [
         "45",
         "46",
         "Yukio Mishima",
         "21"
        ],
        [
         "46",
         "47",
         "Hayao Miyazaki",
         "21"
        ],
        [
         "47",
         "48",
         "Octavio Paz",
         "22"
        ],
        [
         "48",
         "49",
         "Carlos Fuentes",
         "22"
        ],
        [
         "49",
         "50",
         "Laura Esquivel",
         "22"
        ]
       ],
       "shape": {
        "columns": 3,
        "rows": 50
       }
      },
      "text/html": [
       "<div>\n",
       "<style scoped>\n",
       "    .dataframe tbody tr th:only-of-type {\n",
       "        vertical-align: middle;\n",
       "    }\n",
       "\n",
       "    .dataframe tbody tr th {\n",
       "        vertical-align: top;\n",
       "    }\n",
       "\n",
       "    .dataframe thead th {\n",
       "        text-align: right;\n",
       "    }\n",
       "</style>\n",
       "<table border=\"1\" class=\"dataframe\">\n",
       "  <thead>\n",
       "    <tr style=\"text-align: right;\">\n",
       "      <th></th>\n",
       "      <th>id_autores</th>\n",
       "      <th>nombre</th>\n",
       "      <th>id_paises</th>\n",
       "    </tr>\n",
       "  </thead>\n",
       "  <tbody>\n",
       "    <tr>\n",
       "      <th>0</th>\n",
       "      <td>1</td>\n",
       "      <td>Jorge Luis Borges</td>\n",
       "      <td>1</td>\n",
       "    </tr>\n",
       "    <tr>\n",
       "      <th>1</th>\n",
       "      <td>2</td>\n",
       "      <td>Julio Cortázar</td>\n",
       "      <td>1</td>\n",
       "    </tr>\n",
       "    <tr>\n",
       "      <th>2</th>\n",
       "      <td>3</td>\n",
       "      <td>Adolfo Bioy Casares</td>\n",
       "      <td>1</td>\n",
       "    </tr>\n",
       "    <tr>\n",
       "      <th>3</th>\n",
       "      <td>4</td>\n",
       "      <td>Hermann Hesse</td>\n",
       "      <td>2</td>\n",
       "    </tr>\n",
       "    <tr>\n",
       "      <th>4</th>\n",
       "      <td>5</td>\n",
       "      <td>Erich Maria Remarque</td>\n",
       "      <td>2</td>\n",
       "    </tr>\n",
       "    <tr>\n",
       "      <th>5</th>\n",
       "      <td>6</td>\n",
       "      <td>Karl Marx</td>\n",
       "      <td>2</td>\n",
       "    </tr>\n",
       "    <tr>\n",
       "      <th>6</th>\n",
       "      <td>7</td>\n",
       "      <td>Colleen McCullough</td>\n",
       "      <td>4</td>\n",
       "    </tr>\n",
       "    <tr>\n",
       "      <th>7</th>\n",
       "      <td>8</td>\n",
       "      <td>Peter Singer</td>\n",
       "      <td>4</td>\n",
       "    </tr>\n",
       "    <tr>\n",
       "      <th>8</th>\n",
       "      <td>9</td>\n",
       "      <td>Stefan Zweig</td>\n",
       "      <td>5</td>\n",
       "    </tr>\n",
       "    <tr>\n",
       "      <th>9</th>\n",
       "      <td>10</td>\n",
       "      <td>Sigmund Freud</td>\n",
       "      <td>5</td>\n",
       "    </tr>\n",
       "    <tr>\n",
       "      <th>10</th>\n",
       "      <td>11</td>\n",
       "      <td>Paulo Coelho</td>\n",
       "      <td>7</td>\n",
       "    </tr>\n",
       "    <tr>\n",
       "      <th>11</th>\n",
       "      <td>12</td>\n",
       "      <td>Machado de Assis</td>\n",
       "      <td>7</td>\n",
       "    </tr>\n",
       "    <tr>\n",
       "      <th>12</th>\n",
       "      <td>13</td>\n",
       "      <td>Jorge Amado</td>\n",
       "      <td>7</td>\n",
       "    </tr>\n",
       "    <tr>\n",
       "      <th>13</th>\n",
       "      <td>14</td>\n",
       "      <td>Georges Simenon</td>\n",
       "      <td>8</td>\n",
       "    </tr>\n",
       "    <tr>\n",
       "      <th>14</th>\n",
       "      <td>15</td>\n",
       "      <td>Hergé</td>\n",
       "      <td>8</td>\n",
       "    </tr>\n",
       "    <tr>\n",
       "      <th>15</th>\n",
       "      <td>16</td>\n",
       "      <td>Ivo Andrić</td>\n",
       "      <td>9</td>\n",
       "    </tr>\n",
       "    <tr>\n",
       "      <th>16</th>\n",
       "      <td>17</td>\n",
       "      <td>Margaret Atwood</td>\n",
       "      <td>10</td>\n",
       "    </tr>\n",
       "    <tr>\n",
       "      <th>17</th>\n",
       "      <td>18</td>\n",
       "      <td>Alice Munro</td>\n",
       "      <td>10</td>\n",
       "    </tr>\n",
       "    <tr>\n",
       "      <th>18</th>\n",
       "      <td>19</td>\n",
       "      <td>Isabel Allende</td>\n",
       "      <td>11</td>\n",
       "    </tr>\n",
       "    <tr>\n",
       "      <th>19</th>\n",
       "      <td>20</td>\n",
       "      <td>Pablo Neruda</td>\n",
       "      <td>11</td>\n",
       "    </tr>\n",
       "    <tr>\n",
       "      <th>20</th>\n",
       "      <td>21</td>\n",
       "      <td>Roberto Bolaño</td>\n",
       "      <td>11</td>\n",
       "    </tr>\n",
       "    <tr>\n",
       "      <th>21</th>\n",
       "      <td>22</td>\n",
       "      <td>Gabriel García Márquez</td>\n",
       "      <td>12</td>\n",
       "    </tr>\n",
       "    <tr>\n",
       "      <th>22</th>\n",
       "      <td>23</td>\n",
       "      <td>Álvaro Mutis</td>\n",
       "      <td>12</td>\n",
       "    </tr>\n",
       "    <tr>\n",
       "      <th>23</th>\n",
       "      <td>24</td>\n",
       "      <td>Mo Yan</td>\n",
       "      <td>13</td>\n",
       "    </tr>\n",
       "    <tr>\n",
       "      <th>24</th>\n",
       "      <td>25</td>\n",
       "      <td>Lu Xun</td>\n",
       "      <td>13</td>\n",
       "    </tr>\n",
       "    <tr>\n",
       "      <th>25</th>\n",
       "      <td>26</td>\n",
       "      <td>Hans Christian Andersen</td>\n",
       "      <td>14</td>\n",
       "    </tr>\n",
       "    <tr>\n",
       "      <th>26</th>\n",
       "      <td>27</td>\n",
       "      <td>Søren Kierkegaard</td>\n",
       "      <td>14</td>\n",
       "    </tr>\n",
       "    <tr>\n",
       "      <th>27</th>\n",
       "      <td>28</td>\n",
       "      <td>Stephen King</td>\n",
       "      <td>15</td>\n",
       "    </tr>\n",
       "    <tr>\n",
       "      <th>28</th>\n",
       "      <td>29</td>\n",
       "      <td>Ernest Hemingway</td>\n",
       "      <td>15</td>\n",
       "    </tr>\n",
       "    <tr>\n",
       "      <th>29</th>\n",
       "      <td>30</td>\n",
       "      <td>Carl Sagan</td>\n",
       "      <td>15</td>\n",
       "    </tr>\n",
       "    <tr>\n",
       "      <th>30</th>\n",
       "      <td>31</td>\n",
       "      <td>Walter Isaacson</td>\n",
       "      <td>15</td>\n",
       "    </tr>\n",
       "    <tr>\n",
       "      <th>31</th>\n",
       "      <td>32</td>\n",
       "      <td>Miguel de Cervantes</td>\n",
       "      <td>16</td>\n",
       "    </tr>\n",
       "    <tr>\n",
       "      <th>32</th>\n",
       "      <td>33</td>\n",
       "      <td>Federico García Lorca</td>\n",
       "      <td>16</td>\n",
       "    </tr>\n",
       "    <tr>\n",
       "      <th>33</th>\n",
       "      <td>34</td>\n",
       "      <td>Arturo Pérez-Reverte</td>\n",
       "      <td>16</td>\n",
       "    </tr>\n",
       "    <tr>\n",
       "      <th>34</th>\n",
       "      <td>35</td>\n",
       "      <td>Jorge Icaza</td>\n",
       "      <td>17</td>\n",
       "    </tr>\n",
       "    <tr>\n",
       "      <th>35</th>\n",
       "      <td>36</td>\n",
       "      <td>Juan Montalvo</td>\n",
       "      <td>17</td>\n",
       "    </tr>\n",
       "    <tr>\n",
       "      <th>36</th>\n",
       "      <td>37</td>\n",
       "      <td>Jules Verne</td>\n",
       "      <td>19</td>\n",
       "    </tr>\n",
       "    <tr>\n",
       "      <th>37</th>\n",
       "      <td>38</td>\n",
       "      <td>Alexandre Dumas</td>\n",
       "      <td>19</td>\n",
       "    </tr>\n",
       "    <tr>\n",
       "      <th>38</th>\n",
       "      <td>39</td>\n",
       "      <td>Victor Hugo</td>\n",
       "      <td>19</td>\n",
       "    </tr>\n",
       "    <tr>\n",
       "      <th>39</th>\n",
       "      <td>40</td>\n",
       "      <td>Albert Camus</td>\n",
       "      <td>19</td>\n",
       "    </tr>\n",
       "    <tr>\n",
       "      <th>40</th>\n",
       "      <td>41</td>\n",
       "      <td>Thomas Piketty</td>\n",
       "      <td>19</td>\n",
       "    </tr>\n",
       "    <tr>\n",
       "      <th>41</th>\n",
       "      <td>42</td>\n",
       "      <td>Umberto Eco</td>\n",
       "      <td>20</td>\n",
       "    </tr>\n",
       "    <tr>\n",
       "      <th>42</th>\n",
       "      <td>43</td>\n",
       "      <td>Dante Alighieri</td>\n",
       "      <td>20</td>\n",
       "    </tr>\n",
       "    <tr>\n",
       "      <th>43</th>\n",
       "      <td>44</td>\n",
       "      <td>Italo Calvino</td>\n",
       "      <td>20</td>\n",
       "    </tr>\n",
       "    <tr>\n",
       "      <th>44</th>\n",
       "      <td>45</td>\n",
       "      <td>Haruki Murakami</td>\n",
       "      <td>21</td>\n",
       "    </tr>\n",
       "    <tr>\n",
       "      <th>45</th>\n",
       "      <td>46</td>\n",
       "      <td>Yukio Mishima</td>\n",
       "      <td>21</td>\n",
       "    </tr>\n",
       "    <tr>\n",
       "      <th>46</th>\n",
       "      <td>47</td>\n",
       "      <td>Hayao Miyazaki</td>\n",
       "      <td>21</td>\n",
       "    </tr>\n",
       "    <tr>\n",
       "      <th>47</th>\n",
       "      <td>48</td>\n",
       "      <td>Octavio Paz</td>\n",
       "      <td>22</td>\n",
       "    </tr>\n",
       "    <tr>\n",
       "      <th>48</th>\n",
       "      <td>49</td>\n",
       "      <td>Carlos Fuentes</td>\n",
       "      <td>22</td>\n",
       "    </tr>\n",
       "    <tr>\n",
       "      <th>49</th>\n",
       "      <td>50</td>\n",
       "      <td>Laura Esquivel</td>\n",
       "      <td>22</td>\n",
       "    </tr>\n",
       "  </tbody>\n",
       "</table>\n",
       "</div>"
      ],
      "text/plain": [
       "    id_autores                   nombre  id_paises\n",
       "0            1        Jorge Luis Borges          1\n",
       "1            2           Julio Cortázar          1\n",
       "2            3      Adolfo Bioy Casares          1\n",
       "3            4            Hermann Hesse          2\n",
       "4            5     Erich Maria Remarque          2\n",
       "5            6                Karl Marx          2\n",
       "6            7       Colleen McCullough          4\n",
       "7            8             Peter Singer          4\n",
       "8            9             Stefan Zweig          5\n",
       "9           10            Sigmund Freud          5\n",
       "10          11             Paulo Coelho          7\n",
       "11          12         Machado de Assis          7\n",
       "12          13              Jorge Amado          7\n",
       "13          14          Georges Simenon          8\n",
       "14          15                    Hergé          8\n",
       "15          16               Ivo Andrić          9\n",
       "16          17          Margaret Atwood         10\n",
       "17          18              Alice Munro         10\n",
       "18          19           Isabel Allende         11\n",
       "19          20             Pablo Neruda         11\n",
       "20          21           Roberto Bolaño         11\n",
       "21          22   Gabriel García Márquez         12\n",
       "22          23             Álvaro Mutis         12\n",
       "23          24                   Mo Yan         13\n",
       "24          25                   Lu Xun         13\n",
       "25          26  Hans Christian Andersen         14\n",
       "26          27        Søren Kierkegaard         14\n",
       "27          28             Stephen King         15\n",
       "28          29         Ernest Hemingway         15\n",
       "29          30               Carl Sagan         15\n",
       "30          31          Walter Isaacson         15\n",
       "31          32      Miguel de Cervantes         16\n",
       "32          33    Federico García Lorca         16\n",
       "33          34     Arturo Pérez-Reverte         16\n",
       "34          35              Jorge Icaza         17\n",
       "35          36            Juan Montalvo         17\n",
       "36          37              Jules Verne         19\n",
       "37          38          Alexandre Dumas         19\n",
       "38          39              Victor Hugo         19\n",
       "39          40             Albert Camus         19\n",
       "40          41           Thomas Piketty         19\n",
       "41          42              Umberto Eco         20\n",
       "42          43          Dante Alighieri         20\n",
       "43          44            Italo Calvino         20\n",
       "44          45          Haruki Murakami         21\n",
       "45          46            Yukio Mishima         21\n",
       "46          47           Hayao Miyazaki         21\n",
       "47          48              Octavio Paz         22\n",
       "48          49           Carlos Fuentes         22\n",
       "49          50           Laura Esquivel         22"
      ]
     },
     "execution_count": 5,
     "metadata": {},
     "output_type": "execute_result"
    }
   ],
   "source": [
    "df_autores = pd.read_sql_query(\"SELECT * FROM autores;\", engine)\n",
    "df_autores"
   ]
  },
  {
   "cell_type": "code",
   "execution_count": 6,
   "id": "57b7a785",
   "metadata": {},
   "outputs": [
    {
     "data": {
      "application/vnd.microsoft.datawrangler.viewer.v0+json": {
       "columns": [
        {
         "name": "index",
         "rawType": "int64",
         "type": "integer"
        },
        {
         "name": "id_factura",
         "rawType": "int64",
         "type": "integer"
        },
        {
         "name": "id_cliente",
         "rawType": "int64",
         "type": "integer"
        },
        {
         "name": "fecha_emision",
         "rawType": "datetime64[ns]",
         "type": "datetime"
        },
        {
         "name": "cant_total",
         "rawType": "int64",
         "type": "integer"
        },
        {
         "name": "monto_total",
         "rawType": "float64",
         "type": "float"
        }
       ],
       "ref": "1b9e7d20-13d5-4e19-94dc-508cfa4ab35d",
       "rows": [
        [
         "0",
         "1",
         "1",
         "2024-09-15 10:30:00",
         "2",
         "30300.0"
        ],
        [
         "1",
         "2",
         "2",
         "2024-09-15 14:45:00",
         "1",
         "15500.0"
        ],
        [
         "2",
         "3",
         "3",
         "2024-09-16 09:20:00",
         "3",
         "52800.0"
        ],
        [
         "3",
         "4",
         "4",
         "2024-09-16 11:15:00",
         "1",
         "22500.0"
        ],
        [
         "4",
         "5",
         "5",
         "2024-09-17 16:40:00",
         "2",
         "41300.0"
        ],
        [
         "5",
         "6",
         "6",
         "2024-09-18 10:05:00",
         "4",
         "71500.0"
        ],
        [
         "6",
         "7",
         "7",
         "2024-09-18 13:30:00",
         "1",
         "26500.0"
        ],
        [
         "7",
         "8",
         "8",
         "2024-09-19 15:20:00",
         "2",
         "34300.0"
        ],
        [
         "8",
         "9",
         "9",
         "2024-09-19 17:50:00",
         "3",
         "48000.0"
        ],
        [
         "9",
         "10",
         "10",
         "2024-09-20 09:45:00",
         "1",
         "18900.0"
        ],
        [
         "10",
         "11",
         "11",
         "2024-09-20 12:10:00",
         "2",
         "43500.0"
        ],
        [
         "11",
         "12",
         "12",
         "2024-09-21 10:30:00",
         "1",
         "21000.0"
        ],
        [
         "12",
         "13",
         "13",
         "2024-09-21 14:25:00",
         "3",
         "61300.0"
        ],
        [
         "13",
         "14",
         "14",
         "2024-09-22 11:40:00",
         "2",
         "39300.0"
        ],
        [
         "14",
         "15",
         "15",
         "2024-09-22 16:15:00",
         "1",
         "32000.0"
        ],
        [
         "15",
         "16",
         "16",
         "2024-09-23 09:50:00",
         "2",
         "36300.0"
        ],
        [
         "16",
         "17",
         "17",
         "2024-09-23 13:20:00",
         "4",
         "78800.0"
        ],
        [
         "17",
         "18",
         "18",
         "2024-09-24 10:35:00",
         "1",
         "14800.0"
        ],
        [
         "18",
         "19",
         "19",
         "2024-09-24 15:45:00",
         "3",
         "54500.0"
        ],
        [
         "19",
         "20",
         "20",
         "2024-09-25 11:20:00",
         "2",
         "33000.0"
        ],
        [
         "20",
         "21",
         "21",
         "2024-09-25 14:50:00",
         "1",
         "18500.0"
        ],
        [
         "21",
         "22",
         "22",
         "2024-09-26 09:30:00",
         "2",
         "40000.0"
        ],
        [
         "22",
         "23",
         "23",
         "2024-09-26 16:00:00",
         "3",
         "68500.0"
        ],
        [
         "23",
         "24",
         "24",
         "2024-09-27 10:15:00",
         "1",
         "15500.0"
        ],
        [
         "24",
         "25",
         "25",
         "2024-09-27 13:40:00",
         "2",
         "35300.0"
        ],
        [
         "25",
         "26",
         "26",
         "2024-09-28 11:25:00",
         "4",
         "82000.0"
        ],
        [
         "26",
         "27",
         "27",
         "2024-09-28 15:10:00",
         "1",
         "19800.0"
        ],
        [
         "27",
         "28",
         "28",
         "2024-09-29 09:55:00",
         "2",
         "38500.0"
        ],
        [
         "28",
         "29",
         "29",
         "2024-09-29 14:30:00",
         "3",
         "57300.0"
        ],
        [
         "29",
         "30",
         "30",
         "2024-09-30 10:45:00",
         "1",
         "22000.0"
        ],
        [
         "30",
         "31",
         "31",
         "2024-10-01 12:20:00",
         "2",
         "44800.0"
        ],
        [
         "31",
         "32",
         "32",
         "2024-10-01 16:35:00",
         "1",
         "17500.0"
        ],
        [
         "32",
         "33",
         "33",
         "2024-10-02 09:40:00",
         "3",
         "62500.0"
        ],
        [
         "33",
         "34",
         "34",
         "2024-10-02 13:55:00",
         "2",
         "37000.0"
        ],
        [
         "34",
         "35",
         "35",
         "2024-10-03 11:10:00",
         "1",
         "24500.0"
        ],
        [
         "35",
         "36",
         "36",
         "2024-10-03 15:25:00",
         "4",
         "76000.0"
        ],
        [
         "36",
         "37",
         "37",
         "2024-10-04 10:50:00",
         "2",
         "41500.0"
        ],
        [
         "37",
         "38",
         "38",
         "2024-10-04 14:15:00",
         "1",
         "16500.0"
        ],
        [
         "38",
         "39",
         "39",
         "2024-10-05 09:30:00",
         "3",
         "56800.0"
        ],
        [
         "39",
         "40",
         "40",
         "2024-10-05 13:45:00",
         "2",
         "35500.0"
        ],
        [
         "40",
         "41",
         "1",
         "2024-10-06 11:00:00",
         "1",
         "28500.0"
        ],
        [
         "41",
         "42",
         "2",
         "2024-10-06 15:20:00",
         "2",
         "39800.0"
        ],
        [
         "42",
         "43",
         "3",
         "2024-10-07 10:35:00",
         "3",
         "64500.0"
        ],
        [
         "43",
         "44",
         "4",
         "2024-10-07 14:50:00",
         "1",
         "21500.0"
        ],
        [
         "44",
         "45",
         "5",
         "2024-10-08 09:45:00",
         "2",
         "42300.0"
        ],
        [
         "45",
         "46",
         "6",
         "2024-10-08 13:10:00",
         "4",
         "79500.0"
        ],
        [
         "46",
         "47",
         "7",
         "2024-10-09 11:25:00",
         "1",
         "19500.0"
        ],
        [
         "47",
         "48",
         "8",
         "2024-10-09 16:40:00",
         "2",
         "36800.0"
        ],
        [
         "48",
         "49",
         "9",
         "2024-10-10 10:15:00",
         "3",
         "58200.0"
        ],
        [
         "49",
         "50",
         "10",
         "2024-10-10 14:30:00",
         "1",
         "20800.0"
        ]
       ],
       "shape": {
        "columns": 5,
        "rows": 50
       }
      },
      "text/html": [
       "<div>\n",
       "<style scoped>\n",
       "    .dataframe tbody tr th:only-of-type {\n",
       "        vertical-align: middle;\n",
       "    }\n",
       "\n",
       "    .dataframe tbody tr th {\n",
       "        vertical-align: top;\n",
       "    }\n",
       "\n",
       "    .dataframe thead th {\n",
       "        text-align: right;\n",
       "    }\n",
       "</style>\n",
       "<table border=\"1\" class=\"dataframe\">\n",
       "  <thead>\n",
       "    <tr style=\"text-align: right;\">\n",
       "      <th></th>\n",
       "      <th>id_factura</th>\n",
       "      <th>id_cliente</th>\n",
       "      <th>fecha_emision</th>\n",
       "      <th>cant_total</th>\n",
       "      <th>monto_total</th>\n",
       "    </tr>\n",
       "  </thead>\n",
       "  <tbody>\n",
       "    <tr>\n",
       "      <th>0</th>\n",
       "      <td>1</td>\n",
       "      <td>1</td>\n",
       "      <td>2024-09-15 10:30:00</td>\n",
       "      <td>2</td>\n",
       "      <td>30300.0</td>\n",
       "    </tr>\n",
       "    <tr>\n",
       "      <th>1</th>\n",
       "      <td>2</td>\n",
       "      <td>2</td>\n",
       "      <td>2024-09-15 14:45:00</td>\n",
       "      <td>1</td>\n",
       "      <td>15500.0</td>\n",
       "    </tr>\n",
       "    <tr>\n",
       "      <th>2</th>\n",
       "      <td>3</td>\n",
       "      <td>3</td>\n",
       "      <td>2024-09-16 09:20:00</td>\n",
       "      <td>3</td>\n",
       "      <td>52800.0</td>\n",
       "    </tr>\n",
       "    <tr>\n",
       "      <th>3</th>\n",
       "      <td>4</td>\n",
       "      <td>4</td>\n",
       "      <td>2024-09-16 11:15:00</td>\n",
       "      <td>1</td>\n",
       "      <td>22500.0</td>\n",
       "    </tr>\n",
       "    <tr>\n",
       "      <th>4</th>\n",
       "      <td>5</td>\n",
       "      <td>5</td>\n",
       "      <td>2024-09-17 16:40:00</td>\n",
       "      <td>2</td>\n",
       "      <td>41300.0</td>\n",
       "    </tr>\n",
       "    <tr>\n",
       "      <th>5</th>\n",
       "      <td>6</td>\n",
       "      <td>6</td>\n",
       "      <td>2024-09-18 10:05:00</td>\n",
       "      <td>4</td>\n",
       "      <td>71500.0</td>\n",
       "    </tr>\n",
       "    <tr>\n",
       "      <th>6</th>\n",
       "      <td>7</td>\n",
       "      <td>7</td>\n",
       "      <td>2024-09-18 13:30:00</td>\n",
       "      <td>1</td>\n",
       "      <td>26500.0</td>\n",
       "    </tr>\n",
       "    <tr>\n",
       "      <th>7</th>\n",
       "      <td>8</td>\n",
       "      <td>8</td>\n",
       "      <td>2024-09-19 15:20:00</td>\n",
       "      <td>2</td>\n",
       "      <td>34300.0</td>\n",
       "    </tr>\n",
       "    <tr>\n",
       "      <th>8</th>\n",
       "      <td>9</td>\n",
       "      <td>9</td>\n",
       "      <td>2024-09-19 17:50:00</td>\n",
       "      <td>3</td>\n",
       "      <td>48000.0</td>\n",
       "    </tr>\n",
       "    <tr>\n",
       "      <th>9</th>\n",
       "      <td>10</td>\n",
       "      <td>10</td>\n",
       "      <td>2024-09-20 09:45:00</td>\n",
       "      <td>1</td>\n",
       "      <td>18900.0</td>\n",
       "    </tr>\n",
       "    <tr>\n",
       "      <th>10</th>\n",
       "      <td>11</td>\n",
       "      <td>11</td>\n",
       "      <td>2024-09-20 12:10:00</td>\n",
       "      <td>2</td>\n",
       "      <td>43500.0</td>\n",
       "    </tr>\n",
       "    <tr>\n",
       "      <th>11</th>\n",
       "      <td>12</td>\n",
       "      <td>12</td>\n",
       "      <td>2024-09-21 10:30:00</td>\n",
       "      <td>1</td>\n",
       "      <td>21000.0</td>\n",
       "    </tr>\n",
       "    <tr>\n",
       "      <th>12</th>\n",
       "      <td>13</td>\n",
       "      <td>13</td>\n",
       "      <td>2024-09-21 14:25:00</td>\n",
       "      <td>3</td>\n",
       "      <td>61300.0</td>\n",
       "    </tr>\n",
       "    <tr>\n",
       "      <th>13</th>\n",
       "      <td>14</td>\n",
       "      <td>14</td>\n",
       "      <td>2024-09-22 11:40:00</td>\n",
       "      <td>2</td>\n",
       "      <td>39300.0</td>\n",
       "    </tr>\n",
       "    <tr>\n",
       "      <th>14</th>\n",
       "      <td>15</td>\n",
       "      <td>15</td>\n",
       "      <td>2024-09-22 16:15:00</td>\n",
       "      <td>1</td>\n",
       "      <td>32000.0</td>\n",
       "    </tr>\n",
       "    <tr>\n",
       "      <th>15</th>\n",
       "      <td>16</td>\n",
       "      <td>16</td>\n",
       "      <td>2024-09-23 09:50:00</td>\n",
       "      <td>2</td>\n",
       "      <td>36300.0</td>\n",
       "    </tr>\n",
       "    <tr>\n",
       "      <th>16</th>\n",
       "      <td>17</td>\n",
       "      <td>17</td>\n",
       "      <td>2024-09-23 13:20:00</td>\n",
       "      <td>4</td>\n",
       "      <td>78800.0</td>\n",
       "    </tr>\n",
       "    <tr>\n",
       "      <th>17</th>\n",
       "      <td>18</td>\n",
       "      <td>18</td>\n",
       "      <td>2024-09-24 10:35:00</td>\n",
       "      <td>1</td>\n",
       "      <td>14800.0</td>\n",
       "    </tr>\n",
       "    <tr>\n",
       "      <th>18</th>\n",
       "      <td>19</td>\n",
       "      <td>19</td>\n",
       "      <td>2024-09-24 15:45:00</td>\n",
       "      <td>3</td>\n",
       "      <td>54500.0</td>\n",
       "    </tr>\n",
       "    <tr>\n",
       "      <th>19</th>\n",
       "      <td>20</td>\n",
       "      <td>20</td>\n",
       "      <td>2024-09-25 11:20:00</td>\n",
       "      <td>2</td>\n",
       "      <td>33000.0</td>\n",
       "    </tr>\n",
       "    <tr>\n",
       "      <th>20</th>\n",
       "      <td>21</td>\n",
       "      <td>21</td>\n",
       "      <td>2024-09-25 14:50:00</td>\n",
       "      <td>1</td>\n",
       "      <td>18500.0</td>\n",
       "    </tr>\n",
       "    <tr>\n",
       "      <th>21</th>\n",
       "      <td>22</td>\n",
       "      <td>22</td>\n",
       "      <td>2024-09-26 09:30:00</td>\n",
       "      <td>2</td>\n",
       "      <td>40000.0</td>\n",
       "    </tr>\n",
       "    <tr>\n",
       "      <th>22</th>\n",
       "      <td>23</td>\n",
       "      <td>23</td>\n",
       "      <td>2024-09-26 16:00:00</td>\n",
       "      <td>3</td>\n",
       "      <td>68500.0</td>\n",
       "    </tr>\n",
       "    <tr>\n",
       "      <th>23</th>\n",
       "      <td>24</td>\n",
       "      <td>24</td>\n",
       "      <td>2024-09-27 10:15:00</td>\n",
       "      <td>1</td>\n",
       "      <td>15500.0</td>\n",
       "    </tr>\n",
       "    <tr>\n",
       "      <th>24</th>\n",
       "      <td>25</td>\n",
       "      <td>25</td>\n",
       "      <td>2024-09-27 13:40:00</td>\n",
       "      <td>2</td>\n",
       "      <td>35300.0</td>\n",
       "    </tr>\n",
       "    <tr>\n",
       "      <th>25</th>\n",
       "      <td>26</td>\n",
       "      <td>26</td>\n",
       "      <td>2024-09-28 11:25:00</td>\n",
       "      <td>4</td>\n",
       "      <td>82000.0</td>\n",
       "    </tr>\n",
       "    <tr>\n",
       "      <th>26</th>\n",
       "      <td>27</td>\n",
       "      <td>27</td>\n",
       "      <td>2024-09-28 15:10:00</td>\n",
       "      <td>1</td>\n",
       "      <td>19800.0</td>\n",
       "    </tr>\n",
       "    <tr>\n",
       "      <th>27</th>\n",
       "      <td>28</td>\n",
       "      <td>28</td>\n",
       "      <td>2024-09-29 09:55:00</td>\n",
       "      <td>2</td>\n",
       "      <td>38500.0</td>\n",
       "    </tr>\n",
       "    <tr>\n",
       "      <th>28</th>\n",
       "      <td>29</td>\n",
       "      <td>29</td>\n",
       "      <td>2024-09-29 14:30:00</td>\n",
       "      <td>3</td>\n",
       "      <td>57300.0</td>\n",
       "    </tr>\n",
       "    <tr>\n",
       "      <th>29</th>\n",
       "      <td>30</td>\n",
       "      <td>30</td>\n",
       "      <td>2024-09-30 10:45:00</td>\n",
       "      <td>1</td>\n",
       "      <td>22000.0</td>\n",
       "    </tr>\n",
       "    <tr>\n",
       "      <th>30</th>\n",
       "      <td>31</td>\n",
       "      <td>31</td>\n",
       "      <td>2024-10-01 12:20:00</td>\n",
       "      <td>2</td>\n",
       "      <td>44800.0</td>\n",
       "    </tr>\n",
       "    <tr>\n",
       "      <th>31</th>\n",
       "      <td>32</td>\n",
       "      <td>32</td>\n",
       "      <td>2024-10-01 16:35:00</td>\n",
       "      <td>1</td>\n",
       "      <td>17500.0</td>\n",
       "    </tr>\n",
       "    <tr>\n",
       "      <th>32</th>\n",
       "      <td>33</td>\n",
       "      <td>33</td>\n",
       "      <td>2024-10-02 09:40:00</td>\n",
       "      <td>3</td>\n",
       "      <td>62500.0</td>\n",
       "    </tr>\n",
       "    <tr>\n",
       "      <th>33</th>\n",
       "      <td>34</td>\n",
       "      <td>34</td>\n",
       "      <td>2024-10-02 13:55:00</td>\n",
       "      <td>2</td>\n",
       "      <td>37000.0</td>\n",
       "    </tr>\n",
       "    <tr>\n",
       "      <th>34</th>\n",
       "      <td>35</td>\n",
       "      <td>35</td>\n",
       "      <td>2024-10-03 11:10:00</td>\n",
       "      <td>1</td>\n",
       "      <td>24500.0</td>\n",
       "    </tr>\n",
       "    <tr>\n",
       "      <th>35</th>\n",
       "      <td>36</td>\n",
       "      <td>36</td>\n",
       "      <td>2024-10-03 15:25:00</td>\n",
       "      <td>4</td>\n",
       "      <td>76000.0</td>\n",
       "    </tr>\n",
       "    <tr>\n",
       "      <th>36</th>\n",
       "      <td>37</td>\n",
       "      <td>37</td>\n",
       "      <td>2024-10-04 10:50:00</td>\n",
       "      <td>2</td>\n",
       "      <td>41500.0</td>\n",
       "    </tr>\n",
       "    <tr>\n",
       "      <th>37</th>\n",
       "      <td>38</td>\n",
       "      <td>38</td>\n",
       "      <td>2024-10-04 14:15:00</td>\n",
       "      <td>1</td>\n",
       "      <td>16500.0</td>\n",
       "    </tr>\n",
       "    <tr>\n",
       "      <th>38</th>\n",
       "      <td>39</td>\n",
       "      <td>39</td>\n",
       "      <td>2024-10-05 09:30:00</td>\n",
       "      <td>3</td>\n",
       "      <td>56800.0</td>\n",
       "    </tr>\n",
       "    <tr>\n",
       "      <th>39</th>\n",
       "      <td>40</td>\n",
       "      <td>40</td>\n",
       "      <td>2024-10-05 13:45:00</td>\n",
       "      <td>2</td>\n",
       "      <td>35500.0</td>\n",
       "    </tr>\n",
       "    <tr>\n",
       "      <th>40</th>\n",
       "      <td>41</td>\n",
       "      <td>1</td>\n",
       "      <td>2024-10-06 11:00:00</td>\n",
       "      <td>1</td>\n",
       "      <td>28500.0</td>\n",
       "    </tr>\n",
       "    <tr>\n",
       "      <th>41</th>\n",
       "      <td>42</td>\n",
       "      <td>2</td>\n",
       "      <td>2024-10-06 15:20:00</td>\n",
       "      <td>2</td>\n",
       "      <td>39800.0</td>\n",
       "    </tr>\n",
       "    <tr>\n",
       "      <th>42</th>\n",
       "      <td>43</td>\n",
       "      <td>3</td>\n",
       "      <td>2024-10-07 10:35:00</td>\n",
       "      <td>3</td>\n",
       "      <td>64500.0</td>\n",
       "    </tr>\n",
       "    <tr>\n",
       "      <th>43</th>\n",
       "      <td>44</td>\n",
       "      <td>4</td>\n",
       "      <td>2024-10-07 14:50:00</td>\n",
       "      <td>1</td>\n",
       "      <td>21500.0</td>\n",
       "    </tr>\n",
       "    <tr>\n",
       "      <th>44</th>\n",
       "      <td>45</td>\n",
       "      <td>5</td>\n",
       "      <td>2024-10-08 09:45:00</td>\n",
       "      <td>2</td>\n",
       "      <td>42300.0</td>\n",
       "    </tr>\n",
       "    <tr>\n",
       "      <th>45</th>\n",
       "      <td>46</td>\n",
       "      <td>6</td>\n",
       "      <td>2024-10-08 13:10:00</td>\n",
       "      <td>4</td>\n",
       "      <td>79500.0</td>\n",
       "    </tr>\n",
       "    <tr>\n",
       "      <th>46</th>\n",
       "      <td>47</td>\n",
       "      <td>7</td>\n",
       "      <td>2024-10-09 11:25:00</td>\n",
       "      <td>1</td>\n",
       "      <td>19500.0</td>\n",
       "    </tr>\n",
       "    <tr>\n",
       "      <th>47</th>\n",
       "      <td>48</td>\n",
       "      <td>8</td>\n",
       "      <td>2024-10-09 16:40:00</td>\n",
       "      <td>2</td>\n",
       "      <td>36800.0</td>\n",
       "    </tr>\n",
       "    <tr>\n",
       "      <th>48</th>\n",
       "      <td>49</td>\n",
       "      <td>9</td>\n",
       "      <td>2024-10-10 10:15:00</td>\n",
       "      <td>3</td>\n",
       "      <td>58200.0</td>\n",
       "    </tr>\n",
       "    <tr>\n",
       "      <th>49</th>\n",
       "      <td>50</td>\n",
       "      <td>10</td>\n",
       "      <td>2024-10-10 14:30:00</td>\n",
       "      <td>1</td>\n",
       "      <td>20800.0</td>\n",
       "    </tr>\n",
       "  </tbody>\n",
       "</table>\n",
       "</div>"
      ],
      "text/plain": [
       "    id_factura  id_cliente       fecha_emision  cant_total  monto_total\n",
       "0            1           1 2024-09-15 10:30:00           2      30300.0\n",
       "1            2           2 2024-09-15 14:45:00           1      15500.0\n",
       "2            3           3 2024-09-16 09:20:00           3      52800.0\n",
       "3            4           4 2024-09-16 11:15:00           1      22500.0\n",
       "4            5           5 2024-09-17 16:40:00           2      41300.0\n",
       "5            6           6 2024-09-18 10:05:00           4      71500.0\n",
       "6            7           7 2024-09-18 13:30:00           1      26500.0\n",
       "7            8           8 2024-09-19 15:20:00           2      34300.0\n",
       "8            9           9 2024-09-19 17:50:00           3      48000.0\n",
       "9           10          10 2024-09-20 09:45:00           1      18900.0\n",
       "10          11          11 2024-09-20 12:10:00           2      43500.0\n",
       "11          12          12 2024-09-21 10:30:00           1      21000.0\n",
       "12          13          13 2024-09-21 14:25:00           3      61300.0\n",
       "13          14          14 2024-09-22 11:40:00           2      39300.0\n",
       "14          15          15 2024-09-22 16:15:00           1      32000.0\n",
       "15          16          16 2024-09-23 09:50:00           2      36300.0\n",
       "16          17          17 2024-09-23 13:20:00           4      78800.0\n",
       "17          18          18 2024-09-24 10:35:00           1      14800.0\n",
       "18          19          19 2024-09-24 15:45:00           3      54500.0\n",
       "19          20          20 2024-09-25 11:20:00           2      33000.0\n",
       "20          21          21 2024-09-25 14:50:00           1      18500.0\n",
       "21          22          22 2024-09-26 09:30:00           2      40000.0\n",
       "22          23          23 2024-09-26 16:00:00           3      68500.0\n",
       "23          24          24 2024-09-27 10:15:00           1      15500.0\n",
       "24          25          25 2024-09-27 13:40:00           2      35300.0\n",
       "25          26          26 2024-09-28 11:25:00           4      82000.0\n",
       "26          27          27 2024-09-28 15:10:00           1      19800.0\n",
       "27          28          28 2024-09-29 09:55:00           2      38500.0\n",
       "28          29          29 2024-09-29 14:30:00           3      57300.0\n",
       "29          30          30 2024-09-30 10:45:00           1      22000.0\n",
       "30          31          31 2024-10-01 12:20:00           2      44800.0\n",
       "31          32          32 2024-10-01 16:35:00           1      17500.0\n",
       "32          33          33 2024-10-02 09:40:00           3      62500.0\n",
       "33          34          34 2024-10-02 13:55:00           2      37000.0\n",
       "34          35          35 2024-10-03 11:10:00           1      24500.0\n",
       "35          36          36 2024-10-03 15:25:00           4      76000.0\n",
       "36          37          37 2024-10-04 10:50:00           2      41500.0\n",
       "37          38          38 2024-10-04 14:15:00           1      16500.0\n",
       "38          39          39 2024-10-05 09:30:00           3      56800.0\n",
       "39          40          40 2024-10-05 13:45:00           2      35500.0\n",
       "40          41           1 2024-10-06 11:00:00           1      28500.0\n",
       "41          42           2 2024-10-06 15:20:00           2      39800.0\n",
       "42          43           3 2024-10-07 10:35:00           3      64500.0\n",
       "43          44           4 2024-10-07 14:50:00           1      21500.0\n",
       "44          45           5 2024-10-08 09:45:00           2      42300.0\n",
       "45          46           6 2024-10-08 13:10:00           4      79500.0\n",
       "46          47           7 2024-10-09 11:25:00           1      19500.0\n",
       "47          48           8 2024-10-09 16:40:00           2      36800.0\n",
       "48          49           9 2024-10-10 10:15:00           3      58200.0\n",
       "49          50          10 2024-10-10 14:30:00           1      20800.0"
      ]
     },
     "execution_count": 6,
     "metadata": {},
     "output_type": "execute_result"
    }
   ],
   "source": [
    "df_factura = pd.read_sql_query(\"SELECT * FROM factura;\", engine)\n",
    "df_factura"
   ]
  },
  {
   "cell_type": "code",
   "execution_count": 7,
   "id": "dfe4b999",
   "metadata": {},
   "outputs": [
    {
     "data": {
      "application/vnd.microsoft.datawrangler.viewer.v0+json": {
       "columns": [
        {
         "name": "index",
         "rawType": "int64",
         "type": "integer"
        },
        {
         "name": "id_formatos",
         "rawType": "int64",
         "type": "integer"
        },
        {
         "name": "descripcion",
         "rawType": "object",
         "type": "string"
        }
       ],
       "ref": "48f0c5d7-2995-41e8-8e80-f30dd66e9e36",
       "rows": [
        [
         "0",
         "1",
         "Físico"
        ],
        [
         "1",
         "2",
         "Digital"
        ]
       ],
       "shape": {
        "columns": 2,
        "rows": 2
       }
      },
      "text/html": [
       "<div>\n",
       "<style scoped>\n",
       "    .dataframe tbody tr th:only-of-type {\n",
       "        vertical-align: middle;\n",
       "    }\n",
       "\n",
       "    .dataframe tbody tr th {\n",
       "        vertical-align: top;\n",
       "    }\n",
       "\n",
       "    .dataframe thead th {\n",
       "        text-align: right;\n",
       "    }\n",
       "</style>\n",
       "<table border=\"1\" class=\"dataframe\">\n",
       "  <thead>\n",
       "    <tr style=\"text-align: right;\">\n",
       "      <th></th>\n",
       "      <th>id_formatos</th>\n",
       "      <th>descripcion</th>\n",
       "    </tr>\n",
       "  </thead>\n",
       "  <tbody>\n",
       "    <tr>\n",
       "      <th>0</th>\n",
       "      <td>1</td>\n",
       "      <td>Físico</td>\n",
       "    </tr>\n",
       "    <tr>\n",
       "      <th>1</th>\n",
       "      <td>2</td>\n",
       "      <td>Digital</td>\n",
       "    </tr>\n",
       "  </tbody>\n",
       "</table>\n",
       "</div>"
      ],
      "text/plain": [
       "   id_formatos descripcion\n",
       "0            1      Físico\n",
       "1            2     Digital"
      ]
     },
     "execution_count": 7,
     "metadata": {},
     "output_type": "execute_result"
    }
   ],
   "source": [
    "df_formatos = pd.read_sql_query(\"SELECT * FROM formatos;\", engine)\n",
    "df_formatos"
   ]
  },
  {
   "cell_type": "code",
   "execution_count": 8,
   "id": "799ac2b9",
   "metadata": {},
   "outputs": [
    {
     "data": {
      "application/vnd.microsoft.datawrangler.viewer.v0+json": {
       "columns": [
        {
         "name": "index",
         "rawType": "int64",
         "type": "integer"
        },
        {
         "name": "id_generos",
         "rawType": "int64",
         "type": "integer"
        },
        {
         "name": "descripcion",
         "rawType": "object",
         "type": "string"
        }
       ],
       "ref": "072edb08-cb50-4d61-ad7c-efbc4c9e1ee2",
       "rows": [
        [
         "0",
         "1",
         "Aventura"
        ],
        [
         "1",
         "2",
         "Terror"
        ],
        [
         "2",
         "3",
         "Fantasía"
        ],
        [
         "3",
         "4",
         "Infantíl"
        ],
        [
         "4",
         "5",
         "Economía y Finanzas"
        ],
        [
         "5",
         "6",
         "Teología"
        ],
        [
         "6",
         "7",
         "Política"
        ],
        [
         "7",
         "8",
         "História"
        ],
        [
         "8",
         "9",
         "Novela"
        ],
        [
         "9",
         "10",
         "Biografía"
        ],
        [
         "10",
         "11",
         "Ciencia"
        ]
       ],
       "shape": {
        "columns": 2,
        "rows": 11
       }
      },
      "text/html": [
       "<div>\n",
       "<style scoped>\n",
       "    .dataframe tbody tr th:only-of-type {\n",
       "        vertical-align: middle;\n",
       "    }\n",
       "\n",
       "    .dataframe tbody tr th {\n",
       "        vertical-align: top;\n",
       "    }\n",
       "\n",
       "    .dataframe thead th {\n",
       "        text-align: right;\n",
       "    }\n",
       "</style>\n",
       "<table border=\"1\" class=\"dataframe\">\n",
       "  <thead>\n",
       "    <tr style=\"text-align: right;\">\n",
       "      <th></th>\n",
       "      <th>id_generos</th>\n",
       "      <th>descripcion</th>\n",
       "    </tr>\n",
       "  </thead>\n",
       "  <tbody>\n",
       "    <tr>\n",
       "      <th>0</th>\n",
       "      <td>1</td>\n",
       "      <td>Aventura</td>\n",
       "    </tr>\n",
       "    <tr>\n",
       "      <th>1</th>\n",
       "      <td>2</td>\n",
       "      <td>Terror</td>\n",
       "    </tr>\n",
       "    <tr>\n",
       "      <th>2</th>\n",
       "      <td>3</td>\n",
       "      <td>Fantasía</td>\n",
       "    </tr>\n",
       "    <tr>\n",
       "      <th>3</th>\n",
       "      <td>4</td>\n",
       "      <td>Infantíl</td>\n",
       "    </tr>\n",
       "    <tr>\n",
       "      <th>4</th>\n",
       "      <td>5</td>\n",
       "      <td>Economía y Finanzas</td>\n",
       "    </tr>\n",
       "    <tr>\n",
       "      <th>5</th>\n",
       "      <td>6</td>\n",
       "      <td>Teología</td>\n",
       "    </tr>\n",
       "    <tr>\n",
       "      <th>6</th>\n",
       "      <td>7</td>\n",
       "      <td>Política</td>\n",
       "    </tr>\n",
       "    <tr>\n",
       "      <th>7</th>\n",
       "      <td>8</td>\n",
       "      <td>História</td>\n",
       "    </tr>\n",
       "    <tr>\n",
       "      <th>8</th>\n",
       "      <td>9</td>\n",
       "      <td>Novela</td>\n",
       "    </tr>\n",
       "    <tr>\n",
       "      <th>9</th>\n",
       "      <td>10</td>\n",
       "      <td>Biografía</td>\n",
       "    </tr>\n",
       "    <tr>\n",
       "      <th>10</th>\n",
       "      <td>11</td>\n",
       "      <td>Ciencia</td>\n",
       "    </tr>\n",
       "  </tbody>\n",
       "</table>\n",
       "</div>"
      ],
      "text/plain": [
       "    id_generos          descripcion\n",
       "0            1             Aventura\n",
       "1            2               Terror\n",
       "2            3             Fantasía\n",
       "3            4             Infantíl\n",
       "4            5  Economía y Finanzas\n",
       "5            6             Teología\n",
       "6            7             Política\n",
       "7            8             História\n",
       "8            9               Novela\n",
       "9           10            Biografía\n",
       "10          11              Ciencia"
      ]
     },
     "execution_count": 8,
     "metadata": {},
     "output_type": "execute_result"
    }
   ],
   "source": [
    "df_generos = pd.read_sql_query(\"SELECT * FROM generos;\", engine)\n",
    "df_generos"
   ]
  },
  {
   "cell_type": "code",
   "execution_count": 9,
   "id": "5f562119",
   "metadata": {},
   "outputs": [
    {
     "data": {
      "application/vnd.microsoft.datawrangler.viewer.v0+json": {
       "columns": [
        {
         "name": "index",
         "rawType": "int64",
         "type": "integer"
        },
        {
         "name": "id_libro",
         "rawType": "int64",
         "type": "integer"
        },
        {
         "name": "nombre",
         "rawType": "object",
         "type": "string"
        },
        {
         "name": "id_autores",
         "rawType": "int64",
         "type": "integer"
        },
        {
         "name": "id_generos",
         "rawType": "int64",
         "type": "integer"
        },
        {
         "name": "id_formatos",
         "rawType": "int64",
         "type": "integer"
        },
        {
         "name": "precio",
         "rawType": "float64",
         "type": "float"
        }
       ],
       "ref": "53bd7194-cfe4-412e-afc8-70ef6ef1ddab",
       "rows": [
        [
         "0",
         "1",
         "Ficciones",
         "1",
         "3",
         "1",
         "15500.0"
        ],
        [
         "1",
         "2",
         "El Aleph",
         "1",
         "3",
         "1",
         "14800.0"
        ],
        [
         "2",
         "3",
         "El Aleph",
         "1",
         "3",
         "2",
         "9500.0"
        ],
        [
         "3",
         "4",
         "Rayuela",
         "2",
         "9",
         "1",
         "18900.0"
        ],
        [
         "4",
         "5",
         "Bestiario",
         "2",
         "3",
         "1",
         "12500.0"
        ],
        [
         "5",
         "6",
         "Rayuela",
         "2",
         "9",
         "2",
         "11200.0"
        ],
        [
         "6",
         "7",
         "La invención de Morel",
         "3",
         "1",
         "1",
         "13700.0"
        ],
        [
         "7",
         "8",
         "El sueño de los héroes",
         "3",
         "1",
         "1",
         "14200.0"
        ],
        [
         "8",
         "9",
         "El lobo estepario",
         "4",
         "9",
         "1",
         "16800.0"
        ],
        [
         "9",
         "10",
         "Siddharta",
         "4",
         "9",
         "1",
         "15300.0"
        ],
        [
         "10",
         "11",
         "Siddharta",
         "4",
         "9",
         "2",
         "8900.0"
        ],
        [
         "11",
         "12",
         "Sin novedad en el frente",
         "5",
         "8",
         "1",
         "17500.0"
        ],
        [
         "12",
         "13",
         "Tres camaradas",
         "5",
         "9",
         "1",
         "16200.0"
        ],
        [
         "13",
         "14",
         "El Capital",
         "6",
         "5",
         "1",
         "25000.0"
        ],
        [
         "14",
         "15",
         "Manifiesto Comunista",
         "6",
         "7",
         "1",
         "8500.0"
        ],
        [
         "15",
         "16",
         "El Capital",
         "6",
         "5",
         "2",
         "15000.0"
        ],
        [
         "16",
         "17",
         "El pájaro espino",
         "7",
         "9",
         "1",
         "19800.0"
        ],
        [
         "17",
         "18",
         "Liberación animal",
         "8",
         "7",
         "1",
         "18500.0"
        ],
        [
         "18",
         "19",
         "Ética práctica",
         "8",
         "7",
         "2",
         "12000.0"
        ],
        [
         "19",
         "20",
         "María Antonieta",
         "9",
         "10",
         "1",
         "21500.0"
        ],
        [
         "20",
         "21",
         "El mundo de ayer",
         "9",
         "10",
         "1",
         "19900.0"
        ],
        [
         "21",
         "22",
         "Novela de ajedrez",
         "9",
         "9",
         "1",
         "11500.0"
        ],
        [
         "22",
         "23",
         "La interpretación de los sueños",
         "10",
         "11",
         "1",
         "28000.0"
        ],
        [
         "23",
         "24",
         "El malestar en la cultura",
         "10",
         "11",
         "1",
         "14500.0"
        ],
        [
         "24",
         "25",
         "El malestar en la cultura",
         "10",
         "11",
         "2",
         "9800.0"
        ],
        [
         "25",
         "26",
         "El Alquimista",
         "11",
         "9",
         "1",
         "16500.0"
        ],
        [
         "26",
         "27",
         "Brida",
         "11",
         "9",
         "1",
         "15800.0"
        ],
        [
         "27",
         "28",
         "El Alquimista",
         "11",
         "9",
         "2",
         "10500.0"
        ],
        [
         "28",
         "29",
         "Memorias póstumas de Brás Cubas",
         "12",
         "9",
         "1",
         "17200.0"
        ],
        [
         "29",
         "30",
         "Don Casmurro",
         "12",
         "9",
         "1",
         "16800.0"
        ],
        [
         "30",
         "31",
         "Doña Flor y sus dos maridos",
         "13",
         "9",
         "1",
         "18200.0"
        ],
        [
         "31",
         "32",
         "Capitanes de la arena",
         "13",
         "9",
         "1",
         "16500.0"
        ],
        [
         "32",
         "33",
         "Maigret tiende una trampa",
         "14",
         "1",
         "1",
         "13500.0"
        ],
        [
         "33",
         "34",
         "El ahorcado de Saint-Pholien",
         "14",
         "1",
         "1",
         "12800.0"
        ],
        [
         "34",
         "35",
         "Las aventuras de Tintín",
         "15",
         "4",
         "1",
         "22000.0"
        ],
        [
         "35",
         "36",
         "Tintín en el Tíbet",
         "15",
         "1",
         "1",
         "18500.0"
        ],
        [
         "36",
         "37",
         "Un puente sobre el Drina",
         "16",
         "8",
         "1",
         "19500.0"
        ],
        [
         "37",
         "38",
         "El cuento de la criada",
         "17",
         "3",
         "1",
         "20500.0"
        ],
        [
         "38",
         "39",
         "Alias Grace",
         "17",
         "9",
         "1",
         "19200.0"
        ],
        [
         "39",
         "40",
         "El cuento de la criada",
         "17",
         "3",
         "2",
         "13000.0"
        ],
        [
         "40",
         "41",
         "Demasiada felicidad",
         "18",
         "9",
         "1",
         "16800.0"
        ],
        [
         "41",
         "42",
         "La vida de las mujeres",
         "18",
         "9",
         "1",
         "17500.0"
        ],
        [
         "42",
         "43",
         "La casa de los espíritus",
         "19",
         "9",
         "1",
         "21000.0"
        ],
        [
         "43",
         "44",
         "Paula",
         "19",
         "10",
         "1",
         "18500.0"
        ],
        [
         "44",
         "45",
         "La casa de los espíritus",
         "19",
         "9",
         "2",
         "12800.0"
        ],
        [
         "45",
         "46",
         "Veinte poemas de amor",
         "20",
         "9",
         "1",
         "12500.0"
        ],
        [
         "46",
         "47",
         "Confieso que he vivido",
         "20",
         "10",
         "1",
         "19800.0"
        ],
        [
         "47",
         "48",
         "Los detectives salvajes",
         "21",
         "9",
         "1",
         "24500.0"
        ],
        [
         "48",
         "49",
         "2666",
         "21",
         "9",
         "1",
         "32000.0"
        ],
        [
         "49",
         "50",
         "Cien años de soledad",
         "22",
         "9",
         "1",
         "22500.0"
        ]
       ],
       "shape": {
        "columns": 6,
        "rows": 119
       }
      },
      "text/html": [
       "<div>\n",
       "<style scoped>\n",
       "    .dataframe tbody tr th:only-of-type {\n",
       "        vertical-align: middle;\n",
       "    }\n",
       "\n",
       "    .dataframe tbody tr th {\n",
       "        vertical-align: top;\n",
       "    }\n",
       "\n",
       "    .dataframe thead th {\n",
       "        text-align: right;\n",
       "    }\n",
       "</style>\n",
       "<table border=\"1\" class=\"dataframe\">\n",
       "  <thead>\n",
       "    <tr style=\"text-align: right;\">\n",
       "      <th></th>\n",
       "      <th>id_libro</th>\n",
       "      <th>nombre</th>\n",
       "      <th>id_autores</th>\n",
       "      <th>id_generos</th>\n",
       "      <th>id_formatos</th>\n",
       "      <th>precio</th>\n",
       "    </tr>\n",
       "  </thead>\n",
       "  <tbody>\n",
       "    <tr>\n",
       "      <th>0</th>\n",
       "      <td>1</td>\n",
       "      <td>Ficciones</td>\n",
       "      <td>1</td>\n",
       "      <td>3</td>\n",
       "      <td>1</td>\n",
       "      <td>15500.0</td>\n",
       "    </tr>\n",
       "    <tr>\n",
       "      <th>1</th>\n",
       "      <td>2</td>\n",
       "      <td>El Aleph</td>\n",
       "      <td>1</td>\n",
       "      <td>3</td>\n",
       "      <td>1</td>\n",
       "      <td>14800.0</td>\n",
       "    </tr>\n",
       "    <tr>\n",
       "      <th>2</th>\n",
       "      <td>3</td>\n",
       "      <td>El Aleph</td>\n",
       "      <td>1</td>\n",
       "      <td>3</td>\n",
       "      <td>2</td>\n",
       "      <td>9500.0</td>\n",
       "    </tr>\n",
       "    <tr>\n",
       "      <th>3</th>\n",
       "      <td>4</td>\n",
       "      <td>Rayuela</td>\n",
       "      <td>2</td>\n",
       "      <td>9</td>\n",
       "      <td>1</td>\n",
       "      <td>18900.0</td>\n",
       "    </tr>\n",
       "    <tr>\n",
       "      <th>4</th>\n",
       "      <td>5</td>\n",
       "      <td>Bestiario</td>\n",
       "      <td>2</td>\n",
       "      <td>3</td>\n",
       "      <td>1</td>\n",
       "      <td>12500.0</td>\n",
       "    </tr>\n",
       "    <tr>\n",
       "      <th>...</th>\n",
       "      <td>...</td>\n",
       "      <td>...</td>\n",
       "      <td>...</td>\n",
       "      <td>...</td>\n",
       "      <td>...</td>\n",
       "      <td>...</td>\n",
       "    </tr>\n",
       "    <tr>\n",
       "      <th>114</th>\n",
       "      <td>115</td>\n",
       "      <td>Sor Juana Inés de la Cruz</td>\n",
       "      <td>48</td>\n",
       "      <td>10</td>\n",
       "      <td>1</td>\n",
       "      <td>21000.0</td>\n",
       "    </tr>\n",
       "    <tr>\n",
       "      <th>115</th>\n",
       "      <td>116</td>\n",
       "      <td>La muerte de Artemio Cruz</td>\n",
       "      <td>49</td>\n",
       "      <td>8</td>\n",
       "      <td>1</td>\n",
       "      <td>19800.0</td>\n",
       "    </tr>\n",
       "    <tr>\n",
       "      <th>116</th>\n",
       "      <td>117</td>\n",
       "      <td>Aura</td>\n",
       "      <td>49</td>\n",
       "      <td>9</td>\n",
       "      <td>1</td>\n",
       "      <td>14500.0</td>\n",
       "    </tr>\n",
       "    <tr>\n",
       "      <th>117</th>\n",
       "      <td>118</td>\n",
       "      <td>Como agua para chocolate</td>\n",
       "      <td>50</td>\n",
       "      <td>9</td>\n",
       "      <td>1</td>\n",
       "      <td>17500.0</td>\n",
       "    </tr>\n",
       "    <tr>\n",
       "      <th>118</th>\n",
       "      <td>119</td>\n",
       "      <td>Tan veloz como el deseo</td>\n",
       "      <td>50</td>\n",
       "      <td>9</td>\n",
       "      <td>1</td>\n",
       "      <td>18200.0</td>\n",
       "    </tr>\n",
       "  </tbody>\n",
       "</table>\n",
       "<p>119 rows × 6 columns</p>\n",
       "</div>"
      ],
      "text/plain": [
       "     id_libro                     nombre  id_autores  id_generos  id_formatos  \\\n",
       "0           1                  Ficciones           1           3            1   \n",
       "1           2                   El Aleph           1           3            1   \n",
       "2           3                   El Aleph           1           3            2   \n",
       "3           4                    Rayuela           2           9            1   \n",
       "4           5                  Bestiario           2           3            1   \n",
       "..        ...                        ...         ...         ...          ...   \n",
       "114       115  Sor Juana Inés de la Cruz          48          10            1   \n",
       "115       116  La muerte de Artemio Cruz          49           8            1   \n",
       "116       117                       Aura          49           9            1   \n",
       "117       118   Como agua para chocolate          50           9            1   \n",
       "118       119    Tan veloz como el deseo          50           9            1   \n",
       "\n",
       "      precio  \n",
       "0    15500.0  \n",
       "1    14800.0  \n",
       "2     9500.0  \n",
       "3    18900.0  \n",
       "4    12500.0  \n",
       "..       ...  \n",
       "114  21000.0  \n",
       "115  19800.0  \n",
       "116  14500.0  \n",
       "117  17500.0  \n",
       "118  18200.0  \n",
       "\n",
       "[119 rows x 6 columns]"
      ]
     },
     "execution_count": 9,
     "metadata": {},
     "output_type": "execute_result"
    }
   ],
   "source": [
    "df_libros = pd.read_sql_query(\"SELECT * FROM libros;\", engine)\n",
    "df_libros"
   ]
  },
  {
   "cell_type": "code",
   "execution_count": 10,
   "id": "e0dfbff4",
   "metadata": {},
   "outputs": [
    {
     "data": {
      "application/vnd.microsoft.datawrangler.viewer.v0+json": {
       "columns": [
        {
         "name": "index",
         "rawType": "int64",
         "type": "integer"
        },
        {
         "name": "id_localidades",
         "rawType": "int64",
         "type": "integer"
        },
        {
         "name": "descripcion",
         "rawType": "object",
         "type": "string"
        }
       ],
       "ref": "52e90174-2189-4ced-a0e4-667933da6453",
       "rows": [
        [
         "0",
         "1",
         "Ezeiza"
        ],
        [
         "1",
         "2",
         "Esteban Echeverría"
        ],
        [
         "2",
         "3",
         "Lomas de Zamora"
        ],
        [
         "3",
         "4",
         "Avellaneda"
        ],
        [
         "4",
         "5",
         "San Martín"
        ],
        [
         "5",
         "6",
         "San Vicente"
        ],
        [
         "6",
         "7",
         "La Matanza"
        ],
        [
         "7",
         "8",
         "San Isidro"
        ],
        [
         "8",
         "9",
         "Tigre"
        ],
        [
         "9",
         "10",
         "Quilmes"
        ],
        [
         "10",
         "11",
         "La Plata"
        ],
        [
         "11",
         "12",
         "Lanús"
        ],
        [
         "12",
         "13",
         "Bandfield"
        ],
        [
         "13",
         "14",
         "La Boca"
        ],
        [
         "14",
         "15",
         "Palermo"
        ],
        [
         "15",
         "16",
         "Belgrano"
        ],
        [
         "16",
         "17",
         "Barracas"
        ],
        [
         "17",
         "18",
         "San Telmo"
        ],
        [
         "18",
         "19",
         "Madero"
        ],
        [
         "19",
         "20",
         "Liniers"
        ],
        [
         "20",
         "21",
         "Once"
        ],
        [
         "21",
         "22",
         "Flores"
        ],
        [
         "22",
         "23",
         "Núñez"
        ]
       ],
       "shape": {
        "columns": 2,
        "rows": 23
       }
      },
      "text/html": [
       "<div>\n",
       "<style scoped>\n",
       "    .dataframe tbody tr th:only-of-type {\n",
       "        vertical-align: middle;\n",
       "    }\n",
       "\n",
       "    .dataframe tbody tr th {\n",
       "        vertical-align: top;\n",
       "    }\n",
       "\n",
       "    .dataframe thead th {\n",
       "        text-align: right;\n",
       "    }\n",
       "</style>\n",
       "<table border=\"1\" class=\"dataframe\">\n",
       "  <thead>\n",
       "    <tr style=\"text-align: right;\">\n",
       "      <th></th>\n",
       "      <th>id_localidades</th>\n",
       "      <th>descripcion</th>\n",
       "    </tr>\n",
       "  </thead>\n",
       "  <tbody>\n",
       "    <tr>\n",
       "      <th>0</th>\n",
       "      <td>1</td>\n",
       "      <td>Ezeiza</td>\n",
       "    </tr>\n",
       "    <tr>\n",
       "      <th>1</th>\n",
       "      <td>2</td>\n",
       "      <td>Esteban Echeverría</td>\n",
       "    </tr>\n",
       "    <tr>\n",
       "      <th>2</th>\n",
       "      <td>3</td>\n",
       "      <td>Lomas de Zamora</td>\n",
       "    </tr>\n",
       "    <tr>\n",
       "      <th>3</th>\n",
       "      <td>4</td>\n",
       "      <td>Avellaneda</td>\n",
       "    </tr>\n",
       "    <tr>\n",
       "      <th>4</th>\n",
       "      <td>5</td>\n",
       "      <td>San Martín</td>\n",
       "    </tr>\n",
       "    <tr>\n",
       "      <th>5</th>\n",
       "      <td>6</td>\n",
       "      <td>San Vicente</td>\n",
       "    </tr>\n",
       "    <tr>\n",
       "      <th>6</th>\n",
       "      <td>7</td>\n",
       "      <td>La Matanza</td>\n",
       "    </tr>\n",
       "    <tr>\n",
       "      <th>7</th>\n",
       "      <td>8</td>\n",
       "      <td>San Isidro</td>\n",
       "    </tr>\n",
       "    <tr>\n",
       "      <th>8</th>\n",
       "      <td>9</td>\n",
       "      <td>Tigre</td>\n",
       "    </tr>\n",
       "    <tr>\n",
       "      <th>9</th>\n",
       "      <td>10</td>\n",
       "      <td>Quilmes</td>\n",
       "    </tr>\n",
       "    <tr>\n",
       "      <th>10</th>\n",
       "      <td>11</td>\n",
       "      <td>La Plata</td>\n",
       "    </tr>\n",
       "    <tr>\n",
       "      <th>11</th>\n",
       "      <td>12</td>\n",
       "      <td>Lanús</td>\n",
       "    </tr>\n",
       "    <tr>\n",
       "      <th>12</th>\n",
       "      <td>13</td>\n",
       "      <td>Bandfield</td>\n",
       "    </tr>\n",
       "    <tr>\n",
       "      <th>13</th>\n",
       "      <td>14</td>\n",
       "      <td>La Boca</td>\n",
       "    </tr>\n",
       "    <tr>\n",
       "      <th>14</th>\n",
       "      <td>15</td>\n",
       "      <td>Palermo</td>\n",
       "    </tr>\n",
       "    <tr>\n",
       "      <th>15</th>\n",
       "      <td>16</td>\n",
       "      <td>Belgrano</td>\n",
       "    </tr>\n",
       "    <tr>\n",
       "      <th>16</th>\n",
       "      <td>17</td>\n",
       "      <td>Barracas</td>\n",
       "    </tr>\n",
       "    <tr>\n",
       "      <th>17</th>\n",
       "      <td>18</td>\n",
       "      <td>San Telmo</td>\n",
       "    </tr>\n",
       "    <tr>\n",
       "      <th>18</th>\n",
       "      <td>19</td>\n",
       "      <td>Madero</td>\n",
       "    </tr>\n",
       "    <tr>\n",
       "      <th>19</th>\n",
       "      <td>20</td>\n",
       "      <td>Liniers</td>\n",
       "    </tr>\n",
       "    <tr>\n",
       "      <th>20</th>\n",
       "      <td>21</td>\n",
       "      <td>Once</td>\n",
       "    </tr>\n",
       "    <tr>\n",
       "      <th>21</th>\n",
       "      <td>22</td>\n",
       "      <td>Flores</td>\n",
       "    </tr>\n",
       "    <tr>\n",
       "      <th>22</th>\n",
       "      <td>23</td>\n",
       "      <td>Núñez</td>\n",
       "    </tr>\n",
       "  </tbody>\n",
       "</table>\n",
       "</div>"
      ],
      "text/plain": [
       "    id_localidades         descripcion\n",
       "0                1              Ezeiza\n",
       "1                2  Esteban Echeverría\n",
       "2                3     Lomas de Zamora\n",
       "3                4          Avellaneda\n",
       "4                5          San Martín\n",
       "5                6         San Vicente\n",
       "6                7          La Matanza\n",
       "7                8          San Isidro\n",
       "8                9               Tigre\n",
       "9               10             Quilmes\n",
       "10              11            La Plata\n",
       "11              12               Lanús\n",
       "12              13           Bandfield\n",
       "13              14             La Boca\n",
       "14              15             Palermo\n",
       "15              16            Belgrano\n",
       "16              17            Barracas\n",
       "17              18           San Telmo\n",
       "18              19              Madero\n",
       "19              20             Liniers\n",
       "20              21                Once\n",
       "21              22              Flores\n",
       "22              23               Núñez"
      ]
     },
     "execution_count": 10,
     "metadata": {},
     "output_type": "execute_result"
    }
   ],
   "source": [
    "df_localidades = pd.read_sql_query(\"SELECT * FROM localidades;\", engine)\n",
    "df_localidades"
   ]
  },
  {
   "cell_type": "code",
   "execution_count": 11,
   "id": "93b2c6a0",
   "metadata": {},
   "outputs": [
    {
     "data": {
      "application/vnd.microsoft.datawrangler.viewer.v0+json": {
       "columns": [
        {
         "name": "index",
         "rawType": "int64",
         "type": "integer"
        },
        {
         "name": "id_metodos_de_pago",
         "rawType": "int64",
         "type": "integer"
        },
        {
         "name": "descripcion",
         "rawType": "object",
         "type": "string"
        }
       ],
       "ref": "51f8ce0f-8e0c-44db-8348-5aa1ae1b382d",
       "rows": [
        [
         "0",
         "1",
         "Efectivo"
        ],
        [
         "1",
         "2",
         "Transferencia"
        ],
        [
         "2",
         "3",
         "Mercado Pago"
        ],
        [
         "3",
         "4",
         "Crédito"
        ],
        [
         "4",
         "5",
         "Débito"
        ]
       ],
       "shape": {
        "columns": 2,
        "rows": 5
       }
      },
      "text/html": [
       "<div>\n",
       "<style scoped>\n",
       "    .dataframe tbody tr th:only-of-type {\n",
       "        vertical-align: middle;\n",
       "    }\n",
       "\n",
       "    .dataframe tbody tr th {\n",
       "        vertical-align: top;\n",
       "    }\n",
       "\n",
       "    .dataframe thead th {\n",
       "        text-align: right;\n",
       "    }\n",
       "</style>\n",
       "<table border=\"1\" class=\"dataframe\">\n",
       "  <thead>\n",
       "    <tr style=\"text-align: right;\">\n",
       "      <th></th>\n",
       "      <th>id_metodos_de_pago</th>\n",
       "      <th>descripcion</th>\n",
       "    </tr>\n",
       "  </thead>\n",
       "  <tbody>\n",
       "    <tr>\n",
       "      <th>0</th>\n",
       "      <td>1</td>\n",
       "      <td>Efectivo</td>\n",
       "    </tr>\n",
       "    <tr>\n",
       "      <th>1</th>\n",
       "      <td>2</td>\n",
       "      <td>Transferencia</td>\n",
       "    </tr>\n",
       "    <tr>\n",
       "      <th>2</th>\n",
       "      <td>3</td>\n",
       "      <td>Mercado Pago</td>\n",
       "    </tr>\n",
       "    <tr>\n",
       "      <th>3</th>\n",
       "      <td>4</td>\n",
       "      <td>Crédito</td>\n",
       "    </tr>\n",
       "    <tr>\n",
       "      <th>4</th>\n",
       "      <td>5</td>\n",
       "      <td>Débito</td>\n",
       "    </tr>\n",
       "  </tbody>\n",
       "</table>\n",
       "</div>"
      ],
      "text/plain": [
       "   id_metodos_de_pago    descripcion\n",
       "0                   1       Efectivo\n",
       "1                   2  Transferencia\n",
       "2                   3   Mercado Pago\n",
       "3                   4        Crédito\n",
       "4                   5         Débito"
      ]
     },
     "execution_count": 11,
     "metadata": {},
     "output_type": "execute_result"
    }
   ],
   "source": [
    "df_metodos_de_pago = pd.read_sql_query(\"SELECT * FROM metodos_de_pago;\", engine)\n",
    "df_metodos_de_pago"
   ]
  },
  {
   "cell_type": "code",
   "execution_count": 12,
   "id": "fdbab7b0",
   "metadata": {},
   "outputs": [
    {
     "data": {
      "application/vnd.microsoft.datawrangler.viewer.v0+json": {
       "columns": [
        {
         "name": "index",
         "rawType": "int64",
         "type": "integer"
        },
        {
         "name": "id_paises",
         "rawType": "int64",
         "type": "integer"
        },
        {
         "name": "descripcion",
         "rawType": "object",
         "type": "string"
        }
       ],
       "ref": "b08d49cb-2ff0-4fa1-8d9c-4c7ac469ec15",
       "rows": [
        [
         "0",
         "1",
         "Argentina"
        ],
        [
         "1",
         "2",
         "Alemania"
        ],
        [
         "2",
         "3",
         "Armenia"
        ],
        [
         "3",
         "4",
         "Australia"
        ],
        [
         "4",
         "5",
         "Austria"
        ],
        [
         "5",
         "6",
         "Arabia Saudita"
        ],
        [
         "6",
         "7",
         "Brasil"
        ],
        [
         "7",
         "8",
         "Bélgica"
        ],
        [
         "8",
         "9",
         "Bosnia"
        ],
        [
         "9",
         "10",
         "Cánada"
        ],
        [
         "10",
         "11",
         "Chile"
        ],
        [
         "11",
         "12",
         "Colombia"
        ],
        [
         "12",
         "13",
         "China"
        ],
        [
         "13",
         "14",
         "Dinamarca"
        ],
        [
         "14",
         "15",
         "Estados Unidos"
        ],
        [
         "15",
         "16",
         "España"
        ],
        [
         "16",
         "17",
         "Ecuador"
        ],
        [
         "17",
         "18",
         "Emiratos Arabes Unidos"
        ],
        [
         "18",
         "19",
         "Francia"
        ],
        [
         "19",
         "20",
         "Italia"
        ],
        [
         "20",
         "21",
         "Japón"
        ],
        [
         "21",
         "22",
         "México"
        ]
       ],
       "shape": {
        "columns": 2,
        "rows": 22
       }
      },
      "text/html": [
       "<div>\n",
       "<style scoped>\n",
       "    .dataframe tbody tr th:only-of-type {\n",
       "        vertical-align: middle;\n",
       "    }\n",
       "\n",
       "    .dataframe tbody tr th {\n",
       "        vertical-align: top;\n",
       "    }\n",
       "\n",
       "    .dataframe thead th {\n",
       "        text-align: right;\n",
       "    }\n",
       "</style>\n",
       "<table border=\"1\" class=\"dataframe\">\n",
       "  <thead>\n",
       "    <tr style=\"text-align: right;\">\n",
       "      <th></th>\n",
       "      <th>id_paises</th>\n",
       "      <th>descripcion</th>\n",
       "    </tr>\n",
       "  </thead>\n",
       "  <tbody>\n",
       "    <tr>\n",
       "      <th>0</th>\n",
       "      <td>1</td>\n",
       "      <td>Argentina</td>\n",
       "    </tr>\n",
       "    <tr>\n",
       "      <th>1</th>\n",
       "      <td>2</td>\n",
       "      <td>Alemania</td>\n",
       "    </tr>\n",
       "    <tr>\n",
       "      <th>2</th>\n",
       "      <td>3</td>\n",
       "      <td>Armenia</td>\n",
       "    </tr>\n",
       "    <tr>\n",
       "      <th>3</th>\n",
       "      <td>4</td>\n",
       "      <td>Australia</td>\n",
       "    </tr>\n",
       "    <tr>\n",
       "      <th>4</th>\n",
       "      <td>5</td>\n",
       "      <td>Austria</td>\n",
       "    </tr>\n",
       "    <tr>\n",
       "      <th>5</th>\n",
       "      <td>6</td>\n",
       "      <td>Arabia Saudita</td>\n",
       "    </tr>\n",
       "    <tr>\n",
       "      <th>6</th>\n",
       "      <td>7</td>\n",
       "      <td>Brasil</td>\n",
       "    </tr>\n",
       "    <tr>\n",
       "      <th>7</th>\n",
       "      <td>8</td>\n",
       "      <td>Bélgica</td>\n",
       "    </tr>\n",
       "    <tr>\n",
       "      <th>8</th>\n",
       "      <td>9</td>\n",
       "      <td>Bosnia</td>\n",
       "    </tr>\n",
       "    <tr>\n",
       "      <th>9</th>\n",
       "      <td>10</td>\n",
       "      <td>Cánada</td>\n",
       "    </tr>\n",
       "    <tr>\n",
       "      <th>10</th>\n",
       "      <td>11</td>\n",
       "      <td>Chile</td>\n",
       "    </tr>\n",
       "    <tr>\n",
       "      <th>11</th>\n",
       "      <td>12</td>\n",
       "      <td>Colombia</td>\n",
       "    </tr>\n",
       "    <tr>\n",
       "      <th>12</th>\n",
       "      <td>13</td>\n",
       "      <td>China</td>\n",
       "    </tr>\n",
       "    <tr>\n",
       "      <th>13</th>\n",
       "      <td>14</td>\n",
       "      <td>Dinamarca</td>\n",
       "    </tr>\n",
       "    <tr>\n",
       "      <th>14</th>\n",
       "      <td>15</td>\n",
       "      <td>Estados Unidos</td>\n",
       "    </tr>\n",
       "    <tr>\n",
       "      <th>15</th>\n",
       "      <td>16</td>\n",
       "      <td>España</td>\n",
       "    </tr>\n",
       "    <tr>\n",
       "      <th>16</th>\n",
       "      <td>17</td>\n",
       "      <td>Ecuador</td>\n",
       "    </tr>\n",
       "    <tr>\n",
       "      <th>17</th>\n",
       "      <td>18</td>\n",
       "      <td>Emiratos Arabes Unidos</td>\n",
       "    </tr>\n",
       "    <tr>\n",
       "      <th>18</th>\n",
       "      <td>19</td>\n",
       "      <td>Francia</td>\n",
       "    </tr>\n",
       "    <tr>\n",
       "      <th>19</th>\n",
       "      <td>20</td>\n",
       "      <td>Italia</td>\n",
       "    </tr>\n",
       "    <tr>\n",
       "      <th>20</th>\n",
       "      <td>21</td>\n",
       "      <td>Japón</td>\n",
       "    </tr>\n",
       "    <tr>\n",
       "      <th>21</th>\n",
       "      <td>22</td>\n",
       "      <td>México</td>\n",
       "    </tr>\n",
       "  </tbody>\n",
       "</table>\n",
       "</div>"
      ],
      "text/plain": [
       "    id_paises             descripcion\n",
       "0           1               Argentina\n",
       "1           2                Alemania\n",
       "2           3                 Armenia\n",
       "3           4               Australia\n",
       "4           5                 Austria\n",
       "5           6          Arabia Saudita\n",
       "6           7                  Brasil\n",
       "7           8                 Bélgica\n",
       "8           9                  Bosnia\n",
       "9          10                  Cánada\n",
       "10         11                   Chile\n",
       "11         12                Colombia\n",
       "12         13                   China\n",
       "13         14               Dinamarca\n",
       "14         15          Estados Unidos\n",
       "15         16                  España\n",
       "16         17                 Ecuador\n",
       "17         18  Emiratos Arabes Unidos\n",
       "18         19                 Francia\n",
       "19         20                  Italia\n",
       "20         21                   Japón\n",
       "21         22                  México"
      ]
     },
     "execution_count": 12,
     "metadata": {},
     "output_type": "execute_result"
    }
   ],
   "source": [
    "df_paises = pd.read_sql_query(\"SELECT * FROM paises;\", engine)\n",
    "df_paises"
   ]
  },
  {
   "cell_type": "code",
   "execution_count": 13,
   "id": "d6563d1f",
   "metadata": {},
   "outputs": [
    {
     "data": {
      "application/vnd.microsoft.datawrangler.viewer.v0+json": {
       "columns": [
        {
         "name": "index",
         "rawType": "int64",
         "type": "integer"
        },
        {
         "name": "id_proovedores",
         "rawType": "int64",
         "type": "integer"
        },
        {
         "name": "descripcion",
         "rawType": "object",
         "type": "string"
        }
       ],
       "ref": "3ba22a1f-2350-4c82-be1b-ce578617778b",
       "rows": [
        [
         "0",
         "1",
         "Editorial Planeta"
        ],
        [
         "1",
         "2",
         "Penguin Random House"
        ],
        [
         "2",
         "3",
         "Editorial Sudamericana"
        ],
        [
         "3",
         "4",
         "Grupo Anaya"
        ],
        [
         "4",
         "5",
         "HarperCollins Publishers"
        ],
        [
         "5",
         "6",
         "Simon & Schuster"
        ],
        [
         "6",
         "7",
         "Hachette Livre"
        ],
        [
         "7",
         "8",
         "Grupo Santillana"
        ],
        [
         "8",
         "9",
         "Editorial Alfaguara"
        ],
        [
         "9",
         "10",
         "Ediciones B"
        ],
        [
         "10",
         "11",
         "Editorial Norma"
        ],
        [
         "11",
         "12",
         "Fondo de Cultura Económica"
        ],
        [
         "12",
         "13",
         "Tusquets Editores"
        ],
        [
         "13",
         "14",
         "Editorial Anagrama"
        ],
        [
         "14",
         "15",
         "Salamandra Editorial"
        ],
        [
         "15",
         "16",
         "Ediciones Paidós"
        ],
        [
         "16",
         "17",
         "Editorial Crítica"
        ],
        [
         "17",
         "18",
         "Alianza Editorial"
        ],
        [
         "18",
         "19",
         "Distribuidora Libros del Sur"
        ],
        [
         "19",
         "20",
         "Mayorista Papelería Universal"
        ]
       ],
       "shape": {
        "columns": 2,
        "rows": 20
       }
      },
      "text/html": [
       "<div>\n",
       "<style scoped>\n",
       "    .dataframe tbody tr th:only-of-type {\n",
       "        vertical-align: middle;\n",
       "    }\n",
       "\n",
       "    .dataframe tbody tr th {\n",
       "        vertical-align: top;\n",
       "    }\n",
       "\n",
       "    .dataframe thead th {\n",
       "        text-align: right;\n",
       "    }\n",
       "</style>\n",
       "<table border=\"1\" class=\"dataframe\">\n",
       "  <thead>\n",
       "    <tr style=\"text-align: right;\">\n",
       "      <th></th>\n",
       "      <th>id_proovedores</th>\n",
       "      <th>descripcion</th>\n",
       "    </tr>\n",
       "  </thead>\n",
       "  <tbody>\n",
       "    <tr>\n",
       "      <th>0</th>\n",
       "      <td>1</td>\n",
       "      <td>Editorial Planeta</td>\n",
       "    </tr>\n",
       "    <tr>\n",
       "      <th>1</th>\n",
       "      <td>2</td>\n",
       "      <td>Penguin Random House</td>\n",
       "    </tr>\n",
       "    <tr>\n",
       "      <th>2</th>\n",
       "      <td>3</td>\n",
       "      <td>Editorial Sudamericana</td>\n",
       "    </tr>\n",
       "    <tr>\n",
       "      <th>3</th>\n",
       "      <td>4</td>\n",
       "      <td>Grupo Anaya</td>\n",
       "    </tr>\n",
       "    <tr>\n",
       "      <th>4</th>\n",
       "      <td>5</td>\n",
       "      <td>HarperCollins Publishers</td>\n",
       "    </tr>\n",
       "    <tr>\n",
       "      <th>5</th>\n",
       "      <td>6</td>\n",
       "      <td>Simon &amp; Schuster</td>\n",
       "    </tr>\n",
       "    <tr>\n",
       "      <th>6</th>\n",
       "      <td>7</td>\n",
       "      <td>Hachette Livre</td>\n",
       "    </tr>\n",
       "    <tr>\n",
       "      <th>7</th>\n",
       "      <td>8</td>\n",
       "      <td>Grupo Santillana</td>\n",
       "    </tr>\n",
       "    <tr>\n",
       "      <th>8</th>\n",
       "      <td>9</td>\n",
       "      <td>Editorial Alfaguara</td>\n",
       "    </tr>\n",
       "    <tr>\n",
       "      <th>9</th>\n",
       "      <td>10</td>\n",
       "      <td>Ediciones B</td>\n",
       "    </tr>\n",
       "    <tr>\n",
       "      <th>10</th>\n",
       "      <td>11</td>\n",
       "      <td>Editorial Norma</td>\n",
       "    </tr>\n",
       "    <tr>\n",
       "      <th>11</th>\n",
       "      <td>12</td>\n",
       "      <td>Fondo de Cultura Económica</td>\n",
       "    </tr>\n",
       "    <tr>\n",
       "      <th>12</th>\n",
       "      <td>13</td>\n",
       "      <td>Tusquets Editores</td>\n",
       "    </tr>\n",
       "    <tr>\n",
       "      <th>13</th>\n",
       "      <td>14</td>\n",
       "      <td>Editorial Anagrama</td>\n",
       "    </tr>\n",
       "    <tr>\n",
       "      <th>14</th>\n",
       "      <td>15</td>\n",
       "      <td>Salamandra Editorial</td>\n",
       "    </tr>\n",
       "    <tr>\n",
       "      <th>15</th>\n",
       "      <td>16</td>\n",
       "      <td>Ediciones Paidós</td>\n",
       "    </tr>\n",
       "    <tr>\n",
       "      <th>16</th>\n",
       "      <td>17</td>\n",
       "      <td>Editorial Crítica</td>\n",
       "    </tr>\n",
       "    <tr>\n",
       "      <th>17</th>\n",
       "      <td>18</td>\n",
       "      <td>Alianza Editorial</td>\n",
       "    </tr>\n",
       "    <tr>\n",
       "      <th>18</th>\n",
       "      <td>19</td>\n",
       "      <td>Distribuidora Libros del Sur</td>\n",
       "    </tr>\n",
       "    <tr>\n",
       "      <th>19</th>\n",
       "      <td>20</td>\n",
       "      <td>Mayorista Papelería Universal</td>\n",
       "    </tr>\n",
       "  </tbody>\n",
       "</table>\n",
       "</div>"
      ],
      "text/plain": [
       "    id_proovedores                    descripcion\n",
       "0                1              Editorial Planeta\n",
       "1                2           Penguin Random House\n",
       "2                3         Editorial Sudamericana\n",
       "3                4                    Grupo Anaya\n",
       "4                5       HarperCollins Publishers\n",
       "5                6               Simon & Schuster\n",
       "6                7                 Hachette Livre\n",
       "7                8               Grupo Santillana\n",
       "8                9            Editorial Alfaguara\n",
       "9               10                    Ediciones B\n",
       "10              11                Editorial Norma\n",
       "11              12     Fondo de Cultura Económica\n",
       "12              13              Tusquets Editores\n",
       "13              14             Editorial Anagrama\n",
       "14              15           Salamandra Editorial\n",
       "15              16               Ediciones Paidós\n",
       "16              17              Editorial Crítica\n",
       "17              18              Alianza Editorial\n",
       "18              19   Distribuidora Libros del Sur\n",
       "19              20  Mayorista Papelería Universal"
      ]
     },
     "execution_count": 13,
     "metadata": {},
     "output_type": "execute_result"
    }
   ],
   "source": [
    "df_proveedores = pd.read_sql_query(\"SELECT * FROM proveedores;\", engine)\n",
    "df_proveedores"
   ]
  },
  {
   "cell_type": "code",
   "execution_count": 14,
   "id": "750d9a18",
   "metadata": {},
   "outputs": [
    {
     "data": {
      "application/vnd.microsoft.datawrangler.viewer.v0+json": {
       "columns": [
        {
         "name": "index",
         "rawType": "int64",
         "type": "integer"
        },
        {
         "name": "id_ventas",
         "rawType": "int64",
         "type": "integer"
        },
        {
         "name": "id_libro",
         "rawType": "int64",
         "type": "integer"
        },
        {
         "name": "cantidad",
         "rawType": "int64",
         "type": "integer"
        },
        {
         "name": "id_factura",
         "rawType": "int64",
         "type": "integer"
        }
       ],
       "ref": "b4a03994-1d51-4e4b-a00a-6ae5da2e31f0",
       "rows": [
        [
         "0",
         "1",
         "1",
         "1",
         "1"
        ],
        [
         "1",
         "2",
         "2",
         "1",
         "1"
        ],
        [
         "2",
         "3",
         "1",
         "1",
         "2"
        ],
        [
         "3",
         "4",
         "4",
         "1",
         "3"
        ],
        [
         "4",
         "5",
         "11",
         "1",
         "3"
        ],
        [
         "5",
         "6",
         "7",
         "1",
         "3"
        ],
        [
         "6",
         "7",
         "22",
         "1",
         "4"
        ],
        [
         "7",
         "8",
         "20",
         "1",
         "5"
        ],
        [
         "8",
         "9",
         "22",
         "1",
         "5"
        ],
        [
         "9",
         "10",
         "28",
         "1",
         "6"
        ],
        [
         "10",
         "11",
         "29",
         "1",
         "6"
        ],
        [
         "11",
         "12",
         "30",
         "1",
         "6"
        ],
        [
         "12",
         "13",
         "28",
         "1",
         "7"
        ],
        [
         "13",
         "14",
         "17",
         "1",
         "8"
        ],
        [
         "14",
         "15",
         "19",
         "1",
         "8"
        ],
        [
         "15",
         "16",
         "13",
         "1",
         "9"
        ],
        [
         "16",
         "17",
         "35",
         "1",
         "9"
        ],
        [
         "17",
         "18",
         "34",
         "1",
         "9"
        ],
        [
         "18",
         "19",
         "4",
         "1",
         "10"
        ],
        [
         "19",
         "20",
         "22",
         "1",
         "11"
        ],
        [
         "20",
         "21",
         "19",
         "1",
         "11"
        ],
        [
         "21",
         "22",
         "19",
         "1",
         "12"
        ],
        [
         "22",
         "23",
         "21",
         "1",
         "13"
        ],
        [
         "23",
         "24",
         "15",
         "1",
         "13"
        ],
        [
         "24",
         "25",
         "10",
         "1",
         "13"
        ],
        [
         "25",
         "26",
         "17",
         "1",
         "14"
        ],
        [
         "26",
         "27",
         "19",
         "1",
         "14"
        ],
        [
         "27",
         "28",
         "30",
         "1",
         "15"
        ],
        [
         "28",
         "29",
         "32",
         "1",
         "16"
        ],
        [
         "29",
         "30",
         "23",
         "1",
         "16"
        ],
        [
         "30",
         "31",
         "34",
         "1",
         "17"
        ],
        [
         "31",
         "32",
         "35",
         "1",
         "17"
        ],
        [
         "32",
         "33",
         "36",
         "1",
         "17"
        ],
        [
         "33",
         "34",
         "22",
         "1",
         "17"
        ],
        [
         "34",
         "35",
         "2",
         "1",
         "18"
        ],
        [
         "35",
         "36",
         "37",
         "1",
         "19"
        ],
        [
         "36",
         "37",
         "38",
         "1",
         "19"
        ],
        [
         "37",
         "38",
         "39",
         "1",
         "19"
        ],
        [
         "38",
         "39",
         "40",
         "1",
         "20"
        ],
        [
         "39",
         "40",
         "4",
         "1",
         "20"
        ],
        [
         "40",
         "41",
         "46",
         "1",
         "21"
        ],
        [
         "41",
         "42",
         "19",
         "1",
         "22"
        ],
        [
         "42",
         "43",
         "22",
         "1",
         "22"
        ],
        [
         "43",
         "44",
         "28",
         "1",
         "23"
        ],
        [
         "44",
         "45",
         "17",
         "1",
         "23"
        ],
        [
         "45",
         "46",
         "22",
         "1",
         "23"
        ],
        [
         "46",
         "47",
         "1",
         "1",
         "24"
        ],
        [
         "47",
         "48",
         "48",
         "1",
         "25"
        ],
        [
         "48",
         "49",
         "49",
         "1",
         "25"
        ],
        [
         "49",
         "50",
         "41",
         "1",
         "26"
        ]
       ],
       "shape": {
        "columns": 4,
        "rows": 101
       }
      },
      "text/html": [
       "<div>\n",
       "<style scoped>\n",
       "    .dataframe tbody tr th:only-of-type {\n",
       "        vertical-align: middle;\n",
       "    }\n",
       "\n",
       "    .dataframe tbody tr th {\n",
       "        vertical-align: top;\n",
       "    }\n",
       "\n",
       "    .dataframe thead th {\n",
       "        text-align: right;\n",
       "    }\n",
       "</style>\n",
       "<table border=\"1\" class=\"dataframe\">\n",
       "  <thead>\n",
       "    <tr style=\"text-align: right;\">\n",
       "      <th></th>\n",
       "      <th>id_ventas</th>\n",
       "      <th>id_libro</th>\n",
       "      <th>cantidad</th>\n",
       "      <th>id_factura</th>\n",
       "    </tr>\n",
       "  </thead>\n",
       "  <tbody>\n",
       "    <tr>\n",
       "      <th>0</th>\n",
       "      <td>1</td>\n",
       "      <td>1</td>\n",
       "      <td>1</td>\n",
       "      <td>1</td>\n",
       "    </tr>\n",
       "    <tr>\n",
       "      <th>1</th>\n",
       "      <td>2</td>\n",
       "      <td>2</td>\n",
       "      <td>1</td>\n",
       "      <td>1</td>\n",
       "    </tr>\n",
       "    <tr>\n",
       "      <th>2</th>\n",
       "      <td>3</td>\n",
       "      <td>1</td>\n",
       "      <td>1</td>\n",
       "      <td>2</td>\n",
       "    </tr>\n",
       "    <tr>\n",
       "      <th>3</th>\n",
       "      <td>4</td>\n",
       "      <td>4</td>\n",
       "      <td>1</td>\n",
       "      <td>3</td>\n",
       "    </tr>\n",
       "    <tr>\n",
       "      <th>4</th>\n",
       "      <td>5</td>\n",
       "      <td>11</td>\n",
       "      <td>1</td>\n",
       "      <td>3</td>\n",
       "    </tr>\n",
       "    <tr>\n",
       "      <th>...</th>\n",
       "      <td>...</td>\n",
       "      <td>...</td>\n",
       "      <td>...</td>\n",
       "      <td>...</td>\n",
       "    </tr>\n",
       "    <tr>\n",
       "      <th>96</th>\n",
       "      <td>97</td>\n",
       "      <td>37</td>\n",
       "      <td>1</td>\n",
       "      <td>48</td>\n",
       "    </tr>\n",
       "    <tr>\n",
       "      <th>97</th>\n",
       "      <td>98</td>\n",
       "      <td>37</td>\n",
       "      <td>1</td>\n",
       "      <td>49</td>\n",
       "    </tr>\n",
       "    <tr>\n",
       "      <th>98</th>\n",
       "      <td>99</td>\n",
       "      <td>40</td>\n",
       "      <td>1</td>\n",
       "      <td>49</td>\n",
       "    </tr>\n",
       "    <tr>\n",
       "      <th>99</th>\n",
       "      <td>100</td>\n",
       "      <td>4</td>\n",
       "      <td>1</td>\n",
       "      <td>49</td>\n",
       "    </tr>\n",
       "    <tr>\n",
       "      <th>100</th>\n",
       "      <td>101</td>\n",
       "      <td>23</td>\n",
       "      <td>1</td>\n",
       "      <td>50</td>\n",
       "    </tr>\n",
       "  </tbody>\n",
       "</table>\n",
       "<p>101 rows × 4 columns</p>\n",
       "</div>"
      ],
      "text/plain": [
       "     id_ventas  id_libro  cantidad  id_factura\n",
       "0            1         1         1           1\n",
       "1            2         2         1           1\n",
       "2            3         1         1           2\n",
       "3            4         4         1           3\n",
       "4            5        11         1           3\n",
       "..         ...       ...       ...         ...\n",
       "96          97        37         1          48\n",
       "97          98        37         1          49\n",
       "98          99        40         1          49\n",
       "99         100         4         1          49\n",
       "100        101        23         1          50\n",
       "\n",
       "[101 rows x 4 columns]"
      ]
     },
     "execution_count": 14,
     "metadata": {},
     "output_type": "execute_result"
    }
   ],
   "source": [
    "df_ventas = pd.read_sql_query(\"SELECT * FROM ventas;\", engine)\n",
    "df_ventas"
   ]
  },
  {
   "cell_type": "markdown",
   "id": "b264a6f6",
   "metadata": {},
   "source": [
    "# Creación de dataset analítico mediante merges"
   ]
  },
  {
   "cell_type": "markdown",
   "id": "42706396",
   "metadata": {},
   "source": [
    "Para esta ocasión, voy a crear un Dataframe completo, utilizando la función `.merge()` de Pandas."
   ]
  },
  {
   "cell_type": "code",
   "execution_count": 15,
   "id": "6df4d9fb",
   "metadata": {},
   "outputs": [],
   "source": [
    "# Merge principal: ventas + libros + autores + géneros + formatos + paises\n",
    "df_ventas_completo = (\n",
    "    df_ventas\n",
    "    .merge(df_libros, on='id_libro', how='left')\n",
    "    .merge(df_autores, on='id_autores', how='left', suffixes=('_libro', '_autor'))\n",
    "    .merge(df_generos, on='id_generos', how='left')\n",
    "    .merge(df_formatos, on='id_formatos', how='left', suffixes=('_genero', '_formato'))\n",
    "    .merge(df_paises, on='id_paises', how='left')\n",
    "    .merge(df_factura, on='id_factura', how='left')\n",
    "    .merge(df_clientes, left_on='id_cliente', right_on='id_clientes', how='left')\n",
    "    .merge(df_localidades, on='id_localidades', how='left', suffixes=('_pais', '_localidad'))\n",
    ")\n",
    "\n",
    "# Renombrar columnas\n",
    "df_ventas_completo = df_ventas_completo.rename(columns={\n",
    "    'nombre_libro': 'libro',\n",
    "    'nombre_autor': 'autor',\n",
    "    'descripcion_genero': 'genero',\n",
    "    'descripcion_formato': 'formato',\n",
    "    'descripcion_pais': 'pais',\n",
    "    'nombre': 'cliente',\n",
    "    'descripcion_localidad': 'localidad'\n",
    "})"
   ]
  },
  {
   "cell_type": "code",
   "execution_count": 16,
   "id": "5f7d5c12",
   "metadata": {},
   "outputs": [
    {
     "name": "stdout",
     "output_type": "stream",
     "text": [
      "Total de registros: 101\n"
     ]
    }
   ],
   "source": [
    "# Calcular monto de cada venta individual\n",
    "df_ventas_completo['monto_venta'] = df_ventas_completo['cantidad'] * df_ventas_completo['precio']\n",
    "# Extraer año y mes de la fecha\n",
    "df_ventas_completo['año'] = pd.to_datetime(df_ventas_completo['fecha_emision']).dt.year\n",
    "df_ventas_completo['mes'] = pd.to_datetime(df_ventas_completo['fecha_emision']).dt.month\n",
    "df_ventas_completo['mes_nombre'] = pd.to_datetime(df_ventas_completo['fecha_emision']).dt.strftime('%B')\n",
    "\n",
    "print(f\"Total de registros: {len(df_ventas_completo)}\")\n"
   ]
  },
  {
   "cell_type": "markdown",
   "id": "6ae2f2a3",
   "metadata": {},
   "source": [
    "Del Dataframe completo, voy a generar Dataframes agrupados utilizando `.groupby()` para especificar el análisis. Voy a imprimir su contenido."
   ]
  },
  {
   "cell_type": "code",
   "execution_count": 17,
   "id": "d80380ba",
   "metadata": {},
   "outputs": [
    {
     "name": "stdout",
     "output_type": "stream",
     "text": [
      "\n",
      "VENTAS POR GÉNERO:\n"
     ]
    },
    {
     "data": {
      "application/vnd.microsoft.datawrangler.viewer.v0+json": {
       "columns": [
        {
         "name": "genero",
         "rawType": "object",
         "type": "string"
        },
        {
         "name": "cantidad",
         "rawType": "int64",
         "type": "integer"
        },
        {
         "name": "monto_venta",
         "rawType": "float64",
         "type": "float"
        }
       ],
       "ref": "5d501b51-58c8-4d89-ba0d-e046cb33baef",
       "rows": [
        [
         "Novela",
         "54",
         "850300.0"
        ],
        [
         "Fantasía",
         "14",
         "215600.0"
        ],
        [
         "Aventura",
         "10",
         "141000.0"
        ],
        [
         "História",
         "6",
         "117000.0"
        ],
        [
         "Política",
         "10",
         "116500.0"
        ],
        [
         "Infantíl",
         "3",
         "66000.0"
        ],
        [
         "Ciencia",
         "2",
         "56000.0"
        ],
        [
         "Biografía",
         "2",
         "41400.0"
        ]
       ],
       "shape": {
        "columns": 2,
        "rows": 8
       }
      },
      "text/html": [
       "<div>\n",
       "<style scoped>\n",
       "    .dataframe tbody tr th:only-of-type {\n",
       "        vertical-align: middle;\n",
       "    }\n",
       "\n",
       "    .dataframe tbody tr th {\n",
       "        vertical-align: top;\n",
       "    }\n",
       "\n",
       "    .dataframe thead th {\n",
       "        text-align: right;\n",
       "    }\n",
       "</style>\n",
       "<table border=\"1\" class=\"dataframe\">\n",
       "  <thead>\n",
       "    <tr style=\"text-align: right;\">\n",
       "      <th></th>\n",
       "      <th>cantidad</th>\n",
       "      <th>monto_venta</th>\n",
       "    </tr>\n",
       "    <tr>\n",
       "      <th>genero</th>\n",
       "      <th></th>\n",
       "      <th></th>\n",
       "    </tr>\n",
       "  </thead>\n",
       "  <tbody>\n",
       "    <tr>\n",
       "      <th>Novela</th>\n",
       "      <td>54</td>\n",
       "      <td>850300.0</td>\n",
       "    </tr>\n",
       "    <tr>\n",
       "      <th>Fantasía</th>\n",
       "      <td>14</td>\n",
       "      <td>215600.0</td>\n",
       "    </tr>\n",
       "    <tr>\n",
       "      <th>Aventura</th>\n",
       "      <td>10</td>\n",
       "      <td>141000.0</td>\n",
       "    </tr>\n",
       "    <tr>\n",
       "      <th>História</th>\n",
       "      <td>6</td>\n",
       "      <td>117000.0</td>\n",
       "    </tr>\n",
       "    <tr>\n",
       "      <th>Política</th>\n",
       "      <td>10</td>\n",
       "      <td>116500.0</td>\n",
       "    </tr>\n",
       "    <tr>\n",
       "      <th>Infantíl</th>\n",
       "      <td>3</td>\n",
       "      <td>66000.0</td>\n",
       "    </tr>\n",
       "    <tr>\n",
       "      <th>Ciencia</th>\n",
       "      <td>2</td>\n",
       "      <td>56000.0</td>\n",
       "    </tr>\n",
       "    <tr>\n",
       "      <th>Biografía</th>\n",
       "      <td>2</td>\n",
       "      <td>41400.0</td>\n",
       "    </tr>\n",
       "  </tbody>\n",
       "</table>\n",
       "</div>"
      ],
      "text/plain": [
       "           cantidad  monto_venta\n",
       "genero                          \n",
       "Novela           54     850300.0\n",
       "Fantasía         14     215600.0\n",
       "Aventura         10     141000.0\n",
       "História          6     117000.0\n",
       "Política         10     116500.0\n",
       "Infantíl          3      66000.0\n",
       "Ciencia           2      56000.0\n",
       "Biografía         2      41400.0"
      ]
     },
     "execution_count": 17,
     "metadata": {},
     "output_type": "execute_result"
    }
   ],
   "source": [
    "# Ventas por género\n",
    "ventas_por_genero = df_ventas_completo.groupby('genero').agg({\n",
    "    'cantidad': 'sum',\n",
    "    'monto_venta': 'sum'\n",
    "}).sort_values('monto_venta', ascending=False)\n",
    "\n",
    "print(\"\\nVENTAS POR GÉNERO:\")\n",
    "ventas_por_genero"
   ]
  },
  {
   "cell_type": "code",
   "execution_count": 18,
   "id": "73219b35",
   "metadata": {},
   "outputs": [
    {
     "name": "stdout",
     "output_type": "stream",
     "text": [
      "\n",
      " TOP 10 LIBROS MÁS VENDIDOS:\n"
     ]
    },
    {
     "data": {
      "application/vnd.microsoft.datawrangler.viewer.v0+json": {
       "columns": [
        {
         "name": "libro",
         "rawType": "object",
         "type": "string"
        },
        {
         "name": "cantidad",
         "rawType": "int64",
         "type": "integer"
        },
        {
         "name": "monto_venta",
         "rawType": "float64",
         "type": "float"
        }
       ],
       "ref": "f3df3175-721b-49d1-8abf-36bfc327baa1",
       "rows": [
        [
         "Novela de ajedrez",
         "13",
         "149500.0"
        ],
        [
         "Ética práctica",
         "9",
         "108000.0"
        ],
        [
         "El Alquimista",
         "7",
         "79500.0"
        ],
        [
         "Un puente sobre el Drina",
         "6",
         "117000.0"
        ],
        [
         "Rayuela",
         "6",
         "113400.0"
        ],
        [
         "El cuento de la criada",
         "6",
         "93000.0"
        ],
        [
         "Ficciones",
         "6",
         "93000.0"
        ],
        [
         "El ahorcado de Saint-Pholien",
         "5",
         "64000.0"
        ],
        [
         "El pájaro espino",
         "5",
         "99000.0"
        ],
        [
         "Don Casmurro",
         "3",
         "50400.0"
        ]
       ],
       "shape": {
        "columns": 2,
        "rows": 10
       }
      },
      "text/html": [
       "<div>\n",
       "<style scoped>\n",
       "    .dataframe tbody tr th:only-of-type {\n",
       "        vertical-align: middle;\n",
       "    }\n",
       "\n",
       "    .dataframe tbody tr th {\n",
       "        vertical-align: top;\n",
       "    }\n",
       "\n",
       "    .dataframe thead th {\n",
       "        text-align: right;\n",
       "    }\n",
       "</style>\n",
       "<table border=\"1\" class=\"dataframe\">\n",
       "  <thead>\n",
       "    <tr style=\"text-align: right;\">\n",
       "      <th></th>\n",
       "      <th>cantidad</th>\n",
       "      <th>monto_venta</th>\n",
       "    </tr>\n",
       "    <tr>\n",
       "      <th>libro</th>\n",
       "      <th></th>\n",
       "      <th></th>\n",
       "    </tr>\n",
       "  </thead>\n",
       "  <tbody>\n",
       "    <tr>\n",
       "      <th>Novela de ajedrez</th>\n",
       "      <td>13</td>\n",
       "      <td>149500.0</td>\n",
       "    </tr>\n",
       "    <tr>\n",
       "      <th>Ética práctica</th>\n",
       "      <td>9</td>\n",
       "      <td>108000.0</td>\n",
       "    </tr>\n",
       "    <tr>\n",
       "      <th>El Alquimista</th>\n",
       "      <td>7</td>\n",
       "      <td>79500.0</td>\n",
       "    </tr>\n",
       "    <tr>\n",
       "      <th>Un puente sobre el Drina</th>\n",
       "      <td>6</td>\n",
       "      <td>117000.0</td>\n",
       "    </tr>\n",
       "    <tr>\n",
       "      <th>Rayuela</th>\n",
       "      <td>6</td>\n",
       "      <td>113400.0</td>\n",
       "    </tr>\n",
       "    <tr>\n",
       "      <th>El cuento de la criada</th>\n",
       "      <td>6</td>\n",
       "      <td>93000.0</td>\n",
       "    </tr>\n",
       "    <tr>\n",
       "      <th>Ficciones</th>\n",
       "      <td>6</td>\n",
       "      <td>93000.0</td>\n",
       "    </tr>\n",
       "    <tr>\n",
       "      <th>El ahorcado de Saint-Pholien</th>\n",
       "      <td>5</td>\n",
       "      <td>64000.0</td>\n",
       "    </tr>\n",
       "    <tr>\n",
       "      <th>El pájaro espino</th>\n",
       "      <td>5</td>\n",
       "      <td>99000.0</td>\n",
       "    </tr>\n",
       "    <tr>\n",
       "      <th>Don Casmurro</th>\n",
       "      <td>3</td>\n",
       "      <td>50400.0</td>\n",
       "    </tr>\n",
       "  </tbody>\n",
       "</table>\n",
       "</div>"
      ],
      "text/plain": [
       "                              cantidad  monto_venta\n",
       "libro                                              \n",
       "Novela de ajedrez                   13     149500.0\n",
       "Ética práctica                       9     108000.0\n",
       "El Alquimista                        7      79500.0\n",
       "Un puente sobre el Drina             6     117000.0\n",
       "Rayuela                              6     113400.0\n",
       "El cuento de la criada               6      93000.0\n",
       "Ficciones                            6      93000.0\n",
       "El ahorcado de Saint-Pholien         5      64000.0\n",
       "El pájaro espino                     5      99000.0\n",
       "Don Casmurro                         3      50400.0"
      ]
     },
     "execution_count": 18,
     "metadata": {},
     "output_type": "execute_result"
    }
   ],
   "source": [
    "# Top 10 libros más vendidos\n",
    "top_libros = df_ventas_completo.groupby('libro').agg({\n",
    "    'cantidad': 'sum',\n",
    "    'monto_venta': 'sum'\n",
    "}).sort_values('cantidad', ascending=False).head(10)\n",
    "\n",
    "print(\"\\n TOP 10 LIBROS MÁS VENDIDOS:\")\n",
    "top_libros"
   ]
  },
  {
   "cell_type": "code",
   "execution_count": 19,
   "id": "55bcf170",
   "metadata": {},
   "outputs": [
    {
     "name": "stdout",
     "output_type": "stream",
     "text": [
      "\n",
      " TOP 10 AUTORES POR FACTURACIÓN:\n"
     ]
    },
    {
     "data": {
      "application/vnd.microsoft.datawrangler.viewer.v0+json": {
       "columns": [
        {
         "name": "autor",
         "rawType": "object",
         "type": "string"
        },
        {
         "name": "cantidad",
         "rawType": "int64",
         "type": "integer"
        },
        {
         "name": "monto_venta",
         "rawType": "float64",
         "type": "float"
        }
       ],
       "ref": "d0e8c76d-0046-46b7-8e87-8e6592667708",
       "rows": [
        [
         "Stefan Zweig",
         "15",
         "190900.0"
        ],
        [
         "Jorge Luis Borges",
         "8",
         "122600.0"
        ],
        [
         "Ivo Andrić",
         "6",
         "117000.0"
        ],
        [
         "Julio Cortázar",
         "6",
         "113400.0"
        ],
        [
         "Margaret Atwood",
         "7",
         "112200.0"
        ],
        [
         "Peter Singer",
         "9",
         "108000.0"
        ],
        [
         "Colleen McCullough",
         "5",
         "99000.0"
        ],
        [
         "Georges Simenon",
         "7",
         "91000.0"
        ],
        [
         "Jorge Amado",
         "5",
         "85900.0"
        ],
        [
         "Machado de Assis",
         "5",
         "84800.0"
        ]
       ],
       "shape": {
        "columns": 2,
        "rows": 10
       }
      },
      "text/html": [
       "<div>\n",
       "<style scoped>\n",
       "    .dataframe tbody tr th:only-of-type {\n",
       "        vertical-align: middle;\n",
       "    }\n",
       "\n",
       "    .dataframe tbody tr th {\n",
       "        vertical-align: top;\n",
       "    }\n",
       "\n",
       "    .dataframe thead th {\n",
       "        text-align: right;\n",
       "    }\n",
       "</style>\n",
       "<table border=\"1\" class=\"dataframe\">\n",
       "  <thead>\n",
       "    <tr style=\"text-align: right;\">\n",
       "      <th></th>\n",
       "      <th>cantidad</th>\n",
       "      <th>monto_venta</th>\n",
       "    </tr>\n",
       "    <tr>\n",
       "      <th>autor</th>\n",
       "      <th></th>\n",
       "      <th></th>\n",
       "    </tr>\n",
       "  </thead>\n",
       "  <tbody>\n",
       "    <tr>\n",
       "      <th>Stefan Zweig</th>\n",
       "      <td>15</td>\n",
       "      <td>190900.0</td>\n",
       "    </tr>\n",
       "    <tr>\n",
       "      <th>Jorge Luis Borges</th>\n",
       "      <td>8</td>\n",
       "      <td>122600.0</td>\n",
       "    </tr>\n",
       "    <tr>\n",
       "      <th>Ivo Andrić</th>\n",
       "      <td>6</td>\n",
       "      <td>117000.0</td>\n",
       "    </tr>\n",
       "    <tr>\n",
       "      <th>Julio Cortázar</th>\n",
       "      <td>6</td>\n",
       "      <td>113400.0</td>\n",
       "    </tr>\n",
       "    <tr>\n",
       "      <th>Margaret Atwood</th>\n",
       "      <td>7</td>\n",
       "      <td>112200.0</td>\n",
       "    </tr>\n",
       "    <tr>\n",
       "      <th>Peter Singer</th>\n",
       "      <td>9</td>\n",
       "      <td>108000.0</td>\n",
       "    </tr>\n",
       "    <tr>\n",
       "      <th>Colleen McCullough</th>\n",
       "      <td>5</td>\n",
       "      <td>99000.0</td>\n",
       "    </tr>\n",
       "    <tr>\n",
       "      <th>Georges Simenon</th>\n",
       "      <td>7</td>\n",
       "      <td>91000.0</td>\n",
       "    </tr>\n",
       "    <tr>\n",
       "      <th>Jorge Amado</th>\n",
       "      <td>5</td>\n",
       "      <td>85900.0</td>\n",
       "    </tr>\n",
       "    <tr>\n",
       "      <th>Machado de Assis</th>\n",
       "      <td>5</td>\n",
       "      <td>84800.0</td>\n",
       "    </tr>\n",
       "  </tbody>\n",
       "</table>\n",
       "</div>"
      ],
      "text/plain": [
       "                    cantidad  monto_venta\n",
       "autor                                    \n",
       "Stefan Zweig              15     190900.0\n",
       "Jorge Luis Borges          8     122600.0\n",
       "Ivo Andrić                 6     117000.0\n",
       "Julio Cortázar             6     113400.0\n",
       "Margaret Atwood            7     112200.0\n",
       "Peter Singer               9     108000.0\n",
       "Colleen McCullough         5      99000.0\n",
       "Georges Simenon            7      91000.0\n",
       "Jorge Amado                5      85900.0\n",
       "Machado de Assis           5      84800.0"
      ]
     },
     "execution_count": 19,
     "metadata": {},
     "output_type": "execute_result"
    }
   ],
   "source": [
    "# Ventas por autor\n",
    "ventas_por_autor = df_ventas_completo.groupby('autor').agg({\n",
    "    'cantidad': 'sum',\n",
    "    'monto_venta': 'sum'\n",
    "}).sort_values('monto_venta', ascending=False).head(10)\n",
    "\n",
    "print(\"\\n TOP 10 AUTORES POR FACTURACIÓN:\")\n",
    "ventas_por_autor"
   ]
  },
  {
   "cell_type": "code",
   "execution_count": 20,
   "id": "da944f2f",
   "metadata": {},
   "outputs": [
    {
     "name": "stdout",
     "output_type": "stream",
     "text": [
      "\n",
      " VENTAS POR FORMATO:\n"
     ]
    },
    {
     "data": {
      "application/vnd.microsoft.datawrangler.viewer.v0+json": {
       "columns": [
        {
         "name": "formato",
         "rawType": "object",
         "type": "string"
        },
        {
         "name": "cantidad",
         "rawType": "int64",
         "type": "integer"
        },
        {
         "name": "monto_venta",
         "rawType": "float64",
         "type": "float"
        }
       ],
       "ref": "54fdf2a1-407d-4984-a08f-5d67461bbdb5",
       "rows": [
        [
         "Digital",
         "22",
         "260900.0"
        ],
        [
         "Físico",
         "79",
         "1342900.0"
        ]
       ],
       "shape": {
        "columns": 2,
        "rows": 2
       }
      },
      "text/html": [
       "<div>\n",
       "<style scoped>\n",
       "    .dataframe tbody tr th:only-of-type {\n",
       "        vertical-align: middle;\n",
       "    }\n",
       "\n",
       "    .dataframe tbody tr th {\n",
       "        vertical-align: top;\n",
       "    }\n",
       "\n",
       "    .dataframe thead th {\n",
       "        text-align: right;\n",
       "    }\n",
       "</style>\n",
       "<table border=\"1\" class=\"dataframe\">\n",
       "  <thead>\n",
       "    <tr style=\"text-align: right;\">\n",
       "      <th></th>\n",
       "      <th>cantidad</th>\n",
       "      <th>monto_venta</th>\n",
       "    </tr>\n",
       "    <tr>\n",
       "      <th>formato</th>\n",
       "      <th></th>\n",
       "      <th></th>\n",
       "    </tr>\n",
       "  </thead>\n",
       "  <tbody>\n",
       "    <tr>\n",
       "      <th>Digital</th>\n",
       "      <td>22</td>\n",
       "      <td>260900.0</td>\n",
       "    </tr>\n",
       "    <tr>\n",
       "      <th>Físico</th>\n",
       "      <td>79</td>\n",
       "      <td>1342900.0</td>\n",
       "    </tr>\n",
       "  </tbody>\n",
       "</table>\n",
       "</div>"
      ],
      "text/plain": [
       "         cantidad  monto_venta\n",
       "formato                       \n",
       "Digital        22     260900.0\n",
       "Físico         79    1342900.0"
      ]
     },
     "execution_count": 20,
     "metadata": {},
     "output_type": "execute_result"
    }
   ],
   "source": [
    "# Formato físico vs digital\n",
    "ventas_por_formato = df_ventas_completo.groupby('formato').agg({\n",
    "    'cantidad': 'sum',\n",
    "    'monto_venta': 'sum'\n",
    "})\n",
    "\n",
    "print(\"\\n VENTAS POR FORMATO:\")\n",
    "ventas_por_formato"
   ]
  },
  {
   "cell_type": "code",
   "execution_count": 21,
   "id": "c55d1bd1",
   "metadata": {},
   "outputs": [
    {
     "name": "stdout",
     "output_type": "stream",
     "text": [
      "\n",
      " TOP 10 LOCALIDADES POR VENTAS:\n"
     ]
    },
    {
     "data": {
      "application/vnd.microsoft.datawrangler.viewer.v0+json": {
       "columns": [
        {
         "name": "localidad",
         "rawType": "object",
         "type": "string"
        },
        {
         "name": "cantidad",
         "rawType": "int64",
         "type": "integer"
        },
        {
         "name": "monto_venta",
         "rawType": "float64",
         "type": "float"
        }
       ],
       "ref": "3a487db1-1234-4d09-bbed-e81c96e24597",
       "rows": [
        [
         "San Vicente",
         "10",
         "159700.0"
        ],
        [
         "Lomas de Zamora",
         "10",
         "137100.0"
        ],
        [
         "Tigre",
         "7",
         "126900.0"
        ],
        [
         "Bandfield",
         "7",
         "101800.0"
        ],
        [
         "San Isidro",
         "6",
         "100500.0"
        ],
        [
         "Barracas",
         "6",
         "96600.0"
        ],
        [
         "Belgrano",
         "5",
         "95700.0"
        ],
        [
         "Esteban Echeverría",
         "5",
         "95500.0"
        ],
        [
         "Quilmes",
         "5",
         "91400.0"
        ],
        [
         "San Martín",
         "6",
         "90800.0"
        ]
       ],
       "shape": {
        "columns": 2,
        "rows": 10
       }
      },
      "text/html": [
       "<div>\n",
       "<style scoped>\n",
       "    .dataframe tbody tr th:only-of-type {\n",
       "        vertical-align: middle;\n",
       "    }\n",
       "\n",
       "    .dataframe tbody tr th {\n",
       "        vertical-align: top;\n",
       "    }\n",
       "\n",
       "    .dataframe thead th {\n",
       "        text-align: right;\n",
       "    }\n",
       "</style>\n",
       "<table border=\"1\" class=\"dataframe\">\n",
       "  <thead>\n",
       "    <tr style=\"text-align: right;\">\n",
       "      <th></th>\n",
       "      <th>cantidad</th>\n",
       "      <th>monto_venta</th>\n",
       "    </tr>\n",
       "    <tr>\n",
       "      <th>localidad</th>\n",
       "      <th></th>\n",
       "      <th></th>\n",
       "    </tr>\n",
       "  </thead>\n",
       "  <tbody>\n",
       "    <tr>\n",
       "      <th>San Vicente</th>\n",
       "      <td>10</td>\n",
       "      <td>159700.0</td>\n",
       "    </tr>\n",
       "    <tr>\n",
       "      <th>Lomas de Zamora</th>\n",
       "      <td>10</td>\n",
       "      <td>137100.0</td>\n",
       "    </tr>\n",
       "    <tr>\n",
       "      <th>Tigre</th>\n",
       "      <td>7</td>\n",
       "      <td>126900.0</td>\n",
       "    </tr>\n",
       "    <tr>\n",
       "      <th>Bandfield</th>\n",
       "      <td>7</td>\n",
       "      <td>101800.0</td>\n",
       "    </tr>\n",
       "    <tr>\n",
       "      <th>San Isidro</th>\n",
       "      <td>6</td>\n",
       "      <td>100500.0</td>\n",
       "    </tr>\n",
       "    <tr>\n",
       "      <th>Barracas</th>\n",
       "      <td>6</td>\n",
       "      <td>96600.0</td>\n",
       "    </tr>\n",
       "    <tr>\n",
       "      <th>Belgrano</th>\n",
       "      <td>5</td>\n",
       "      <td>95700.0</td>\n",
       "    </tr>\n",
       "    <tr>\n",
       "      <th>Esteban Echeverría</th>\n",
       "      <td>5</td>\n",
       "      <td>95500.0</td>\n",
       "    </tr>\n",
       "    <tr>\n",
       "      <th>Quilmes</th>\n",
       "      <td>5</td>\n",
       "      <td>91400.0</td>\n",
       "    </tr>\n",
       "    <tr>\n",
       "      <th>San Martín</th>\n",
       "      <td>6</td>\n",
       "      <td>90800.0</td>\n",
       "    </tr>\n",
       "  </tbody>\n",
       "</table>\n",
       "</div>"
      ],
      "text/plain": [
       "                    cantidad  monto_venta\n",
       "localidad                                \n",
       "San Vicente               10     159700.0\n",
       "Lomas de Zamora           10     137100.0\n",
       "Tigre                      7     126900.0\n",
       "Bandfield                  7     101800.0\n",
       "San Isidro                 6     100500.0\n",
       "Barracas                   6      96600.0\n",
       "Belgrano                   5      95700.0\n",
       "Esteban Echeverría         5      95500.0\n",
       "Quilmes                    5      91400.0\n",
       "San Martín                 6      90800.0"
      ]
     },
     "execution_count": 21,
     "metadata": {},
     "output_type": "execute_result"
    }
   ],
   "source": [
    "# Ventas por localidad\n",
    "ventas_por_localidad = df_ventas_completo.groupby('localidad').agg({\n",
    "    'cantidad': 'sum',\n",
    "    'monto_venta': 'sum'\n",
    "}).sort_values('monto_venta', ascending=False).head(10)\n",
    "\n",
    "print(\"\\n TOP 10 LOCALIDADES POR VENTAS:\")\n",
    "ventas_por_localidad"
   ]
  },
  {
   "cell_type": "code",
   "execution_count": 22,
   "id": "dbccbd20",
   "metadata": {},
   "outputs": [
    {
     "name": "stdout",
     "output_type": "stream",
     "text": [
      "\n",
      " TOP 10 CLIENTES:\n"
     ]
    },
    {
     "data": {
      "application/vnd.microsoft.datawrangler.viewer.v0+json": {
       "columns": [
        {
         "name": "cliente",
         "rawType": "object",
         "type": "string"
        },
        {
         "name": "Facturas",
         "rawType": "int64",
         "type": "integer"
        },
        {
         "name": "Libros comprados",
         "rawType": "int64",
         "type": "integer"
        },
        {
         "name": "Total gastado",
         "rawType": "float64",
         "type": "float"
        }
       ],
       "ref": "c9deba6e-f9db-493e-894c-82857e59236b",
       "rows": [
        [
         "Laura Sánchez",
         "2",
         "7",
         "108200.0"
        ],
        [
         "Roberto Díaz",
         "2",
         "6",
         "102400.0"
        ],
        [
         "Carlos Rodríguez",
         "2",
         "6",
         "82800.0"
        ],
        [
         "Sofía Torres",
         "2",
         "4",
         "65800.0"
        ],
        [
         "Gustavo Herrera",
         "1",
         "4",
         "64800.0"
        ],
        [
         "Sebastián Ortiz",
         "1",
         "3",
         "59200.0"
        ],
        [
         "Luis Fernández",
         "2",
         "4",
         "59000.0"
        ],
        [
         "Natalia Peralta",
         "1",
         "4",
         "58100.0"
        ],
        [
         "Javier Núñez",
         "1",
         "2",
         "56500.0"
        ],
        [
         "Verónica Cabrera",
         "1",
         "4",
         "54300.0"
        ]
       ],
       "shape": {
        "columns": 3,
        "rows": 10
       }
      },
      "text/html": [
       "<div>\n",
       "<style scoped>\n",
       "    .dataframe tbody tr th:only-of-type {\n",
       "        vertical-align: middle;\n",
       "    }\n",
       "\n",
       "    .dataframe tbody tr th {\n",
       "        vertical-align: top;\n",
       "    }\n",
       "\n",
       "    .dataframe thead th {\n",
       "        text-align: right;\n",
       "    }\n",
       "</style>\n",
       "<table border=\"1\" class=\"dataframe\">\n",
       "  <thead>\n",
       "    <tr style=\"text-align: right;\">\n",
       "      <th></th>\n",
       "      <th>Facturas</th>\n",
       "      <th>Libros comprados</th>\n",
       "      <th>Total gastado</th>\n",
       "    </tr>\n",
       "    <tr>\n",
       "      <th>cliente</th>\n",
       "      <th></th>\n",
       "      <th></th>\n",
       "      <th></th>\n",
       "    </tr>\n",
       "  </thead>\n",
       "  <tbody>\n",
       "    <tr>\n",
       "      <th>Laura Sánchez</th>\n",
       "      <td>2</td>\n",
       "      <td>7</td>\n",
       "      <td>108200.0</td>\n",
       "    </tr>\n",
       "    <tr>\n",
       "      <th>Roberto Díaz</th>\n",
       "      <td>2</td>\n",
       "      <td>6</td>\n",
       "      <td>102400.0</td>\n",
       "    </tr>\n",
       "    <tr>\n",
       "      <th>Carlos Rodríguez</th>\n",
       "      <td>2</td>\n",
       "      <td>6</td>\n",
       "      <td>82800.0</td>\n",
       "    </tr>\n",
       "    <tr>\n",
       "      <th>Sofía Torres</th>\n",
       "      <td>2</td>\n",
       "      <td>4</td>\n",
       "      <td>65800.0</td>\n",
       "    </tr>\n",
       "    <tr>\n",
       "      <th>Gustavo Herrera</th>\n",
       "      <td>1</td>\n",
       "      <td>4</td>\n",
       "      <td>64800.0</td>\n",
       "    </tr>\n",
       "    <tr>\n",
       "      <th>Sebastián Ortiz</th>\n",
       "      <td>1</td>\n",
       "      <td>3</td>\n",
       "      <td>59200.0</td>\n",
       "    </tr>\n",
       "    <tr>\n",
       "      <th>Luis Fernández</th>\n",
       "      <td>2</td>\n",
       "      <td>4</td>\n",
       "      <td>59000.0</td>\n",
       "    </tr>\n",
       "    <tr>\n",
       "      <th>Natalia Peralta</th>\n",
       "      <td>1</td>\n",
       "      <td>4</td>\n",
       "      <td>58100.0</td>\n",
       "    </tr>\n",
       "    <tr>\n",
       "      <th>Javier Núñez</th>\n",
       "      <td>1</td>\n",
       "      <td>2</td>\n",
       "      <td>56500.0</td>\n",
       "    </tr>\n",
       "    <tr>\n",
       "      <th>Verónica Cabrera</th>\n",
       "      <td>1</td>\n",
       "      <td>4</td>\n",
       "      <td>54300.0</td>\n",
       "    </tr>\n",
       "  </tbody>\n",
       "</table>\n",
       "</div>"
      ],
      "text/plain": [
       "                  Facturas  Libros comprados  Total gastado\n",
       "cliente                                                    \n",
       "Laura Sánchez            2                 7       108200.0\n",
       "Roberto Díaz             2                 6       102400.0\n",
       "Carlos Rodríguez         2                 6        82800.0\n",
       "Sofía Torres             2                 4        65800.0\n",
       "Gustavo Herrera          1                 4        64800.0\n",
       "Sebastián Ortiz          1                 3        59200.0\n",
       "Luis Fernández           2                 4        59000.0\n",
       "Natalia Peralta          1                 4        58100.0\n",
       "Javier Núñez             1                 2        56500.0\n",
       "Verónica Cabrera         1                 4        54300.0"
      ]
     },
     "execution_count": 22,
     "metadata": {},
     "output_type": "execute_result"
    }
   ],
   "source": [
    "# Top clientes\n",
    "top_clientes = df_ventas_completo.groupby('cliente').agg({\n",
    "    'id_factura': 'nunique',\n",
    "    'cantidad': 'sum',\n",
    "    'monto_venta': 'sum'\n",
    "}).sort_values('monto_venta', ascending=False).head(10)\n",
    "top_clientes.columns = ['Facturas', 'Libros comprados', 'Total gastado']\n",
    "\n",
    "print(\"\\n TOP 10 CLIENTES:\")\n",
    "top_clientes"
   ]
  },
  {
   "cell_type": "markdown",
   "id": "b081a00d",
   "metadata": {},
   "source": [
    "# Gráficos\n",
    "En esta sección, analizaré los datos con graficos de `matplotlib`, ya que es tiene buena compatibilidad con notebooks."
   ]
  },
  {
   "cell_type": "code",
   "execution_count": 36,
   "id": "42b5b99c",
   "metadata": {},
   "outputs": [],
   "source": [
    "import matplotlib.pyplot as plt\n",
    "import matplotlib.ticker as ticker"
   ]
  },
  {
   "cell_type": "code",
   "execution_count": null,
   "id": "388dc56e",
   "metadata": {},
   "outputs": [
    {
     "data": {
      "image/png": "[encoded data removed]",
      "text/plain": [
       "<Figure size 1000x600 with 1 Axes>"
      ]
     },
     "metadata": {},
     "output_type": "display_data"
    }
   ],
   "source": [
    "# Gráfico 1: Facturación por género.\n",
    "plt.figure(figsize=(10, 6))\n",
    "bars = plt.barh(ventas_por_genero.index, ventas_por_genero['monto_venta'], \n",
    "                color='#4682b4', edgecolor='#2c5282', linewidth=1.5)\n",
    "\n",
    "plt.title('Facturación por Género', fontsize=16, fontweight='bold', pad=20)\n",
    "plt.xlabel('Monto ($)', fontsize=12, fontweight='bold')\n",
    "plt.grid(axis='x', alpha=0.3, linestyle='--', linewidth=0.8)\n",
    "\n",
    "# Quitar bordes innecesarios\n",
    "ax = plt.gca()\n",
    "ax.spines['top'].set_visible(False)\n",
    "ax.spines['right'].set_visible(False)\n",
    "\n",
    "plt.tight_layout()\n",
    "plt.show()"
   ]
  },
  {
   "cell_type": "markdown",
   "id": "431a79a0",
   "metadata": {},
   "source": [
    "**Observación:** El gráfico deja claro que el género mas vendido es la novela, con $800,000."
   ]
  },
  {
   "cell_type": "code",
   "execution_count": null,
   "id": "d8bf5be6",
   "metadata": {},
   "outputs": [
    {
     "data": {
      "image/png": "[encoded data removed]",
      "text/plain": [
       "<Figure size 1200x700 with 1 Axes>"
      ]
     },
     "metadata": {},
     "output_type": "display_data"
    }
   ],
   "source": [
    "# Gráfico 2: Top 10 Libros más vendidos\n",
    "fig, ax = plt.subplots(figsize=(12, 7))\n",
    "\n",
    "# Barras con degradado de coral\n",
    "bars = ax.barh(top_libros.index, top_libros['cantidad'], \n",
    "               color='#FF6B6B', edgecolor='#C92A2A', linewidth=1.5, alpha=0.85)\n",
    "\n",
    "ax.set_title('Top 10 Libros Más Vendidos', fontsize=20, fontweight='bold', pad=25, color='#2d3436')\n",
    "ax.set_xlabel('Cantidad vendida', fontsize=14, fontweight='bold', color='#2d3436')\n",
    "\n",
    "# Grid más visible\n",
    "ax.grid(axis='x', alpha=0.4, linestyle='-', linewidth=0.5, color='gray')\n",
    "ax.set_axisbelow(True)\n",
    "\n",
    "# Bordes limpios\n",
    "ax.spines['top'].set_visible(False)\n",
    "ax.spines['right'].set_visible(False)\n",
    "ax.spines['left'].set_color('#636e72')\n",
    "ax.spines['bottom'].set_color('#636e72')\n",
    "\n",
    "# Números en las barras\n",
    "for i, (idx, val) in enumerate(top_libros['cantidad'].items()):\n",
    "    ax.text(val + 0.15, i, f'{int(val)}', va='center', ha='left', \n",
    "            fontsize=11, fontweight='bold', color='#2d3436')\n",
    "\n",
    "ax.set_xlim(0, top_libros['cantidad'].max() * 1.12)\n",
    "\n",
    "plt.tight_layout()\n",
    "plt.show()"
   ]
  },
  {
   "cell_type": "markdown",
   "id": "aa6ee165",
   "metadata": {},
   "source": [
    "**Observación:** La Novela de Ajedrez es el libro mas vendido, con un total de 13 unidades vendidas. Le sigue Ética Práctica con 9 unidades."
   ]
  },
  {
   "cell_type": "code",
   "execution_count": null,
   "id": "6870acbd",
   "metadata": {},
   "outputs": [
    {
     "data": {
      "image/png": "[encoded data removed]",
      "text/plain": [
       "<Figure size 1000x700 with 1 Axes>"
      ]
     },
     "metadata": {},
     "output_type": "display_data"
    }
   ],
   "source": [
    "# Gráfico 3: Ventas Físico vs Digital\n",
    "fig, ax = plt.subplots(figsize=(10, 7))\n",
    "\n",
    "# Paleta de colores moderna\n",
    "colors = ['#FF8C42', '#4A90E2']  # Naranja vibrante y azul\n",
    "explode = (0.08, 0)\n",
    "\n",
    "wedges, texts, autotexts = ax.pie(\n",
    "    ventas_por_formato['monto_venta'], \n",
    "    labels=ventas_por_formato.index,\n",
    "    autopct='%1.1f%%',\n",
    "    startangle=90,\n",
    "    colors=colors,\n",
    "    explode=explode,\n",
    "    wedgeprops={'edgecolor': 'white', 'linewidth': 2, 'antialiased': True}\n",
    ")\n",
    "\n",
    "# Estilo de porcentajes\n",
    "for autotext in autotexts:\n",
    "    autotext.set_color('white')\n",
    "    autotext.set_fontsize(16)\n",
    "    autotext.set_fontweight('bold')\n",
    "\n",
    "# Estilo de etiquetas\n",
    "for text in texts:\n",
    "    text.set_fontsize(15)\n",
    "    text.set_fontweight('bold')\n",
    "    text.set_color('#2d3436')\n",
    "\n",
    "ax.set_title('Distribución de Ventas: Físico vs Digital', \n",
    "             fontsize=20, fontweight='bold', pad=25, color='#2d3436')\n",
    "\n",
    "plt.tight_layout()\n",
    "plt.show()"
   ]
  },
  {
   "cell_type": "markdown",
   "id": "d001a46b",
   "metadata": {},
   "source": [
    "**Observación:** El formato físico domina claramente con el 87% de las ventas totales."
   ]
  },
  {
   "cell_type": "code",
   "execution_count": null,
   "id": "744d3bce",
   "metadata": {},
   "outputs": [
    {
     "data": {
      "image/png": "[encoded data removed]",
      "text/plain": [
       "<Figure size 1200x800 with 1 Axes>"
      ]
     },
     "metadata": {},
     "output_type": "display_data"
    }
   ],
   "source": [
    "# Gráfico 4: Top 8 ventas por autor\n",
    "fig, ax = plt.subplots(figsize=(12, 8))\n",
    "\n",
    "# Color verde más vibrante\n",
    "bars = ax.barh(ventas_por_autor.head(8).index, ventas_por_autor.head(8)['monto_venta'], \n",
    "               color='#52b788', edgecolor='#2d6a4f', linewidth=1.5, alpha=0.9)\n",
    "\n",
    "ax.set_title('Top 8 Autores por Facturación', fontsize=20, fontweight='bold', pad=25, color='#2d3436')\n",
    "ax.set_xlabel('Monto ($)', fontsize=14, fontweight='bold', color='#2d3436')\n",
    "\n",
    "# Grid más visible\n",
    "ax.grid(axis='x', alpha=0.4, linestyle='-', linewidth=0.5, color='gray')\n",
    "ax.set_axisbelow(True)\n",
    "\n",
    "# Bordes limpios\n",
    "ax.spines['top'].set_visible(False)\n",
    "ax.spines['right'].set_visible(False)\n",
    "ax.spines['left'].set_color('#636e72')\n",
    "ax.spines['bottom'].set_color('#636e72')\n",
    "\n",
    "# Formatear números\n",
    "ax.xaxis.set_major_formatter(ticker.FuncFormatter(lambda x, p: f'${x/1000:.0f}K'))\n",
    "\n",
    "# Valores en las barras\n",
    "for i, (idx, val) in enumerate(ventas_por_autor.head(8)['monto_venta'].items()):\n",
    "    ax.text(val + (ventas_por_autor.head(8)['monto_venta'].max() * 0.02), i, \n",
    "            f'${val/1000:.0f}K', va='center', ha='left',\n",
    "            fontsize=11, fontweight='bold', color='#2d3436')\n",
    "\n",
    "ax.set_xlim(0, ventas_por_autor.head(8)['monto_venta'].max() * 1.18)\n",
    "\n",
    "plt.tight_layout()\n",
    "plt.show()"
   ]
  },
  {
   "cell_type": "markdown",
   "id": "df6bc899",
   "metadata": {},
   "source": [
    "**Observación:** El austriaco Stefan Zweig es el autor que lidera en la ventas con diferencia, con $191,000."
   ]
  },
  {
   "cell_type": "code",
   "execution_count": 38,
   "id": "da822269",
   "metadata": {},
   "outputs": [
    {
     "data": {
      "image/png": "[encoded data removed]",
      "text/plain": [
       "<Figure size 1300x800 with 1 Axes>"
      ]
     },
     "metadata": {},
     "output_type": "display_data"
    }
   ],
   "source": [
    "# Gráfico 5: Top 8 ventas por localidad\n",
    "fig, ax = plt.subplots(figsize=(13, 8))\n",
    "\n",
    "# Color púrpura más vibrante\n",
    "bars = ax.bar(range(len(ventas_por_localidad.head(8))), ventas_por_localidad.head(8)['cantidad'], \n",
    "              color='#9b59b6', edgecolor='#6c3483', linewidth=1.5, alpha=0.85)\n",
    "\n",
    "ax.set_title('Top 8 Localidades por Unidades Vendidas', fontsize=20, fontweight='bold', pad=25, color='#2d3436')\n",
    "ax.set_xlabel('Localidad', fontsize=14, fontweight='bold', color='#2d3436')\n",
    "ax.set_ylabel('Unidades', fontsize=14, fontweight='bold', color='#2d3436')\n",
    "\n",
    "# Etiquetas del eje x\n",
    "ax.set_xticks(range(len(ventas_por_localidad.head(8))))\n",
    "ax.set_xticklabels(ventas_por_localidad.head(8).index, rotation=45, ha='right', fontsize=12)\n",
    "\n",
    "# Grid horizontal\n",
    "ax.grid(axis='y', alpha=0.4, linestyle='-', linewidth=0.5, color='gray')\n",
    "ax.set_axisbelow(True)\n",
    "\n",
    "# Bordes limpios\n",
    "ax.spines['top'].set_visible(False)\n",
    "ax.spines['right'].set_visible(False)\n",
    "ax.spines['left'].set_color('#636e72')\n",
    "ax.spines['bottom'].set_color('#636e72')\n",
    "\n",
    "# Valores encima de las barras\n",
    "for i, val in enumerate(ventas_por_localidad.head(8)['cantidad']):\n",
    "    ax.text(i, val + 0.2, f'{int(val)}', ha='center', va='bottom', \n",
    "            fontsize=11, fontweight='bold', color='#2d3436')\n",
    "\n",
    "plt.tight_layout()\n",
    "plt.show()"
   ]
  },
  {
   "cell_type": "markdown",
   "id": "3cafb196",
   "metadata": {},
   "source": [
    "**Observación:** San Vicente y Lomas de Zamora son los municipios que lideran las ventas, con 10 cada uno."
   ]
  },
  {
   "cell_type": "markdown",
   "id": "0779536b",
   "metadata": {},
   "source": [
    "# Conclusiones"
   ]
  },
  {
   "cell_type": "markdown",
   "id": "c0f9bd31",
   "metadata": {},
   "source": [
    "**Género más rentable**\n",
    "- Las **novelas** concentran el mayor volumen de ventas y facturación.\n",
    "- Representan el segmento más rentable del catálogo.\n",
    "- **Acción:** incrementar el stock y la promoción de este género.\n",
    "\n",
    "**Formato preferido**\n",
    "- El **formato físico** domina con el 83,7% de las ventas.\n",
    "- El digital alcanza solo el 16,3%, mostrando un mercado poco explotado.\n",
    "- **Oportunidad:** impulsar el formato digital mediante descuentos y campañas específicas.\n",
    "\n",
    "**Autores destacados**\n",
    "- **Stefan Zweig** lidera con **$191.000** en ventas.\n",
    "- Los siguientes siete autores presentan cifras similares (entre $90.000 y $125.000).\n",
    "- **Estrategia:** ampliar el catálogo y la visibilidad de estos autores.\n",
    "\n",
    "**Distribución geográfica**\n",
    "- **San Vicente** registra la mayor cantidad de ventas.\n",
    "- Existen **zonas con bajo rendimiento** donde puede crecer la demanda.\n",
    "- **Acción:** desarrollar campañas de marketing segmentadas por localidad.\n",
    "\n",
    "**Clientes**\n",
    "- Se cuenta con una base de **40 clientes activos**.\n",
    "- El **cliente principal** registró un gasto de **$108.200**.\n",
    "- **Oportunidad:** implementar un **programa de fidelización** para retención y aumento del ticket promedio"
   ]
  }
 ],
 "metadata": {
  "kernelspec": {
   "display_name": "Python 3",
   "language": "python",
   "name": "python3"
  },
  "language_info": {
   "codemirror_mode": {
    "name": "ipython",
    "version": 3
   },
   "file_extension": ".py",
   "mimetype": "text/x-python",
   "name": "python",
   "nbconvert_exporter": "python",
   "pygments_lexer": "ipython3",
   "version": "3.12.2"
  }
 },
 "nbformat": 4,
 "nbformat_minor": 5
}
